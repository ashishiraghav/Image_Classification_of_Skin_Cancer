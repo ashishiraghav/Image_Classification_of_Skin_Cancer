{
  "nbformat": 4,
  "nbformat_minor": 0,
  "metadata": {
    "colab": {
      "name": "CNN",
      "provenance": []
    },
    "kernelspec": {
      "name": "python3",
      "display_name": "Python 3"
    },
    "language_info": {
      "name": "python"
    }
  },
  "cells": [
    {
      "cell_type": "markdown",
      "source": [
        "# **Convolutional Neural Network**"
      ],
      "metadata": {
        "id": "kQZbePA8E0tJ"
      }
    },
    {
      "cell_type": "code",
      "source": [
        "# importing all important libraries\n",
        "import pandas as pd \n",
        "import numpy as np\n",
        "import matplotlib.pyplot as plt\n",
        "from sklearn.model_selection import train_test_split\n",
        "import keras\n",
        "from keras.utils.np_utils import to_categorical # used for convertinglabels to one-hot-encoding\n",
        "from keras.models import Sequential\n",
        "from keras.layers import Dense, Dropout, Flatten, Conv2D, MaxPool2D\n",
        "from keras import backend as K\n",
        "import itertools\n",
        "from keras.utils.np_utils import to_categorical # convert to one-hot-encoding\n",
        "from sklearn.metrics import classification_report, confusion_matrix"
      ],
      "metadata": {
        "id": "wg1B3l9JE2_m"
      },
      "execution_count": null,
      "outputs": []
    },
    {
      "cell_type": "code",
      "source": [
        "from google.colab import drive\n",
        "drive.mount('/content/drive')"
      ],
      "metadata": {
        "colab": {
          "base_uri": "https://localhost:8080/"
        },
        "id": "X_Ty4zHyFql0",
        "outputId": "0335811b-61e1-4578-e0e2-02fa9a70606f"
      },
      "execution_count": null,
      "outputs": [
        {
          "output_type": "stream",
          "name": "stdout",
          "text": [
            "Mounted at /content/drive\n"
          ]
        }
      ]
    },
    {
      "cell_type": "code",
      "source": [
        "df3=pd.read_csv(\"/content/drive/MyDrive/df3_final.csv\")  # importing data from google drive"
      ],
      "metadata": {
        "id": "4M4cObTTGVJ9"
      },
      "execution_count": null,
      "outputs": []
    },
    {
      "cell_type": "code",
      "source": [
        "X = df3.iloc[:,7:3079].values\n",
        "y = df3.iloc[:, 3079].values\n",
        "np.random.seed(3)\n",
        "X_train, X_test, y_train, y_test = train_test_split(X, y, test_size=0.20,random_state =0)"
      ],
      "metadata": {
        "id": "R4gKoiWwGicl"
      },
      "execution_count": null,
      "outputs": []
    },
    {
      "cell_type": "code",
      "source": [
        "X_train=X_train/255.0\n",
        "X_test=X_test/255.0"
      ],
      "metadata": {
        "id": "gtCKdh7XGwse"
      },
      "execution_count": null,
      "outputs": []
    },
    {
      "cell_type": "code",
      "source": [
        "X_train =X_train.reshape((X_train.shape[0]),32,32,3) # resizeing of the data\n",
        "X_test=X_test.reshape((X_test.shape[0]),32,32,3)"
      ],
      "metadata": {
        "id": "5FTAk1HPG4VG"
      },
      "execution_count": null,
      "outputs": []
    },
    {
      "cell_type": "code",
      "source": [
        "X_test.shape"
      ],
      "metadata": {
        "colab": {
          "base_uri": "https://localhost:8080/"
        },
        "id": "x3M-O2eUIoua",
        "outputId": "a07645d0-f02c-4007-d7cc-6b57c9cf3250"
      },
      "execution_count": null,
      "outputs": [
        {
          "output_type": "execute_result",
          "data": {
            "text/plain": [
              "(2003, 32, 32, 3)"
            ]
          },
          "metadata": {},
          "execution_count": 34
        }
      ]
    },
    {
      "cell_type": "markdown",
      "source": [
        "Encode categorical features as a one-hot numeric array\n"
      ],
      "metadata": {
        "id": "1Ivpx3NLKjWa"
      }
    },
    {
      "cell_type": "code",
      "source": [
        "y_train_one_hot = to_categorical(y_train)\n",
        "y_test_one_hot = to_categorical(y_test)"
      ],
      "metadata": {
        "id": "WQ0pp0pfKk_t"
      },
      "execution_count": null,
      "outputs": []
    },
    {
      "cell_type": "code",
      "source": [
        "input_shape = (32,32, 3)\n",
        "num_classes = 7\n",
        "model = Sequential()\n",
        "model.add(Conv2D(32, kernel_size=(3, 3),activation='relu',padding = 'Same',input_shape=input_shape))\n",
        "model.add(MaxPool2D(pool_size = (2, 2)))\n",
        "model.add(Dropout(0.25))\n",
        "model.add(Conv2D(128, (3, 3), activation='relu',padding = 'Same'))\n",
        "model.add(MaxPool2D(pool_size=(2, 2)))\n",
        "model.add(Dropout(0.25))\n",
        "model.add(Flatten())\n",
        "model.add(Dense(256, activation='relu'))\n",
        "model.add(Dropout(0.5))\n",
        "model.add(Dense(num_classes, activation='softmax'))\n",
        "model.summary()"
      ],
      "metadata": {
        "colab": {
          "base_uri": "https://localhost:8080/"
        },
        "id": "Mv1LDzxIKxxX",
        "outputId": "804bdc8e-7806-4a96-cdb1-87f8ebba6517"
      },
      "execution_count": null,
      "outputs": [
        {
          "output_type": "stream",
          "name": "stdout",
          "text": [
            "Model: \"sequential_1\"\n",
            "_________________________________________________________________\n",
            " Layer (type)                Output Shape              Param #   \n",
            "=================================================================\n",
            " conv2d_2 (Conv2D)           (None, 32, 32, 32)        896       \n",
            "                                                                 \n",
            " max_pooling2d_2 (MaxPooling  (None, 16, 16, 32)       0         \n",
            " 2D)                                                             \n",
            "                                                                 \n",
            " dropout_3 (Dropout)         (None, 16, 16, 32)        0         \n",
            "                                                                 \n",
            " conv2d_3 (Conv2D)           (None, 16, 16, 128)       36992     \n",
            "                                                                 \n",
            " max_pooling2d_3 (MaxPooling  (None, 8, 8, 128)        0         \n",
            " 2D)                                                             \n",
            "                                                                 \n",
            " dropout_4 (Dropout)         (None, 8, 8, 128)         0         \n",
            "                                                                 \n",
            " flatten_1 (Flatten)         (None, 8192)              0         \n",
            "                                                                 \n",
            " dense_2 (Dense)             (None, 256)               2097408   \n",
            "                                                                 \n",
            " dropout_5 (Dropout)         (None, 256)               0         \n",
            "                                                                 \n",
            " dense_3 (Dense)             (None, 7)                 1799      \n",
            "                                                                 \n",
            "=================================================================\n",
            "Total params: 2,137,095\n",
            "Trainable params: 2,137,095\n",
            "Non-trainable params: 0\n",
            "_________________________________________________________________\n"
          ]
        }
      ]
    },
    {
      "cell_type": "code",
      "source": [
        "model.compile(optimizer = 'adam' , loss = \"categorical_crossentropy\",metrics=[\"accuracy\"])\n",
        "epochs = 50\n",
        "batch_size = 10\n",
        "history = model.fit(X_train,y_train_one_hot, batch_size=batch_size,epochs = epochs, validation_split=0.1)"
      ],
      "metadata": {
        "colab": {
          "base_uri": "https://localhost:8080/"
        },
        "id": "ckJ5CHoqLBFV",
        "outputId": "308ebf4e-9c76-4657-c69c-8a291e9bf0e1"
      },
      "execution_count": null,
      "outputs": [
        {
          "output_type": "stream",
          "name": "stdout",
          "text": [
            "Epoch 1/50\n",
            "721/721 [==============================] - 34s 47ms/step - loss: 0.9854 - accuracy: 0.6642 - val_loss: 0.8729 - val_accuracy: 0.6870\n",
            "Epoch 2/50\n",
            "721/721 [==============================] - 34s 47ms/step - loss: 0.9070 - accuracy: 0.6777 - val_loss: 0.8318 - val_accuracy: 0.6870\n",
            "Epoch 3/50\n",
            "721/721 [==============================] - 33s 46ms/step - loss: 0.8622 - accuracy: 0.6865 - val_loss: 0.7856 - val_accuracy: 0.7095\n",
            "Epoch 4/50\n",
            "721/721 [==============================] - 34s 47ms/step - loss: 0.8319 - accuracy: 0.6965 - val_loss: 0.8424 - val_accuracy: 0.6983\n",
            "Epoch 5/50\n",
            "721/721 [==============================] - 36s 49ms/step - loss: 0.7991 - accuracy: 0.7010 - val_loss: 0.7306 - val_accuracy: 0.7269\n",
            "Epoch 6/50\n",
            "721/721 [==============================] - 34s 47ms/step - loss: 0.7663 - accuracy: 0.7144 - val_loss: 0.7570 - val_accuracy: 0.7369\n",
            "Epoch 7/50\n",
            "721/721 [==============================] - 33s 46ms/step - loss: 0.7587 - accuracy: 0.7160 - val_loss: 0.7399 - val_accuracy: 0.7431\n",
            "Epoch 8/50\n",
            "721/721 [==============================] - 33s 45ms/step - loss: 0.7422 - accuracy: 0.7254 - val_loss: 0.7160 - val_accuracy: 0.7357\n",
            "Epoch 9/50\n",
            "721/721 [==============================] - 34s 47ms/step - loss: 0.7131 - accuracy: 0.7362 - val_loss: 0.6826 - val_accuracy: 0.7444\n",
            "Epoch 10/50\n",
            "721/721 [==============================] - 33s 45ms/step - loss: 0.7084 - accuracy: 0.7359 - val_loss: 0.6922 - val_accuracy: 0.7506\n",
            "Epoch 11/50\n",
            "721/721 [==============================] - 35s 49ms/step - loss: 0.6866 - accuracy: 0.7470 - val_loss: 0.6770 - val_accuracy: 0.7631\n",
            "Epoch 12/50\n",
            "721/721 [==============================] - 33s 46ms/step - loss: 0.6705 - accuracy: 0.7495 - val_loss: 0.6589 - val_accuracy: 0.7519\n",
            "Epoch 13/50\n",
            "721/721 [==============================] - 34s 47ms/step - loss: 0.6474 - accuracy: 0.7569 - val_loss: 0.6584 - val_accuracy: 0.7569\n",
            "Epoch 14/50\n",
            "721/721 [==============================] - 35s 48ms/step - loss: 0.6487 - accuracy: 0.7602 - val_loss: 0.6906 - val_accuracy: 0.7581\n",
            "Epoch 15/50\n",
            "721/721 [==============================] - 33s 46ms/step - loss: 0.6250 - accuracy: 0.7628 - val_loss: 0.6971 - val_accuracy: 0.7469\n",
            "Epoch 16/50\n",
            "721/721 [==============================] - 34s 47ms/step - loss: 0.6132 - accuracy: 0.7667 - val_loss: 0.6667 - val_accuracy: 0.7693\n",
            "Epoch 17/50\n",
            "721/721 [==============================] - 34s 47ms/step - loss: 0.6187 - accuracy: 0.7649 - val_loss: 0.6504 - val_accuracy: 0.7544\n",
            "Epoch 18/50\n",
            "721/721 [==============================] - 33s 46ms/step - loss: 0.5961 - accuracy: 0.7700 - val_loss: 0.6537 - val_accuracy: 0.7706\n",
            "Epoch 19/50\n",
            "721/721 [==============================] - 34s 47ms/step - loss: 0.5856 - accuracy: 0.7860 - val_loss: 0.6585 - val_accuracy: 0.7581\n",
            "Epoch 20/50\n",
            "721/721 [==============================] - 33s 46ms/step - loss: 0.5823 - accuracy: 0.7828 - val_loss: 0.6761 - val_accuracy: 0.7731\n",
            "Epoch 21/50\n",
            "721/721 [==============================] - 34s 47ms/step - loss: 0.5528 - accuracy: 0.7920 - val_loss: 0.6732 - val_accuracy: 0.7581\n",
            "Epoch 22/50\n",
            "721/721 [==============================] - 33s 46ms/step - loss: 0.5519 - accuracy: 0.7921 - val_loss: 0.6489 - val_accuracy: 0.7756\n",
            "Epoch 23/50\n",
            "721/721 [==============================] - 33s 46ms/step - loss: 0.5440 - accuracy: 0.7967 - val_loss: 0.6825 - val_accuracy: 0.7481\n",
            "Epoch 24/50\n",
            "721/721 [==============================] - 33s 45ms/step - loss: 0.5224 - accuracy: 0.8007 - val_loss: 0.6693 - val_accuracy: 0.7706\n",
            "Epoch 25/50\n",
            "721/721 [==============================] - 32s 45ms/step - loss: 0.5031 - accuracy: 0.8076 - val_loss: 0.6635 - val_accuracy: 0.7743\n",
            "Epoch 26/50\n",
            "721/721 [==============================] - 33s 46ms/step - loss: 0.5208 - accuracy: 0.8033 - val_loss: 0.6467 - val_accuracy: 0.7731\n",
            "Epoch 27/50\n",
            "721/721 [==============================] - 36s 51ms/step - loss: 0.5209 - accuracy: 0.8039 - val_loss: 0.6763 - val_accuracy: 0.7706\n",
            "Epoch 28/50\n",
            "721/721 [==============================] - 33s 46ms/step - loss: 0.4969 - accuracy: 0.8133 - val_loss: 0.6822 - val_accuracy: 0.7718\n",
            "Epoch 29/50\n",
            "721/721 [==============================] - 33s 46ms/step - loss: 0.4955 - accuracy: 0.8085 - val_loss: 0.6569 - val_accuracy: 0.7731\n",
            "Epoch 30/50\n",
            "721/721 [==============================] - 33s 46ms/step - loss: 0.4715 - accuracy: 0.8251 - val_loss: 0.6740 - val_accuracy: 0.7693\n",
            "Epoch 31/50\n",
            "721/721 [==============================] - 34s 47ms/step - loss: 0.4717 - accuracy: 0.8209 - val_loss: 0.6768 - val_accuracy: 0.7718\n",
            "Epoch 32/50\n",
            "721/721 [==============================] - 34s 48ms/step - loss: 0.4597 - accuracy: 0.8275 - val_loss: 0.7594 - val_accuracy: 0.7531\n",
            "Epoch 33/50\n",
            "721/721 [==============================] - 34s 47ms/step - loss: 0.4583 - accuracy: 0.8268 - val_loss: 0.6432 - val_accuracy: 0.7793\n",
            "Epoch 34/50\n",
            "721/721 [==============================] - 33s 46ms/step - loss: 0.4412 - accuracy: 0.8319 - val_loss: 0.6849 - val_accuracy: 0.7643\n",
            "Epoch 35/50\n",
            "721/721 [==============================] - 33s 46ms/step - loss: 0.4382 - accuracy: 0.8329 - val_loss: 0.7023 - val_accuracy: 0.7618\n",
            "Epoch 36/50\n",
            "721/721 [==============================] - 33s 46ms/step - loss: 0.4415 - accuracy: 0.8366 - val_loss: 0.7284 - val_accuracy: 0.7618\n",
            "Epoch 37/50\n",
            "721/721 [==============================] - 34s 47ms/step - loss: 0.4152 - accuracy: 0.8452 - val_loss: 0.7118 - val_accuracy: 0.7681\n",
            "Epoch 38/50\n",
            "721/721 [==============================] - 34s 47ms/step - loss: 0.4135 - accuracy: 0.8402 - val_loss: 0.6938 - val_accuracy: 0.7656\n",
            "Epoch 39/50\n",
            "721/721 [==============================] - 33s 46ms/step - loss: 0.4038 - accuracy: 0.8452 - val_loss: 0.7954 - val_accuracy: 0.7444\n",
            "Epoch 40/50\n",
            "721/721 [==============================] - 33s 45ms/step - loss: 0.3994 - accuracy: 0.8481 - val_loss: 0.7477 - val_accuracy: 0.7569\n",
            "Epoch 41/50\n",
            "721/721 [==============================] - 35s 49ms/step - loss: 0.4061 - accuracy: 0.8422 - val_loss: 0.6920 - val_accuracy: 0.7656\n",
            "Epoch 42/50\n",
            "721/721 [==============================] - 35s 48ms/step - loss: 0.3906 - accuracy: 0.8540 - val_loss: 0.7223 - val_accuracy: 0.7594\n",
            "Epoch 43/50\n",
            "721/721 [==============================] - 34s 47ms/step - loss: 0.3858 - accuracy: 0.8513 - val_loss: 0.7983 - val_accuracy: 0.7618\n",
            "Epoch 44/50\n",
            "721/721 [==============================] - 34s 47ms/step - loss: 0.3844 - accuracy: 0.8519 - val_loss: 0.7368 - val_accuracy: 0.7544\n",
            "Epoch 45/50\n",
            "721/721 [==============================] - 33s 46ms/step - loss: 0.3738 - accuracy: 0.8592 - val_loss: 0.7388 - val_accuracy: 0.7643\n",
            "Epoch 46/50\n",
            "721/721 [==============================] - 32s 44ms/step - loss: 0.3735 - accuracy: 0.8576 - val_loss: 0.7660 - val_accuracy: 0.7594\n",
            "Epoch 47/50\n",
            "721/721 [==============================] - 34s 47ms/step - loss: 0.3776 - accuracy: 0.8544 - val_loss: 0.7503 - val_accuracy: 0.7643\n",
            "Epoch 48/50\n",
            "721/721 [==============================] - 33s 46ms/step - loss: 0.3656 - accuracy: 0.8610 - val_loss: 0.7090 - val_accuracy: 0.7631\n",
            "Epoch 49/50\n",
            "721/721 [==============================] - 33s 45ms/step - loss: 0.3492 - accuracy: 0.8656 - val_loss: 0.7810 - val_accuracy: 0.7656\n",
            "Epoch 50/50\n",
            "721/721 [==============================] - 34s 48ms/step - loss: 0.3569 - accuracy: 0.8674 - val_loss: 0.7413 - val_accuracy: 0.7718\n"
          ]
        }
      ]
    },
    {
      "cell_type": "code",
      "source": [
        "model.evaluate(X_test, y_test_one_hot)[1]"
      ],
      "metadata": {
        "colab": {
          "base_uri": "https://localhost:8080/"
        },
        "id": "rOc5DF6KLNJV",
        "outputId": "0cbbd558-f69d-4508-9938-98ecf2b5c437"
      },
      "execution_count": null,
      "outputs": [
        {
          "output_type": "stream",
          "name": "stdout",
          "text": [
            "63/63 [==============================] - 3s 48ms/step - loss: 0.8993 - accuracy: 0.7459\n"
          ]
        },
        {
          "output_type": "execute_result",
          "data": {
            "text/plain": [
              "0.745881199836731"
            ]
          },
          "metadata": {},
          "execution_count": 39
        }
      ]
    },
    {
      "cell_type": "code",
      "source": [
        "model.save_weights(\"model.h5\") #savinf Model's weight into model.h5"
      ],
      "metadata": {
        "id": "66c9pcs9Rwfp"
      },
      "execution_count": null,
      "outputs": []
    },
    {
      "cell_type": "markdown",
      "source": [
        "**Plots of Training and validation accuracy and loss**"
      ],
      "metadata": {
        "id": "aCLIG1YVR824"
      }
    },
    {
      "cell_type": "code",
      "source": [
        " # Summarize history for accuracy\n",
        "plt.plot(history.history['accuracy'])\n",
        "plt.plot(history.history['val_accuracy'])\n",
        "plt.title('model accuracy')\n",
        "plt.ylabel('accuracy')\n",
        "plt.xlabel('epoch')\n",
        "plt.legend(['train', 'test'], loc='upper left')\n",
        "plt.show()\n",
        "# Summarize history for loss\n",
        "plt.plot(history.history['loss'])\n",
        "plt.plot(history.history['val_loss'])\n",
        "plt.title('model loss')\n",
        "plt.ylabel('loss')\n",
        "plt.xlabel('epoch')\n",
        "plt.legend(['train', 'test'], loc='upper left')\n",
        "plt.show()"
      ],
      "metadata": {
        "colab": {
          "base_uri": "https://localhost:8080/",
          "height": 585
        },
        "id": "DRCBYesIR_hk",
        "outputId": "5c5fda2b-7c18-4a28-cb96-55284897e511"
      },
      "execution_count": null,
      "outputs": [
        {
          "output_type": "display_data",
          "data": {
            "text/plain": [
              "<Figure size 432x288 with 1 Axes>"
            ],
            "image/png": "[encoded data removed]"
          },
          "metadata": {
            "needs_background": "light"
          }
        },
        {
          "output_type": "display_data",
          "data": {
            "text/plain": [
              "<Figure size 432x288 with 1 Axes>"
            ],
            "image/png": "[encoded data removed]"
          },
          "metadata": {
            "needs_background": "light"
          }
        }
      ]
    },
    {
      "cell_type": "markdown",
      "source": [
        "**Confusion Matrix and Classification reports**"
      ],
      "metadata": {
        "id": "MmqKwM9iSi5_"
      }
    },
    {
      "cell_type": "code",
      "source": [
        "#Prediction of Testing image\n",
        "preds=np.round(model.predict(X_test),0)"
      ],
      "metadata": {
        "id": "UyjZnIEISkxl"
      },
      "execution_count": null,
      "outputs": []
    },
    {
      "cell_type": "code",
      "source": [
        "cm = confusion_matrix(y_test, preds.argmax(axis=1))"
      ],
      "metadata": {
        "id": "eo_Qs9GYSpdN"
      },
      "execution_count": null,
      "outputs": []
    },
    {
      "cell_type": "code",
      "source": [
        "def plot_confusion_matrix(cm, classes,normalize=False,\n",
        "                          title='Confusion matrix',\n",
        "                          cmap=plt.cm.Blues):\n",
        "  \n",
        "  \"\"\"\n",
        "  This function prints and plots the confusion matrix.\n",
        "  Normalization can be applied by setting `normalize=True`.\n",
        "  \"\"\"\n",
        "  if normalize:\n",
        "    cm = cm.astype('float') / cm.sum(axis=1)[:, np.newaxis]\n",
        "    print(\"Normalized confusion matrix\")\n",
        "  else:\n",
        "    print('Confusion matrix, without normalization')\n",
        "  print(cm)\n",
        "  plt.imshow(cm, interpolation='nearest', cmap=cmap)\n",
        "  plt.title(title)\n",
        "  plt.colorbar()\n",
        "  tick_marks = np.arange(len(classes))\n",
        "  plt.xticks(tick_marks, classes, rotation=45)\n",
        "  plt.yticks(tick_marks, classes)\n",
        "  fmt = '.2f' if normalize else 'd'\n",
        "  thresh = cm.max() / 2.\n",
        "  for i, j in itertools.product(range(cm.shape[0]), range(cm.shape[1])):\n",
        "    plt.text(j, i, format(cm[i, j], fmt),horizontalalignment=\"center\",color=\"white\" if cm[i, j] > thresh else \"black\")\n",
        "  plt.ylabel('True label')\n",
        "  plt.xlabel('Predicted label')\n",
        "  plt.tight_layout()"
      ],
      "metadata": {
        "id": "01tmIYlMSumk"
      },
      "execution_count": null,
      "outputs": []
    },
    {
      "cell_type": "code",
      "source": [
        "cm_plot_labels = ['akiec', 'bcc', 'bkl', 'df', 'mel','nv', 'vasc']"
      ],
      "metadata": {
        "id": "MTxK72-wTdqP"
      },
      "execution_count": null,
      "outputs": []
    },
    {
      "cell_type": "code",
      "source": [
        "plot_confusion_matrix(cm, cm_plot_labels, title='Confusion Matrix')"
      ],
      "metadata": {
        "colab": {
          "base_uri": "https://localhost:8080/",
          "height": 436
        },
        "id": "LTJyY8NOThj1",
        "outputId": "71da805b-3cd6-4517-af6d-87d8b7f35952"
      },
      "execution_count": null,
      "outputs": [
        {
          "output_type": "stream",
          "name": "stdout",
          "text": [
            "Confusion matrix, without normalization\n",
            "[[  38    6   11    0    2    3    1]\n",
            " [  57   40    5    0    1    5    3]\n",
            " [  59    4   56    0   23   55    1]\n",
            " [  12    3    7    4    0    3    0]\n",
            " [  41    1   22    0   64   95    0]\n",
            " [  83    8   37    0   38 1184    1]\n",
            " [   3    2    0    0    0    8   17]]\n"
          ]
        },
        {
          "output_type": "display_data",
          "data": {
            "text/plain": [
              "<Figure size 432x288 with 2 Axes>"
            ],
            "image/png": "[encoded data removed]"
          },
          "metadata": {
            "needs_background": "light"
          }
        }
      ]
    },
    {
      "cell_type": "code",
      "source": [
        "# Generate a classification report\n",
        "report = classification_report(y_test_one_hot, preds, target_names=cm_plot_labels)\n",
        "print(report)"
      ],
      "metadata": {
        "colab": {
          "base_uri": "https://localhost:8080/"
        },
        "id": "lITeNfppTlHl",
        "outputId": "9ef63734-2d81-4719-948a-58e9679fa80d"
      },
      "execution_count": null,
      "outputs": [
        {
          "output_type": "stream",
          "name": "stdout",
          "text": [
            "              precision    recall  f1-score   support\n",
            "\n",
            "       akiec       0.46      0.21      0.29        61\n",
            "         bcc       0.62      0.36      0.46       111\n",
            "         bkl       0.41      0.28      0.33       198\n",
            "          df       1.00      0.14      0.24        29\n",
            "         mel       0.50      0.29      0.36       223\n",
            "          nv       0.88      0.88      0.88      1351\n",
            "        vasc       0.74      0.57      0.64        30\n",
            "\n",
            "   micro avg       0.79      0.69      0.74      2003\n",
            "   macro avg       0.66      0.39      0.46      2003\n",
            "weighted avg       0.76      0.69      0.71      2003\n",
            " samples avg       0.69      0.69      0.69      2003\n",
            "\n"
          ]
        }
      ]
    },
    {
      "cell_type": "code",
      "source": [
        "#Saving model\n",
        "from google.colab import files\n",
        "files.download('model.h5')"
      ],
      "metadata": {
        "colab": {
          "base_uri": "https://localhost:8080/",
          "height": 34
        },
        "id": "9mqwMQKRTt5d",
        "outputId": "c8775bd4-cde0-4b8d-d1f7-afc858f4aee0"
      },
      "execution_count": null,
      "outputs": [
        {
          "output_type": "display_data",
          "data": {
            "text/plain": [
              "<IPython.core.display.Javascript object>"
            ],
            "application/javascript": [
              "\n",
              "    async function download(id, filename, size) {\n",
              "      if (!google.colab.kernel.accessAllowed) {\n",
              "        return;\n",
              "      }\n",
              "      const div = document.createElement('div');\n",
              "      const label = document.createElement('label');\n",
              "      label.textContent = `Downloading \"${filename}\": `;\n",
              "      div.appendChild(label);\n",
              "      const progress = document.createElement('progress');\n",
              "      progress.max = size;\n",
              "      div.appendChild(progress);\n",
              "      document.body.appendChild(div);\n",
              "\n",
              "      const buffers = [];\n",
              "      let downloaded = 0;\n",
              "\n",
              "      const channel = await google.colab.kernel.comms.open(id);\n",
              "      // Send a message to notify the kernel that we're ready.\n",
              "      channel.send({})\n",
              "\n",
              "      for await (const message of channel.messages) {\n",
              "        // Send a message to notify the kernel that we're ready.\n",
              "        channel.send({})\n",
              "        if (message.buffers) {\n",
              "          for (const buffer of message.buffers) {\n",
              "            buffers.push(buffer);\n",
              "            downloaded += buffer.byteLength;\n",
              "            progress.value = downloaded;\n",
              "          }\n",
              "        }\n",
              "      }\n",
              "      const blob = new Blob(buffers, {type: 'application/binary'});\n",
              "      const a = document.createElement('a');\n",
              "      a.href = window.URL.createObjectURL(blob);\n",
              "      a.download = filename;\n",
              "      div.appendChild(a);\n",
              "      a.click();\n",
              "      div.remove();\n",
              "    }\n",
              "  "
            ]
          },
          "metadata": {}
        },
        {
          "output_type": "display_data",
          "data": {
            "text/plain": [
              "<IPython.core.display.Javascript object>"
            ],
            "application/javascript": [
              "download(\"download_0ad591f4-1dfa-428b-b532-7e6aa1d44e0f\", \"model.h5\", 8571800)"
            ]
          },
          "metadata": {}
        }
      ]
    },
    {
      "cell_type": "code",
      "source": [
        ""
      ],
      "metadata": {
        "id": "ccwQqufrU2Ok"
      },
      "execution_count": null,
      "outputs": []
    }
  ]
}