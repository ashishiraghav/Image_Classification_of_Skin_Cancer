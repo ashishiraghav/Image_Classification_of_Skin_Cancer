{
  "nbformat": 4,
  "nbformat_minor": 0,
  "metadata": {
    "colab": {
      "name": "ANN",
      "provenance": []
    },
    "kernelspec": {
      "name": "python3",
      "display_name": "Python 3"
    },
    "language_info": {
      "name": "python"
    }
  },
  "cells": [
    {
      "cell_type": "markdown",
      "source": [
        "# **Artificial Neural Network**"
      ],
      "metadata": {
        "id": "ZmOw3oum8rj7"
      }
    },
    {
      "cell_type": "code",
      "source": [
        "#Installing important libraries\n",
        "import numpy as np\n",
        "import pandas as pd"
      ],
      "metadata": {
        "id": "270rEvnJ8wCf"
      },
      "execution_count": 1,
      "outputs": []
    },
    {
      "cell_type": "code",
      "source": [
        "import keras\n",
        "from keras.models import Sequential\n",
        "from keras.layers import Dense\n",
        "from keras.layers import LeakyReLU,PReLU,ELU,Activation\n",
        "from keras.layers import Dropout"
      ],
      "metadata": {
        "id": "gqFqyFEz853I"
      },
      "execution_count": 2,
      "outputs": []
    },
    {
      "cell_type": "code",
      "source": [
        "from google.colab import drive\n",
        "drive.mount('/content/drive')\n"
      ],
      "metadata": {
        "colab": {
          "base_uri": "https://localhost:8080/"
        },
        "id": "PPQwzC1P9IY2",
        "outputId": "8bd2fc27-4458-4d9f-b4ba-dbefe9719f40"
      },
      "execution_count": 3,
      "outputs": [
        {
          "output_type": "stream",
          "name": "stdout",
          "text": [
            "Mounted at /content/drive\n"
          ]
        }
      ]
    },
    {
      "cell_type": "code",
      "source": [
        "df3=pd.read_csv(\"/content/drive/MyDrive/df3_final.csv\")  #Importing data from google drive\n",
        "df3.head()"
      ],
      "metadata": {
        "colab": {
          "base_uri": "https://localhost:8080/",
          "height": 300
        },
        "id": "crMvIWU19SJG",
        "outputId": "3be56b32-ffbf-4611-a3c2-86768278accd"
      },
      "execution_count": 4,
      "outputs": [
        {
          "output_type": "execute_result",
          "data": {
            "text/plain": [
              "     lesion_id      image_id   dx dx_type   age   sex localization  Pixel_0  \\\n",
              "0  HAM_0000118  ISIC_0027419  bkl   histo  80.0  male        scalp      187   \n",
              "1  HAM_0000118  ISIC_0025030  bkl   histo  80.0  male        scalp       25   \n",
              "2  HAM_0002730  ISIC_0026769  bkl   histo  80.0  male        scalp      146   \n",
              "3  HAM_0002730  ISIC_0025661  bkl   histo  80.0  male        scalp       27   \n",
              "4  HAM_0001466  ISIC_0031633  bkl   histo  75.0  male          ear      134   \n",
              "\n",
              "   Pixel_1  Pixel_2  ...  Pixel_3063  Pixel_3064  Pixel_3065  Pixel_3066  \\\n",
              "0      148      190  ...         154         132         178         167   \n",
              "1       14       23  ...          43          26          42          27   \n",
              "2      133      186  ...         143         128         160         139   \n",
              "3       16       31  ...          22          16          29          16   \n",
              "4      110      153  ...         179         161         202         132   \n",
              "\n",
              "   Pixel_3067  Pixel_3068  Pixel_3069  Pixel_3070  Pixel_3071  label  \n",
              "0         150         183         177         153         185      2  \n",
              "1          14          24          28          15          25      2  \n",
              "2         117         151         116         105         134      2  \n",
              "3          12          26          16          12          24      2  \n",
              "4         122         158          84          69         101      2  \n",
              "\n",
              "[5 rows x 3080 columns]"
            ],
            "text/html": [
              "\n",
              "  <div id=\"df-f101d7e7-47ac-483e-ae14-fbf51d8edbc3\">\n",
              "    <div class=\"colab-df-container\">\n",
              "      <div>\n",
              "<style scoped>\n",
              "    .dataframe tbody tr th:only-of-type {\n",
              "        vertical-align: middle;\n",
              "    }\n",
              "\n",
              "    .dataframe tbody tr th {\n",
              "        vertical-align: top;\n",
              "    }\n",
              "\n",
              "    .dataframe thead th {\n",
              "        text-align: right;\n",
              "    }\n",
              "</style>\n",
              "<table border=\"1\" class=\"dataframe\">\n",
              "  <thead>\n",
              "    <tr style=\"text-align: right;\">\n",
              "      <th></th>\n",
              "      <th>lesion_id</th>\n",
              "      <th>image_id</th>\n",
              "      <th>dx</th>\n",
              "      <th>dx_type</th>\n",
              "      <th>age</th>\n",
              "      <th>sex</th>\n",
              "      <th>localization</th>\n",
              "      <th>Pixel_0</th>\n",
              "      <th>Pixel_1</th>\n",
              "      <th>Pixel_2</th>\n",
              "      <th>...</th>\n",
              "      <th>Pixel_3063</th>\n",
              "      <th>Pixel_3064</th>\n",
              "      <th>Pixel_3065</th>\n",
              "      <th>Pixel_3066</th>\n",
              "      <th>Pixel_3067</th>\n",
              "      <th>Pixel_3068</th>\n",
              "      <th>Pixel_3069</th>\n",
              "      <th>Pixel_3070</th>\n",
              "      <th>Pixel_3071</th>\n",
              "      <th>label</th>\n",
              "    </tr>\n",
              "  </thead>\n",
              "  <tbody>\n",
              "    <tr>\n",
              "      <th>0</th>\n",
              "      <td>HAM_0000118</td>\n",
              "      <td>ISIC_0027419</td>\n",
              "      <td>bkl</td>\n",
              "      <td>histo</td>\n",
              "      <td>80.0</td>\n",
              "      <td>male</td>\n",
              "      <td>scalp</td>\n",
              "      <td>187</td>\n",
              "      <td>148</td>\n",
              "      <td>190</td>\n",
              "      <td>...</td>\n",
              "      <td>154</td>\n",
              "      <td>132</td>\n",
              "      <td>178</td>\n",
              "      <td>167</td>\n",
              "      <td>150</td>\n",
              "      <td>183</td>\n",
              "      <td>177</td>\n",
              "      <td>153</td>\n",
              "      <td>185</td>\n",
              "      <td>2</td>\n",
              "    </tr>\n",
              "    <tr>\n",
              "      <th>1</th>\n",
              "      <td>HAM_0000118</td>\n",
              "      <td>ISIC_0025030</td>\n",
              "      <td>bkl</td>\n",
              "      <td>histo</td>\n",
              "      <td>80.0</td>\n",
              "      <td>male</td>\n",
              "      <td>scalp</td>\n",
              "      <td>25</td>\n",
              "      <td>14</td>\n",
              "      <td>23</td>\n",
              "      <td>...</td>\n",
              "      <td>43</td>\n",
              "      <td>26</td>\n",
              "      <td>42</td>\n",
              "      <td>27</td>\n",
              "      <td>14</td>\n",
              "      <td>24</td>\n",
              "      <td>28</td>\n",
              "      <td>15</td>\n",
              "      <td>25</td>\n",
              "      <td>2</td>\n",
              "    </tr>\n",
              "    <tr>\n",
              "      <th>2</th>\n",
              "      <td>HAM_0002730</td>\n",
              "      <td>ISIC_0026769</td>\n",
              "      <td>bkl</td>\n",
              "      <td>histo</td>\n",
              "      <td>80.0</td>\n",
              "      <td>male</td>\n",
              "      <td>scalp</td>\n",
              "      <td>146</td>\n",
              "      <td>133</td>\n",
              "      <td>186</td>\n",
              "      <td>...</td>\n",
              "      <td>143</td>\n",
              "      <td>128</td>\n",
              "      <td>160</td>\n",
              "      <td>139</td>\n",
              "      <td>117</td>\n",
              "      <td>151</td>\n",
              "      <td>116</td>\n",
              "      <td>105</td>\n",
              "      <td>134</td>\n",
              "      <td>2</td>\n",
              "    </tr>\n",
              "    <tr>\n",
              "      <th>3</th>\n",
              "      <td>HAM_0002730</td>\n",
              "      <td>ISIC_0025661</td>\n",
              "      <td>bkl</td>\n",
              "      <td>histo</td>\n",
              "      <td>80.0</td>\n",
              "      <td>male</td>\n",
              "      <td>scalp</td>\n",
              "      <td>27</td>\n",
              "      <td>16</td>\n",
              "      <td>31</td>\n",
              "      <td>...</td>\n",
              "      <td>22</td>\n",
              "      <td>16</td>\n",
              "      <td>29</td>\n",
              "      <td>16</td>\n",
              "      <td>12</td>\n",
              "      <td>26</td>\n",
              "      <td>16</td>\n",
              "      <td>12</td>\n",
              "      <td>24</td>\n",
              "      <td>2</td>\n",
              "    </tr>\n",
              "    <tr>\n",
              "      <th>4</th>\n",
              "      <td>HAM_0001466</td>\n",
              "      <td>ISIC_0031633</td>\n",
              "      <td>bkl</td>\n",
              "      <td>histo</td>\n",
              "      <td>75.0</td>\n",
              "      <td>male</td>\n",
              "      <td>ear</td>\n",
              "      <td>134</td>\n",
              "      <td>110</td>\n",
              "      <td>153</td>\n",
              "      <td>...</td>\n",
              "      <td>179</td>\n",
              "      <td>161</td>\n",
              "      <td>202</td>\n",
              "      <td>132</td>\n",
              "      <td>122</td>\n",
              "      <td>158</td>\n",
              "      <td>84</td>\n",
              "      <td>69</td>\n",
              "      <td>101</td>\n",
              "      <td>2</td>\n",
              "    </tr>\n",
              "  </tbody>\n",
              "</table>\n",
              "<p>5 rows × 3080 columns</p>\n",
              "</div>\n",
              "      <button class=\"colab-df-convert\" onclick=\"convertToInteractive('df-f101d7e7-47ac-483e-ae14-fbf51d8edbc3')\"\n",
              "              title=\"Convert this dataframe to an interactive table.\"\n",
              "              style=\"display:none;\">\n",
              "        \n",
              "  <svg xmlns=\"http://www.w3.org/2000/svg\" height=\"24px\"viewBox=\"0 0 24 24\"\n",
              "       width=\"24px\">\n",
              "    <path d=\"M0 0h24v24H0V0z\" fill=\"none\"/>\n",
              "    <path d=\"M18.56 5.44l.94 2.06.94-2.06 2.06-.94-2.06-.94-.94-2.06-.94 2.06-2.06.94zm-11 1L8.5 8.5l.94-2.06 2.06-.94-2.06-.94L8.5 2.5l-.94 2.06-2.06.94zm10 10l.94 2.06.94-2.06 2.06-.94-2.06-.94-.94-2.06-.94 2.06-2.06.94z\"/><path d=\"M17.41 7.96l-1.37-1.37c-.4-.4-.92-.59-1.43-.59-.52 0-1.04.2-1.43.59L10.3 9.45l-7.72 7.72c-.78.78-.78 2.05 0 2.83L4 21.41c.39.39.9.59 1.41.59.51 0 1.02-.2 1.41-.59l7.78-7.78 2.81-2.81c.8-.78.8-2.07 0-2.86zM5.41 20L4 18.59l7.72-7.72 1.47 1.35L5.41 20z\"/>\n",
              "  </svg>\n",
              "      </button>\n",
              "      \n",
              "  <style>\n",
              "    .colab-df-container {\n",
              "      display:flex;\n",
              "      flex-wrap:wrap;\n",
              "      gap: 12px;\n",
              "    }\n",
              "\n",
              "    .colab-df-convert {\n",
              "      background-color: #E8F0FE;\n",
              "      border: none;\n",
              "      border-radius: 50%;\n",
              "      cursor: pointer;\n",
              "      display: none;\n",
              "      fill: #1967D2;\n",
              "      height: 32px;\n",
              "      padding: 0 0 0 0;\n",
              "      width: 32px;\n",
              "    }\n",
              "\n",
              "    .colab-df-convert:hover {\n",
              "      background-color: #E2EBFA;\n",
              "      box-shadow: 0px 1px 2px rgba(60, 64, 67, 0.3), 0px 1px 3px 1px rgba(60, 64, 67, 0.15);\n",
              "      fill: #174EA6;\n",
              "    }\n",
              "\n",
              "    [theme=dark] .colab-df-convert {\n",
              "      background-color: #3B4455;\n",
              "      fill: #D2E3FC;\n",
              "    }\n",
              "\n",
              "    [theme=dark] .colab-df-convert:hover {\n",
              "      background-color: #434B5C;\n",
              "      box-shadow: 0px 1px 3px 1px rgba(0, 0, 0, 0.15);\n",
              "      filter: drop-shadow(0px 1px 2px rgba(0, 0, 0, 0.3));\n",
              "      fill: #FFFFFF;\n",
              "    }\n",
              "  </style>\n",
              "\n",
              "      <script>\n",
              "        const buttonEl =\n",
              "          document.querySelector('#df-f101d7e7-47ac-483e-ae14-fbf51d8edbc3 button.colab-df-convert');\n",
              "        buttonEl.style.display =\n",
              "          google.colab.kernel.accessAllowed ? 'block' : 'none';\n",
              "\n",
              "        async function convertToInteractive(key) {\n",
              "          const element = document.querySelector('#df-f101d7e7-47ac-483e-ae14-fbf51d8edbc3');\n",
              "          const dataTable =\n",
              "            await google.colab.kernel.invokeFunction('convertToInteractive',\n",
              "                                                     [key], {});\n",
              "          if (!dataTable) return;\n",
              "\n",
              "          const docLinkHtml = 'Like what you see? Visit the ' +\n",
              "            '<a target=\"_blank\" href=https://colab.research.google.com/notebooks/data_table.ipynb>data table notebook</a>'\n",
              "            + ' to learn more about interactive tables.';\n",
              "          element.innerHTML = '';\n",
              "          dataTable['output_type'] = 'display_data';\n",
              "          await google.colab.output.renderOutput(dataTable, element);\n",
              "          const docLink = document.createElement('div');\n",
              "          docLink.innerHTML = docLinkHtml;\n",
              "          element.appendChild(docLink);\n",
              "        }\n",
              "      </script>\n",
              "    </div>\n",
              "  </div>\n",
              "  "
            ]
          },
          "metadata": {},
          "execution_count": 4
        }
      ]
    },
    {
      "cell_type": "code",
      "source": [
        "X = df3.iloc[:,7:3079].values\n",
        "y = df3.iloc[:, 3079].values\n",
        "\n",
        "#Normalizing the data\n",
        "from sklearn.preprocessing import StandardScaler\n",
        "sc = StandardScaler()\n",
        "X = sc.fit_transform(X)\n",
        "np.random.seed(3)\n",
        "from sklearn.model_selection import train_test_split\n",
        "X_train, X_test, y_train, y_test = train_test_split(X, y, test_size=0.20,random_state = 30)"
      ],
      "metadata": {
        "id": "DZuyA-q_9xUT"
      },
      "execution_count": 5,
      "outputs": []
    },
    {
      "cell_type": "markdown",
      "source": [
        "# **Single-Layer Neural Network**"
      ],
      "metadata": {
        "id": "WK189jNN-Gsl"
      }
    },
    {
      "cell_type": "code",
      "source": [
        "# Initialising the Single Layer Neural Network\n",
        "classifier = Sequential()\n",
        "# Adding the input layer and the first hidden layer\n",
        "classifier.add(Dense(100 ,input_dim = X_train.shape[1]))\n",
        "classifier.add(Activation('relu'))\n",
        "classifier.add(Dropout(0.3))\n",
        "classifier.add(Dense(100))\n",
        "classifier.add(Activation('relu'))\n",
        "classifier.add(Dropout(0.3))\n",
        "classifier.add(Dense(7, activation = 'softmax'))\n",
        "classifier.compile(optimizer = 'adam', loss = 'sparse_categorical_crossentropy', metrics = ['accuracy'])\n",
        "model_history=classifier.fit(X_train, y_train,validation_split=0.20, batch_size = 128,epochs=50)\n",
        "print(model_history.history.keys())\n"
      ],
      "metadata": {
        "colab": {
          "base_uri": "https://localhost:8080/"
        },
        "id": "bhWtFbUd-J0N",
        "outputId": "cdf77a5a-943c-4c02-dff4-b75e33f03330"
      },
      "execution_count": 12,
      "outputs": [
        {
          "output_type": "stream",
          "name": "stdout",
          "text": [
            "Epoch 1/50\n",
            "51/51 [==============================] - 2s 18ms/step - loss: 1.4098 - accuracy: 0.5934 - val_loss: 0.9319 - val_accuracy: 0.6744\n",
            "Epoch 2/50\n",
            "51/51 [==============================] - 1s 16ms/step - loss: 1.0592 - accuracy: 0.6542 - val_loss: 0.8826 - val_accuracy: 0.6831\n",
            "Epoch 3/50\n",
            "51/51 [==============================] - 1s 13ms/step - loss: 1.0053 - accuracy: 0.6603 - val_loss: 0.9109 - val_accuracy: 0.6712\n",
            "Epoch 4/50\n",
            "51/51 [==============================] - 1s 16ms/step - loss: 0.9267 - accuracy: 0.6778 - val_loss: 0.8555 - val_accuracy: 0.6744\n",
            "Epoch 5/50\n",
            "51/51 [==============================] - 1s 18ms/step - loss: 0.8915 - accuracy: 0.6868 - val_loss: 0.8418 - val_accuracy: 0.6719\n",
            "Epoch 6/50\n",
            "51/51 [==============================] - 1s 17ms/step - loss: 0.8699 - accuracy: 0.6898 - val_loss: 0.8407 - val_accuracy: 0.6900\n",
            "Epoch 7/50\n",
            "51/51 [==============================] - 1s 14ms/step - loss: 0.8404 - accuracy: 0.6985 - val_loss: 0.8279 - val_accuracy: 0.6787\n",
            "Epoch 8/50\n",
            "51/51 [==============================] - 1s 14ms/step - loss: 0.8129 - accuracy: 0.7070 - val_loss: 0.8114 - val_accuracy: 0.7043\n",
            "Epoch 9/50\n",
            "51/51 [==============================] - 1s 10ms/step - loss: 0.7964 - accuracy: 0.7096 - val_loss: 0.8090 - val_accuracy: 0.6993\n",
            "Epoch 10/50\n",
            "51/51 [==============================] - 0s 9ms/step - loss: 0.8088 - accuracy: 0.7085 - val_loss: 0.8023 - val_accuracy: 0.7024\n",
            "Epoch 11/50\n",
            "51/51 [==============================] - 0s 10ms/step - loss: 0.7757 - accuracy: 0.7240 - val_loss: 0.8065 - val_accuracy: 0.7112\n",
            "Epoch 12/50\n",
            "51/51 [==============================] - 1s 10ms/step - loss: 0.7788 - accuracy: 0.7174 - val_loss: 0.7968 - val_accuracy: 0.7080\n",
            "Epoch 13/50\n",
            "51/51 [==============================] - 0s 9ms/step - loss: 0.7408 - accuracy: 0.7299 - val_loss: 0.7802 - val_accuracy: 0.7099\n",
            "Epoch 14/50\n",
            "51/51 [==============================] - 0s 10ms/step - loss: 0.7435 - accuracy: 0.7277 - val_loss: 0.7951 - val_accuracy: 0.7074\n",
            "Epoch 15/50\n",
            "51/51 [==============================] - 0s 9ms/step - loss: 0.7262 - accuracy: 0.7296 - val_loss: 0.7736 - val_accuracy: 0.7236\n",
            "Epoch 16/50\n",
            "51/51 [==============================] - 0s 9ms/step - loss: 0.7209 - accuracy: 0.7365 - val_loss: 0.7792 - val_accuracy: 0.7062\n",
            "Epoch 17/50\n",
            "51/51 [==============================] - 0s 9ms/step - loss: 0.7048 - accuracy: 0.7385 - val_loss: 0.7692 - val_accuracy: 0.7230\n",
            "Epoch 18/50\n",
            "51/51 [==============================] - 0s 9ms/step - loss: 0.6927 - accuracy: 0.7425 - val_loss: 0.7644 - val_accuracy: 0.7105\n",
            "Epoch 19/50\n",
            "51/51 [==============================] - 0s 9ms/step - loss: 0.6758 - accuracy: 0.7496 - val_loss: 0.7700 - val_accuracy: 0.7130\n",
            "Epoch 20/50\n",
            "51/51 [==============================] - 1s 10ms/step - loss: 0.6706 - accuracy: 0.7505 - val_loss: 0.7731 - val_accuracy: 0.7187\n",
            "Epoch 21/50\n",
            "51/51 [==============================] - 0s 9ms/step - loss: 0.7132 - accuracy: 0.7447 - val_loss: 0.7728 - val_accuracy: 0.7130\n",
            "Epoch 22/50\n",
            "51/51 [==============================] - 0s 10ms/step - loss: 0.6539 - accuracy: 0.7631 - val_loss: 0.7710 - val_accuracy: 0.7180\n",
            "Epoch 23/50\n",
            "51/51 [==============================] - 0s 10ms/step - loss: 0.6404 - accuracy: 0.7628 - val_loss: 0.7799 - val_accuracy: 0.7087\n",
            "Epoch 24/50\n",
            "51/51 [==============================] - 0s 9ms/step - loss: 0.6385 - accuracy: 0.7664 - val_loss: 0.7696 - val_accuracy: 0.7218\n",
            "Epoch 25/50\n",
            "51/51 [==============================] - 0s 9ms/step - loss: 0.6616 - accuracy: 0.7594 - val_loss: 0.7995 - val_accuracy: 0.7137\n",
            "Epoch 26/50\n",
            "51/51 [==============================] - 1s 10ms/step - loss: 0.6392 - accuracy: 0.7622 - val_loss: 0.7681 - val_accuracy: 0.7224\n",
            "Epoch 27/50\n",
            "51/51 [==============================] - 0s 10ms/step - loss: 0.6324 - accuracy: 0.7661 - val_loss: 0.7792 - val_accuracy: 0.7105\n",
            "Epoch 28/50\n",
            "51/51 [==============================] - 0s 10ms/step - loss: 0.6142 - accuracy: 0.7742 - val_loss: 0.7643 - val_accuracy: 0.7249\n",
            "Epoch 29/50\n",
            "51/51 [==============================] - 0s 10ms/step - loss: 0.6025 - accuracy: 0.7773 - val_loss: 0.7769 - val_accuracy: 0.7199\n",
            "Epoch 30/50\n",
            "51/51 [==============================] - 0s 9ms/step - loss: 0.6832 - accuracy: 0.7535 - val_loss: 0.7707 - val_accuracy: 0.7205\n",
            "Epoch 31/50\n",
            "51/51 [==============================] - 0s 9ms/step - loss: 0.6035 - accuracy: 0.7795 - val_loss: 0.7767 - val_accuracy: 0.7236\n",
            "Epoch 32/50\n",
            "51/51 [==============================] - 0s 9ms/step - loss: 0.5654 - accuracy: 0.7920 - val_loss: 0.7800 - val_accuracy: 0.7236\n",
            "Epoch 33/50\n",
            "51/51 [==============================] - 0s 9ms/step - loss: 0.5570 - accuracy: 0.7894 - val_loss: 0.7873 - val_accuracy: 0.7218\n",
            "Epoch 34/50\n",
            "51/51 [==============================] - 0s 9ms/step - loss: 0.5629 - accuracy: 0.7979 - val_loss: 0.7875 - val_accuracy: 0.7218\n",
            "Epoch 35/50\n",
            "51/51 [==============================] - 0s 9ms/step - loss: 0.5446 - accuracy: 0.7956 - val_loss: 0.8068 - val_accuracy: 0.7130\n",
            "Epoch 36/50\n",
            "51/51 [==============================] - 0s 9ms/step - loss: 0.5469 - accuracy: 0.7956 - val_loss: 0.8059 - val_accuracy: 0.7180\n",
            "Epoch 37/50\n",
            "51/51 [==============================] - 0s 9ms/step - loss: 0.5307 - accuracy: 0.8026 - val_loss: 0.8250 - val_accuracy: 0.7112\n",
            "Epoch 38/50\n",
            "51/51 [==============================] - 0s 9ms/step - loss: 0.5815 - accuracy: 0.7858 - val_loss: 0.8149 - val_accuracy: 0.7261\n",
            "Epoch 39/50\n",
            "51/51 [==============================] - 0s 9ms/step - loss: 0.5648 - accuracy: 0.7936 - val_loss: 0.7938 - val_accuracy: 0.7074\n",
            "Epoch 40/50\n",
            "51/51 [==============================] - 0s 9ms/step - loss: 0.5228 - accuracy: 0.8073 - val_loss: 0.8092 - val_accuracy: 0.7211\n",
            "Epoch 41/50\n",
            "51/51 [==============================] - 0s 9ms/step - loss: 0.5329 - accuracy: 0.8017 - val_loss: 0.8198 - val_accuracy: 0.7174\n",
            "Epoch 42/50\n",
            "51/51 [==============================] - 0s 9ms/step - loss: 0.5057 - accuracy: 0.8070 - val_loss: 0.8201 - val_accuracy: 0.7168\n",
            "Epoch 43/50\n",
            "51/51 [==============================] - 0s 10ms/step - loss: 0.5170 - accuracy: 0.8087 - val_loss: 0.8546 - val_accuracy: 0.7093\n",
            "Epoch 44/50\n",
            "51/51 [==============================] - 0s 9ms/step - loss: 0.6188 - accuracy: 0.7719 - val_loss: 0.7955 - val_accuracy: 0.7243\n",
            "Epoch 45/50\n",
            "51/51 [==============================] - 0s 9ms/step - loss: 0.5242 - accuracy: 0.8007 - val_loss: 0.8044 - val_accuracy: 0.7137\n",
            "Epoch 46/50\n",
            "51/51 [==============================] - 0s 9ms/step - loss: 0.4904 - accuracy: 0.8170 - val_loss: 0.8337 - val_accuracy: 0.7193\n",
            "Epoch 47/50\n",
            "51/51 [==============================] - 0s 9ms/step - loss: 0.4698 - accuracy: 0.8249 - val_loss: 0.8274 - val_accuracy: 0.7311\n",
            "Epoch 48/50\n",
            "51/51 [==============================] - 0s 9ms/step - loss: 0.4873 - accuracy: 0.8139 - val_loss: 0.8500 - val_accuracy: 0.7255\n",
            "Epoch 49/50\n",
            "51/51 [==============================] - 0s 9ms/step - loss: 0.5908 - accuracy: 0.7842 - val_loss: 0.8315 - val_accuracy: 0.7105\n",
            "Epoch 50/50\n",
            "51/51 [==============================] - 0s 9ms/step - loss: 0.4807 - accuracy: 0.8174 - val_loss: 0.8467 - val_accuracy: 0.7249\n",
            "dict_keys(['loss', 'accuracy', 'val_loss', 'val_accuracy'])\n"
          ]
        }
      ]
    },
    {
      "cell_type": "code",
      "source": [
        "import matplotlib.pyplot as plt\n",
        "# summarize history for accuracy\n",
        "plt.plot(model_history.history['accuracy'])\n",
        "plt.plot(model_history.history['val_accuracy'])\n",
        "plt.title('model accuracy')\n",
        "plt.ylabel('accuracy')\n",
        "plt.xlabel('epoch')\n",
        "plt.legend(['train', 'test'], loc='upper left')\n",
        "plt.show()\n",
        "# summarize history for loss\n",
        "plt.plot(model_history.history['loss'])\n",
        "plt.plot(model_history.history['val_loss'])\n",
        "plt.title('model loss')\n",
        "plt.ylabel('loss')\n",
        "plt.xlabel('epoch')\n",
        "plt.legend(['train', 'test'], loc='upper left')\n",
        "plt.show()"
      ],
      "metadata": {
        "colab": {
          "base_uri": "https://localhost:8080/",
          "height": 573
        },
        "id": "iWHsX8ww-ckG",
        "outputId": "aabd0966-2639-4bf0-9472-c1b869035ab1"
      },
      "execution_count": 14,
      "outputs": [
        {
          "output_type": "display_data",
          "data": {
            "text/plain": [
              "<Figure size 432x288 with 1 Axes>"
            ],
            "image/png": "[encoded data removed]"
          },
          "metadata": {
            "needs_background": "light"
          }
        },
        {
          "output_type": "display_data",
          "data": {
            "text/plain": [
              "<Figure size 432x288 with 1 Axes>"
            ],
            "image/png": "[encoded data removed]"
          },
          "metadata": {
            "needs_background": "light"
          }
        }
      ]
    },
    {
      "cell_type": "code",
      "source": [
        "# Predicting the Test set results\n",
        "y_pred = classifier.predict(X_test)\n",
        "pred = list()\n",
        "for i in range(len(y_pred)):\n",
        "  pred.append(np.argmax(y_pred[i]))\n",
        "#Converting one hot encoded test label to label\n",
        "test = list()\n",
        "for i in range(len(y_test)):\n",
        "  test.append(y_test[i])"
      ],
      "metadata": {
        "id": "fYT2xcO5_ysi"
      },
      "execution_count": 15,
      "outputs": []
    },
    {
      "cell_type": "code",
      "source": [
        "from sklearn.metrics import accuracy_score\n",
        "a = accuracy_score(pred,test)\n",
        "print('Accuracy is:', a*100)"
      ],
      "metadata": {
        "colab": {
          "base_uri": "https://localhost:8080/"
        },
        "id": "slH31bLjBY0f",
        "outputId": "e67827dd-15ff-4bf8-f4a3-3296c007e6b1"
      },
      "execution_count": 16,
      "outputs": [
        {
          "output_type": "stream",
          "name": "stdout",
          "text": [
            "Accuracy is: 72.6410384423365\n"
          ]
        }
      ]
    },
    {
      "cell_type": "code",
      "source": [
        "# Making the Confusion Matrix\n",
        "from sklearn.metrics import classification_report, confusion_matrix\n",
        "cm = confusion_matrix(test, pred)\n",
        "cm"
      ],
      "metadata": {
        "colab": {
          "base_uri": "https://localhost:8080/"
        },
        "id": "WQsuVtutBqfF",
        "outputId": "5acefc18-ac80-4beb-d784-b3e8c9b1cf11"
      },
      "execution_count": 17,
      "outputs": [
        {
          "output_type": "execute_result",
          "data": {
            "text/plain": [
              "array([[  17,   18,    8,    0,    6,   15,    1],\n",
              "       [  13,   45,    8,    1,    1,   38,    5],\n",
              "       [   4,   15,   71,    0,   21,  101,    0],\n",
              "       [   5,   10,    3,    0,    1,    5,    0],\n",
              "       [   2,   11,   29,    0,   46,  137,    0],\n",
              "       [   2,    7,   34,    0,   31, 1265,    0],\n",
              "       [   0,    4,    0,    0,    0,   12,   11]])"
            ]
          },
          "metadata": {},
          "execution_count": 17
        }
      ]
    },
    {
      "cell_type": "code",
      "source": [
        "print(classification_report(test, pred))"
      ],
      "metadata": {
        "colab": {
          "base_uri": "https://localhost:8080/"
        },
        "id": "uy_eKpuRByhN",
        "outputId": "530a1c44-1725-40fc-a4bc-94edd7a5833d"
      },
      "execution_count": 18,
      "outputs": [
        {
          "output_type": "stream",
          "name": "stdout",
          "text": [
            "              precision    recall  f1-score   support\n",
            "\n",
            "           0       0.40      0.26      0.31        65\n",
            "           1       0.41      0.41      0.41       111\n",
            "           2       0.46      0.33      0.39       212\n",
            "           3       0.00      0.00      0.00        24\n",
            "           4       0.43      0.20      0.28       225\n",
            "           5       0.80      0.94      0.87      1339\n",
            "           6       0.65      0.41      0.50        27\n",
            "\n",
            "    accuracy                           0.73      2003\n",
            "   macro avg       0.45      0.37      0.39      2003\n",
            "weighted avg       0.68      0.73      0.69      2003\n",
            "\n"
          ]
        }
      ]
    },
    {
      "cell_type": "markdown",
      "source": [
        "# **Fully Connected Neural Network**"
      ],
      "metadata": {
        "id": "OEuF8fblB73L"
      }
    },
    {
      "cell_type": "code",
      "source": [
        "classifier1 = Sequential()\n",
        "# Adding the input layer and the second hidden layer\n",
        "classifier1.add(Dense(100 ,input_dim = X_train.shape[1]))\n",
        "classifier1.add(Activation('relu'))\n",
        "classifier1.add(Dense(100))\n",
        "classifier1.add(Activation('relu'))\n",
        "classifier1.add(Dropout(0.3))\n",
        "classifier1.add(Dense(100))\n",
        "classifier1.add(Activation('relu'))\n",
        "classifier1.add(Dropout(0.3))\n",
        "classifier1.add(Dense(7, activation = 'softmax'))\n",
        "classifier1.compile(optimizer = 'adam', loss = 'sparse_categorical_crossentropy', metrics = ['accuracy'])\n",
        "model1_history=classifier1.fit(X_train, y_train,validation_split=0.20,batch_size = 128,epochs = 50)\n",
        "print(model1_history.history.keys())"
      ],
      "metadata": {
        "colab": {
          "base_uri": "https://localhost:8080/"
        },
        "id": "qIgYXY19B_cd",
        "outputId": "67613bce-17f3-433a-ce7d-abc3486735ea"
      },
      "execution_count": 19,
      "outputs": [
        {
          "output_type": "stream",
          "name": "stdout",
          "text": [
            "Epoch 1/50\n",
            "51/51 [==============================] - 3s 21ms/step - loss: 1.1368 - accuracy: 0.6276 - val_loss: 0.9382 - val_accuracy: 0.6706\n",
            "Epoch 2/50\n",
            "51/51 [==============================] - 1s 16ms/step - loss: 0.9609 - accuracy: 0.6664 - val_loss: 0.8869 - val_accuracy: 0.6825\n",
            "Epoch 3/50\n",
            "51/51 [==============================] - 1s 14ms/step - loss: 0.9397 - accuracy: 0.6792 - val_loss: 0.8699 - val_accuracy: 0.6818\n",
            "Epoch 4/50\n",
            "51/51 [==============================] - 1s 15ms/step - loss: 0.8978 - accuracy: 0.6872 - val_loss: 0.8459 - val_accuracy: 0.6937\n",
            "Epoch 5/50\n",
            "51/51 [==============================] - 1s 14ms/step - loss: 0.8844 - accuracy: 0.6883 - val_loss: 0.8536 - val_accuracy: 0.6850\n",
            "Epoch 6/50\n",
            "51/51 [==============================] - 1s 15ms/step - loss: 0.8488 - accuracy: 0.6953 - val_loss: 0.8289 - val_accuracy: 0.6906\n",
            "Epoch 7/50\n",
            "51/51 [==============================] - 1s 22ms/step - loss: 0.8098 - accuracy: 0.7154 - val_loss: 0.8277 - val_accuracy: 0.6881\n",
            "Epoch 8/50\n",
            "51/51 [==============================] - 1s 14ms/step - loss: 0.7819 - accuracy: 0.7207 - val_loss: 0.8377 - val_accuracy: 0.6806\n",
            "Epoch 9/50\n",
            "51/51 [==============================] - 1s 16ms/step - loss: 0.7994 - accuracy: 0.7166 - val_loss: 0.8153 - val_accuracy: 0.6887\n",
            "Epoch 10/50\n",
            "51/51 [==============================] - 1s 16ms/step - loss: 0.7564 - accuracy: 0.7249 - val_loss: 0.8208 - val_accuracy: 0.7080\n",
            "Epoch 11/50\n",
            "51/51 [==============================] - 1s 17ms/step - loss: 0.7347 - accuracy: 0.7293 - val_loss: 0.7817 - val_accuracy: 0.7124\n",
            "Epoch 12/50\n",
            "51/51 [==============================] - 1s 15ms/step - loss: 0.6987 - accuracy: 0.7475 - val_loss: 0.8043 - val_accuracy: 0.7012\n",
            "Epoch 13/50\n",
            "51/51 [==============================] - 0s 9ms/step - loss: 0.7153 - accuracy: 0.7360 - val_loss: 0.8117 - val_accuracy: 0.7012\n",
            "Epoch 14/50\n",
            "51/51 [==============================] - 0s 10ms/step - loss: 0.6907 - accuracy: 0.7496 - val_loss: 0.7573 - val_accuracy: 0.7249\n",
            "Epoch 15/50\n",
            "51/51 [==============================] - 0s 10ms/step - loss: 0.6850 - accuracy: 0.7508 - val_loss: 0.7749 - val_accuracy: 0.7130\n",
            "Epoch 16/50\n",
            "51/51 [==============================] - 0s 10ms/step - loss: 0.6564 - accuracy: 0.7613 - val_loss: 0.7788 - val_accuracy: 0.7174\n",
            "Epoch 17/50\n",
            "51/51 [==============================] - 0s 9ms/step - loss: 0.6227 - accuracy: 0.7714 - val_loss: 0.8049 - val_accuracy: 0.7118\n",
            "Epoch 18/50\n",
            "51/51 [==============================] - 0s 10ms/step - loss: 0.6081 - accuracy: 0.7755 - val_loss: 0.7660 - val_accuracy: 0.7205\n",
            "Epoch 19/50\n",
            "51/51 [==============================] - 0s 9ms/step - loss: 0.6062 - accuracy: 0.7767 - val_loss: 0.8058 - val_accuracy: 0.7218\n",
            "Epoch 20/50\n",
            "51/51 [==============================] - 0s 10ms/step - loss: 0.5780 - accuracy: 0.7848 - val_loss: 0.8012 - val_accuracy: 0.7130\n",
            "Epoch 21/50\n",
            "51/51 [==============================] - 0s 10ms/step - loss: 0.5646 - accuracy: 0.7903 - val_loss: 0.8228 - val_accuracy: 0.7155\n",
            "Epoch 22/50\n",
            "51/51 [==============================] - 0s 10ms/step - loss: 0.5487 - accuracy: 0.7976 - val_loss: 0.8278 - val_accuracy: 0.7124\n",
            "Epoch 23/50\n",
            "51/51 [==============================] - 0s 9ms/step - loss: 0.5306 - accuracy: 0.8048 - val_loss: 0.8519 - val_accuracy: 0.7168\n",
            "Epoch 24/50\n",
            "51/51 [==============================] - 1s 10ms/step - loss: 0.5050 - accuracy: 0.8156 - val_loss: 0.8894 - val_accuracy: 0.6956\n",
            "Epoch 25/50\n",
            "51/51 [==============================] - 0s 9ms/step - loss: 0.5104 - accuracy: 0.8126 - val_loss: 0.8852 - val_accuracy: 0.7174\n",
            "Epoch 26/50\n",
            "51/51 [==============================] - 1s 10ms/step - loss: 0.5073 - accuracy: 0.8167 - val_loss: 0.8862 - val_accuracy: 0.7187\n",
            "Epoch 27/50\n",
            "51/51 [==============================] - 0s 10ms/step - loss: 0.5090 - accuracy: 0.8146 - val_loss: 0.8680 - val_accuracy: 0.7180\n",
            "Epoch 28/50\n",
            "51/51 [==============================] - 0s 10ms/step - loss: 0.5043 - accuracy: 0.8171 - val_loss: 0.8861 - val_accuracy: 0.7112\n",
            "Epoch 29/50\n",
            "51/51 [==============================] - 0s 9ms/step - loss: 0.4589 - accuracy: 0.8304 - val_loss: 0.8980 - val_accuracy: 0.7199\n",
            "Epoch 30/50\n",
            "51/51 [==============================] - 0s 10ms/step - loss: 0.4376 - accuracy: 0.8391 - val_loss: 0.9011 - val_accuracy: 0.7130\n",
            "Epoch 31/50\n",
            "51/51 [==============================] - 0s 10ms/step - loss: 0.5313 - accuracy: 0.8121 - val_loss: 0.8823 - val_accuracy: 0.7174\n",
            "Epoch 32/50\n",
            "51/51 [==============================] - 0s 10ms/step - loss: 0.5446 - accuracy: 0.8062 - val_loss: 0.9228 - val_accuracy: 0.7112\n",
            "Epoch 33/50\n",
            "51/51 [==============================] - 0s 9ms/step - loss: 0.4381 - accuracy: 0.8369 - val_loss: 0.9354 - val_accuracy: 0.7118\n",
            "Epoch 34/50\n",
            "51/51 [==============================] - 0s 9ms/step - loss: 0.4077 - accuracy: 0.8490 - val_loss: 0.9614 - val_accuracy: 0.7268\n",
            "Epoch 35/50\n",
            "51/51 [==============================] - 1s 10ms/step - loss: 0.3716 - accuracy: 0.8614 - val_loss: 0.9969 - val_accuracy: 0.7124\n",
            "Epoch 36/50\n",
            "51/51 [==============================] - 0s 9ms/step - loss: 0.3929 - accuracy: 0.8568 - val_loss: 0.9864 - val_accuracy: 0.7243\n",
            "Epoch 37/50\n",
            "51/51 [==============================] - 0s 9ms/step - loss: 0.3888 - accuracy: 0.8550 - val_loss: 1.0284 - val_accuracy: 0.7211\n",
            "Epoch 38/50\n",
            "51/51 [==============================] - 0s 9ms/step - loss: 0.3450 - accuracy: 0.8719 - val_loss: 1.0932 - val_accuracy: 0.7243\n",
            "Epoch 39/50\n",
            "51/51 [==============================] - 0s 10ms/step - loss: 0.3547 - accuracy: 0.8735 - val_loss: 1.0378 - val_accuracy: 0.7174\n",
            "Epoch 40/50\n",
            "51/51 [==============================] - 0s 9ms/step - loss: 0.3558 - accuracy: 0.8661 - val_loss: 1.1749 - val_accuracy: 0.7024\n",
            "Epoch 41/50\n",
            "51/51 [==============================] - 1s 10ms/step - loss: 0.3192 - accuracy: 0.8813 - val_loss: 1.1341 - val_accuracy: 0.7149\n",
            "Epoch 42/50\n",
            "51/51 [==============================] - 0s 10ms/step - loss: 0.3076 - accuracy: 0.8902 - val_loss: 1.0965 - val_accuracy: 0.7268\n",
            "Epoch 43/50\n",
            "51/51 [==============================] - 1s 10ms/step - loss: 0.3082 - accuracy: 0.8884 - val_loss: 1.1340 - val_accuracy: 0.7043\n",
            "Epoch 44/50\n",
            "51/51 [==============================] - 0s 9ms/step - loss: 0.3916 - accuracy: 0.8688 - val_loss: 1.1175 - val_accuracy: 0.7093\n",
            "Epoch 45/50\n",
            "51/51 [==============================] - 0s 9ms/step - loss: 0.3379 - accuracy: 0.8811 - val_loss: 1.1131 - val_accuracy: 0.7180\n",
            "Epoch 46/50\n",
            "51/51 [==============================] - 0s 9ms/step - loss: 0.2908 - accuracy: 0.8920 - val_loss: 1.1949 - val_accuracy: 0.7124\n",
            "Epoch 47/50\n",
            "51/51 [==============================] - 1s 10ms/step - loss: 0.2591 - accuracy: 0.9042 - val_loss: 1.2564 - val_accuracy: 0.7149\n",
            "Epoch 48/50\n",
            "51/51 [==============================] - 0s 10ms/step - loss: 0.3010 - accuracy: 0.8939 - val_loss: 1.2559 - val_accuracy: 0.7162\n",
            "Epoch 49/50\n",
            "51/51 [==============================] - 0s 10ms/step - loss: 0.2646 - accuracy: 0.9036 - val_loss: 1.2623 - val_accuracy: 0.7218\n",
            "Epoch 50/50\n",
            "51/51 [==============================] - 0s 10ms/step - loss: 0.4230 - accuracy: 0.8557 - val_loss: 1.0834 - val_accuracy: 0.7137\n",
            "dict_keys(['loss', 'accuracy', 'val_loss', 'val_accuracy'])\n"
          ]
        }
      ]
    },
    {
      "cell_type": "code",
      "source": [
        "# Predicting the Test set results\n",
        "y_pred1 = classifier1.predict(X_test)\n",
        "pred1 = list()\n",
        "for i in range(len(y_pred1)):\n",
        "  pred1.append(np.argmax(y_pred1[i]))\n",
        "#Converting one hot encoded test label to label\n",
        "test1 = list()\n",
        "for i in range(len(y_test)):\n",
        "  test1.append(y_test[i])"
      ],
      "metadata": {
        "id": "fYsgaX3aCT2W"
      },
      "execution_count": 20,
      "outputs": []
    },
    {
      "cell_type": "code",
      "source": [
        "a1= accuracy_score(pred1,test1)\n",
        "print('Accuracy is:', a1*100)"
      ],
      "metadata": {
        "colab": {
          "base_uri": "https://localhost:8080/"
        },
        "id": "VqCUYgoMClRG",
        "outputId": "688ae4e5-38e5-4744-fb45-0bd644a37164"
      },
      "execution_count": 21,
      "outputs": [
        {
          "output_type": "stream",
          "name": "stdout",
          "text": [
            "Accuracy is: 71.09335996005991\n"
          ]
        }
      ]
    },
    {
      "cell_type": "code",
      "source": [
        "# Making the Confusion Matrix\n",
        "cm1= confusion_matrix(test1, pred1)\n",
        "cm1"
      ],
      "metadata": {
        "colab": {
          "base_uri": "https://localhost:8080/"
        },
        "id": "oxRYPugXCsUG",
        "outputId": "5c587122-1f45-4cfb-fc78-e2f09ab2b545"
      },
      "execution_count": 22,
      "outputs": [
        {
          "output_type": "execute_result",
          "data": {
            "text/plain": [
              "array([[  21,   14,    9,    0,    6,   13,    2],\n",
              "       [  16,   29,   17,    2,    4,   38,    5],\n",
              "       [   8,    6,   79,    1,   23,   91,    4],\n",
              "       [   3,    6,    9,    0,    0,    6,    0],\n",
              "       [   1,    7,   37,    0,   58,  121,    1],\n",
              "       [   4,    4,   55,    0,   45, 1230,    1],\n",
              "       [   0,    6,    2,    0,    0,   12,    7]])"
            ]
          },
          "metadata": {},
          "execution_count": 22
        }
      ]
    },
    {
      "cell_type": "code",
      "source": [
        "print(classification_report(test1, pred1))"
      ],
      "metadata": {
        "colab": {
          "base_uri": "https://localhost:8080/"
        },
        "id": "h5EKwmSsCwhm",
        "outputId": "a0efc3e9-9e5c-4b57-c7e3-112a8940b9e7"
      },
      "execution_count": 23,
      "outputs": [
        {
          "output_type": "stream",
          "name": "stdout",
          "text": [
            "              precision    recall  f1-score   support\n",
            "\n",
            "           0       0.40      0.32      0.36        65\n",
            "           1       0.40      0.26      0.32       111\n",
            "           2       0.38      0.37      0.38       212\n",
            "           3       0.00      0.00      0.00        24\n",
            "           4       0.43      0.26      0.32       225\n",
            "           5       0.81      0.92      0.86      1339\n",
            "           6       0.35      0.26      0.30        27\n",
            "\n",
            "    accuracy                           0.71      2003\n",
            "   macro avg       0.40      0.34      0.36      2003\n",
            "weighted avg       0.67      0.71      0.69      2003\n",
            "\n"
          ]
        }
      ]
    },
    {
      "cell_type": "code",
      "source": [
        "# summarize history for accuracy\n",
        "plt.plot(model1_history.history['accuracy'])\n",
        "plt.plot(model1_history.history['val_accuracy'])\n",
        "plt.title('model accuracy')\n",
        "plt.ylabel('accuracy')\n",
        "plt.xlabel('epoch')\n",
        "plt.legend(['train', 'test'], loc='upper left')\n",
        "plt.show()\n",
        "# summarize history for loss\n",
        "plt.plot(model1_history.history['loss'])\n",
        "plt.plot(model1_history.history['val_loss'])\n",
        "plt.title('model loss')\n",
        "plt.ylabel('loss')\n",
        "plt.xlabel('epoch')\n",
        "plt.legend(['train', 'test'], loc='upper left')\n",
        "plt.show()"
      ],
      "metadata": {
        "colab": {
          "base_uri": "https://localhost:8080/",
          "height": 573
        },
        "id": "b0EmWmCEC1M-",
        "outputId": "f952138d-8ea8-403e-9250-b4154384a50f"
      },
      "execution_count": 24,
      "outputs": [
        {
          "output_type": "display_data",
          "data": {
            "text/plain": [
              "<Figure size 432x288 with 1 Axes>"
            ],
            "image/png": "[encoded data removed]"
          },
          "metadata": {
            "needs_background": "light"
          }
        },
        {
          "output_type": "display_data",
          "data": {
            "text/plain": [
              "<Figure size 432x288 with 1 Axes>"
            ],
            "image/png": "[encoded data removed]"
          },
          "metadata": {
            "needs_background": "light"
          }
        }
      ]
    },
    {
      "cell_type": "code",
      "source": [
        "classifier2 = Sequential()\n",
        "# Adding the input layer and the three hidden layer\n",
        "classifier2.add(Dense(100 ,input_dim = X_train.shape[1]))\n",
        "classifier2.add(Activation('relu'))\n",
        "classifier2.add(Dropout(0.3))\n",
        "classifier2.add(Dense(100))\n",
        "classifier2.add(Activation('relu'))\n",
        "classifier2.add(Dropout(0.3))\n",
        "classifier2.add(Dense(100))\n",
        "classifier2.add(Activation('relu'))\n",
        "classifier2.add(Dropout(0.3))\n",
        "classifier2.add(Dense(100))\n",
        "classifier2.add(Activation('relu'))\n",
        "classifier2.add(Dropout(0.3))\n",
        "classifier2.add(Dense(7, activation = 'softmax'))\n",
        "classifier2.compile(optimizer = 'adam', loss = 'sparse_categorical_crossentropy', metrics = ['accuracy'])\n",
        "model2_history=classifier2.fit(X_train, y_train,validation_split=0.33,batch_size = 128, epochs = 50)\n",
        "print(model2_history.history.keys())"
      ],
      "metadata": {
        "colab": {
          "base_uri": "https://localhost:8080/"
        },
        "id": "GFDmIPq-DB9F",
        "outputId": "63d36690-7ec8-4004-8c40-d2178f6afa25"
      },
      "execution_count": 25,
      "outputs": [
        {
          "output_type": "stream",
          "name": "stdout",
          "text": [
            "Epoch 1/50\n",
            "42/42 [==============================] - 2s 24ms/step - loss: 1.3359 - accuracy: 0.5779 - val_loss: 0.9563 - val_accuracy: 0.6710\n",
            "Epoch 2/50\n",
            "42/42 [==============================] - 1s 18ms/step - loss: 1.0709 - accuracy: 0.6475 - val_loss: 0.9444 - val_accuracy: 0.6759\n",
            "Epoch 3/50\n",
            "42/42 [==============================] - 1s 16ms/step - loss: 1.0150 - accuracy: 0.6529 - val_loss: 0.9509 - val_accuracy: 0.6755\n",
            "Epoch 4/50\n",
            "42/42 [==============================] - 1s 17ms/step - loss: 0.9869 - accuracy: 0.6591 - val_loss: 0.9148 - val_accuracy: 0.6732\n",
            "Epoch 5/50\n",
            "42/42 [==============================] - 0s 11ms/step - loss: 0.9712 - accuracy: 0.6647 - val_loss: 0.9123 - val_accuracy: 0.6789\n",
            "Epoch 6/50\n",
            "42/42 [==============================] - 0s 11ms/step - loss: 0.9662 - accuracy: 0.6630 - val_loss: 0.9006 - val_accuracy: 0.6725\n",
            "Epoch 7/50\n",
            "42/42 [==============================] - 0s 11ms/step - loss: 0.9354 - accuracy: 0.6677 - val_loss: 0.8907 - val_accuracy: 0.6797\n",
            "Epoch 8/50\n",
            "42/42 [==============================] - 0s 11ms/step - loss: 0.9084 - accuracy: 0.6727 - val_loss: 0.8648 - val_accuracy: 0.7023\n",
            "Epoch 9/50\n",
            "42/42 [==============================] - 0s 11ms/step - loss: 0.8972 - accuracy: 0.6727 - val_loss: 0.8537 - val_accuracy: 0.6936\n",
            "Epoch 10/50\n",
            "42/42 [==============================] - 1s 13ms/step - loss: 0.8939 - accuracy: 0.6788 - val_loss: 0.8574 - val_accuracy: 0.7005\n",
            "Epoch 11/50\n",
            "42/42 [==============================] - 0s 11ms/step - loss: 0.8852 - accuracy: 0.6852 - val_loss: 0.8455 - val_accuracy: 0.6918\n",
            "Epoch 12/50\n",
            "42/42 [==============================] - 0s 11ms/step - loss: 0.8679 - accuracy: 0.6850 - val_loss: 0.8316 - val_accuracy: 0.7005\n",
            "Epoch 13/50\n",
            "42/42 [==============================] - 0s 11ms/step - loss: 0.8570 - accuracy: 0.6917 - val_loss: 0.8333 - val_accuracy: 0.7069\n",
            "Epoch 14/50\n",
            "42/42 [==============================] - 0s 11ms/step - loss: 0.8547 - accuracy: 0.6928 - val_loss: 0.8186 - val_accuracy: 0.7065\n",
            "Epoch 15/50\n",
            "42/42 [==============================] - 0s 12ms/step - loss: 0.8461 - accuracy: 0.6952 - val_loss: 0.8276 - val_accuracy: 0.7054\n",
            "Epoch 16/50\n",
            "42/42 [==============================] - 0s 11ms/step - loss: 0.8313 - accuracy: 0.7006 - val_loss: 0.8090 - val_accuracy: 0.7061\n",
            "Epoch 17/50\n",
            "42/42 [==============================] - 0s 11ms/step - loss: 0.8297 - accuracy: 0.6975 - val_loss: 0.8177 - val_accuracy: 0.7156\n",
            "Epoch 18/50\n",
            "42/42 [==============================] - 0s 11ms/step - loss: 0.8149 - accuracy: 0.7064 - val_loss: 0.7962 - val_accuracy: 0.7152\n",
            "Epoch 19/50\n",
            "42/42 [==============================] - 0s 11ms/step - loss: 0.8087 - accuracy: 0.7101 - val_loss: 0.7971 - val_accuracy: 0.7152\n",
            "Epoch 20/50\n",
            "42/42 [==============================] - 0s 11ms/step - loss: 0.7897 - accuracy: 0.7159 - val_loss: 0.7863 - val_accuracy: 0.7171\n",
            "Epoch 21/50\n",
            "42/42 [==============================] - 0s 11ms/step - loss: 0.7887 - accuracy: 0.7183 - val_loss: 0.7908 - val_accuracy: 0.7220\n",
            "Epoch 22/50\n",
            "42/42 [==============================] - 0s 11ms/step - loss: 0.7880 - accuracy: 0.7196 - val_loss: 0.8125 - val_accuracy: 0.7152\n",
            "Epoch 23/50\n",
            "42/42 [==============================] - 0s 11ms/step - loss: 0.7891 - accuracy: 0.7127 - val_loss: 0.7889 - val_accuracy: 0.7144\n",
            "Epoch 24/50\n",
            "42/42 [==============================] - 0s 11ms/step - loss: 0.7720 - accuracy: 0.7219 - val_loss: 0.7894 - val_accuracy: 0.7160\n",
            "Epoch 25/50\n",
            "42/42 [==============================] - 0s 11ms/step - loss: 0.7794 - accuracy: 0.7181 - val_loss: 0.7996 - val_accuracy: 0.7152\n",
            "Epoch 26/50\n",
            "42/42 [==============================] - 0s 11ms/step - loss: 0.7458 - accuracy: 0.7275 - val_loss: 0.7819 - val_accuracy: 0.7201\n",
            "Epoch 27/50\n",
            "42/42 [==============================] - 0s 11ms/step - loss: 0.7317 - accuracy: 0.7370 - val_loss: 0.7883 - val_accuracy: 0.7231\n",
            "Epoch 28/50\n",
            "42/42 [==============================] - 0s 11ms/step - loss: 0.7374 - accuracy: 0.7329 - val_loss: 0.7809 - val_accuracy: 0.7175\n",
            "Epoch 29/50\n",
            "42/42 [==============================] - 1s 13ms/step - loss: 0.7378 - accuracy: 0.7390 - val_loss: 0.7942 - val_accuracy: 0.7205\n",
            "Epoch 30/50\n",
            "42/42 [==============================] - 0s 11ms/step - loss: 0.7191 - accuracy: 0.7370 - val_loss: 0.7797 - val_accuracy: 0.7205\n",
            "Epoch 31/50\n",
            "42/42 [==============================] - 0s 11ms/step - loss: 0.7081 - accuracy: 0.7383 - val_loss: 0.7839 - val_accuracy: 0.7224\n",
            "Epoch 32/50\n",
            "42/42 [==============================] - 0s 11ms/step - loss: 0.7018 - accuracy: 0.7409 - val_loss: 0.7986 - val_accuracy: 0.7205\n",
            "Epoch 33/50\n",
            "42/42 [==============================] - 0s 11ms/step - loss: 0.6950 - accuracy: 0.7483 - val_loss: 0.7958 - val_accuracy: 0.7171\n",
            "Epoch 34/50\n",
            "42/42 [==============================] - 0s 11ms/step - loss: 0.7001 - accuracy: 0.7431 - val_loss: 0.7773 - val_accuracy: 0.7247\n",
            "Epoch 35/50\n",
            "42/42 [==============================] - 0s 11ms/step - loss: 0.6927 - accuracy: 0.7496 - val_loss: 0.7934 - val_accuracy: 0.7216\n",
            "Epoch 36/50\n",
            "42/42 [==============================] - 1s 13ms/step - loss: 0.6834 - accuracy: 0.7474 - val_loss: 0.7746 - val_accuracy: 0.7269\n",
            "Epoch 37/50\n",
            "42/42 [==============================] - 0s 11ms/step - loss: 0.6646 - accuracy: 0.7576 - val_loss: 0.7787 - val_accuracy: 0.7337\n",
            "Epoch 38/50\n",
            "42/42 [==============================] - 0s 12ms/step - loss: 0.6663 - accuracy: 0.7524 - val_loss: 0.7771 - val_accuracy: 0.7284\n",
            "Epoch 39/50\n",
            "42/42 [==============================] - 0s 11ms/step - loss: 0.6681 - accuracy: 0.7550 - val_loss: 0.7908 - val_accuracy: 0.7277\n",
            "Epoch 40/50\n",
            "42/42 [==============================] - 1s 13ms/step - loss: 0.6645 - accuracy: 0.7621 - val_loss: 0.7956 - val_accuracy: 0.7269\n",
            "Epoch 41/50\n",
            "42/42 [==============================] - 1s 12ms/step - loss: 0.6509 - accuracy: 0.7694 - val_loss: 0.7761 - val_accuracy: 0.7292\n",
            "Epoch 42/50\n",
            "42/42 [==============================] - 1s 13ms/step - loss: 0.6454 - accuracy: 0.7671 - val_loss: 0.7953 - val_accuracy: 0.7228\n",
            "Epoch 43/50\n",
            "42/42 [==============================] - 1s 13ms/step - loss: 0.6445 - accuracy: 0.7647 - val_loss: 0.7769 - val_accuracy: 0.7352\n",
            "Epoch 44/50\n",
            "42/42 [==============================] - 1s 13ms/step - loss: 0.6431 - accuracy: 0.7597 - val_loss: 0.7662 - val_accuracy: 0.7303\n",
            "Epoch 45/50\n",
            "42/42 [==============================] - 0s 12ms/step - loss: 0.6115 - accuracy: 0.7761 - val_loss: 0.7718 - val_accuracy: 0.7292\n",
            "Epoch 46/50\n",
            "42/42 [==============================] - 0s 12ms/step - loss: 0.6024 - accuracy: 0.7820 - val_loss: 0.7890 - val_accuracy: 0.7292\n",
            "Epoch 47/50\n",
            "42/42 [==============================] - 0s 11ms/step - loss: 0.6125 - accuracy: 0.7785 - val_loss: 0.7989 - val_accuracy: 0.7292\n",
            "Epoch 48/50\n",
            "42/42 [==============================] - 1s 17ms/step - loss: 0.5958 - accuracy: 0.7884 - val_loss: 0.7827 - val_accuracy: 0.7292\n",
            "Epoch 49/50\n",
            "42/42 [==============================] - 1s 20ms/step - loss: 0.5800 - accuracy: 0.7893 - val_loss: 0.7861 - val_accuracy: 0.7228\n",
            "Epoch 50/50\n",
            "42/42 [==============================] - 1s 21ms/step - loss: 0.5966 - accuracy: 0.7878 - val_loss: 0.7956 - val_accuracy: 0.7243\n",
            "dict_keys(['loss', 'accuracy', 'val_loss', 'val_accuracy'])\n"
          ]
        }
      ]
    },
    {
      "cell_type": "code",
      "source": [
        "# Predicting the Test set results\n",
        "y_pred2 = classifier2.predict(X_test)\n",
        "pred2 = list()\n",
        "for i in range(len(y_pred2)):\n",
        "  pred2.append(np.argmax(y_pred2[i]))\n",
        "#Converting one hot encoded test label to label\n",
        "test2 = list()\n",
        "for i in range(len(y_test)):\n",
        "  test2.append(y_test[i])"
      ],
      "metadata": {
        "id": "DnrW144DDQG9"
      },
      "execution_count": 26,
      "outputs": []
    },
    {
      "cell_type": "code",
      "source": [
        "a2 = accuracy_score(pred2,test2)\n",
        "print('Accuracy is:', a2*100)"
      ],
      "metadata": {
        "colab": {
          "base_uri": "https://localhost:8080/"
        },
        "id": "zsN8uo6QDeQu",
        "outputId": "4c131ce9-88e9-4ec5-ac80-00ce0c8771c8"
      },
      "execution_count": 27,
      "outputs": [
        {
          "output_type": "stream",
          "name": "stdout",
          "text": [
            "Accuracy is: 72.24163754368448\n"
          ]
        }
      ]
    },
    {
      "cell_type": "code",
      "source": [
        "# Making the Confusion Matrix\n",
        "cm2= confusion_matrix(test2, pred2)\n",
        "cm2"
      ],
      "metadata": {
        "colab": {
          "base_uri": "https://localhost:8080/"
        },
        "id": "V1n2lrtBDiRd",
        "outputId": "afc52525-5fe0-45e8-f4f6-4448c9e9ea1c"
      },
      "execution_count": 28,
      "outputs": [
        {
          "output_type": "execute_result",
          "data": {
            "text/plain": [
              "array([[  22,   23,    5,    0,    6,    9,    0],\n",
              "       [  13,   49,   17,    0,    0,   31,    1],\n",
              "       [   8,   17,   75,    0,   14,   98,    0],\n",
              "       [   0,   13,    5,    0,    1,    5,    0],\n",
              "       [   1,   10,   38,    0,   31,  145,    0],\n",
              "       [   6,    9,   48,    0,    9, 1267,    0],\n",
              "       [   2,    8,    1,    0,    0,   13,    3]])"
            ]
          },
          "metadata": {},
          "execution_count": 28
        }
      ]
    },
    {
      "cell_type": "code",
      "source": [
        "print(classification_report(test2, pred2))"
      ],
      "metadata": {
        "colab": {
          "base_uri": "https://localhost:8080/"
        },
        "id": "MWx_5VAxDnAF",
        "outputId": "708b6f7e-3f0b-465a-93f4-688e4a6da2a7"
      },
      "execution_count": 29,
      "outputs": [
        {
          "output_type": "stream",
          "name": "stdout",
          "text": [
            "              precision    recall  f1-score   support\n",
            "\n",
            "           0       0.42      0.34      0.38        65\n",
            "           1       0.38      0.44      0.41       111\n",
            "           2       0.40      0.35      0.37       212\n",
            "           3       0.00      0.00      0.00        24\n",
            "           4       0.51      0.14      0.22       225\n",
            "           5       0.81      0.95      0.87      1339\n",
            "           6       0.75      0.11      0.19        27\n",
            "\n",
            "    accuracy                           0.72      2003\n",
            "   macro avg       0.47      0.33      0.35      2003\n",
            "weighted avg       0.68      0.72      0.68      2003\n",
            "\n"
          ]
        },
        {
          "output_type": "stream",
          "name": "stderr",
          "text": [
            "/usr/local/lib/python3.7/dist-packages/sklearn/metrics/_classification.py:1318: UndefinedMetricWarning: Precision and F-score are ill-defined and being set to 0.0 in labels with no predicted samples. Use `zero_division` parameter to control this behavior.\n",
            "  _warn_prf(average, modifier, msg_start, len(result))\n",
            "/usr/local/lib/python3.7/dist-packages/sklearn/metrics/_classification.py:1318: UndefinedMetricWarning: Precision and F-score are ill-defined and being set to 0.0 in labels with no predicted samples. Use `zero_division` parameter to control this behavior.\n",
            "  _warn_prf(average, modifier, msg_start, len(result))\n",
            "/usr/local/lib/python3.7/dist-packages/sklearn/metrics/_classification.py:1318: UndefinedMetricWarning: Precision and F-score are ill-defined and being set to 0.0 in labels with no predicted samples. Use `zero_division` parameter to control this behavior.\n",
            "  _warn_prf(average, modifier, msg_start, len(result))\n"
          ]
        }
      ]
    },
    {
      "cell_type": "code",
      "source": [
        "# summarize history for accuracy\n",
        "plt.plot(model2_history.history['accuracy'])\n",
        "plt.plot(model2_history.history['val_accuracy'])\n",
        "plt.title('model accuracy')\n",
        "plt.ylabel('accuracy')\n",
        "plt.xlabel('epoch')\n",
        "plt.legend(['train', 'test'], loc='upper left')\n",
        "plt.show()\n",
        "# summarize history for loss\n",
        "plt.plot(model2_history.history['loss'])\n",
        "plt.plot(model2_history.history['val_loss'])\n",
        "plt.title('model loss')\n",
        "plt.ylabel('loss')\n",
        "plt.xlabel('epoch')\n",
        "plt.legend(['train', 'test'], loc='upper left')\n",
        "plt.show()"
      ],
      "metadata": {
        "colab": {
          "base_uri": "https://localhost:8080/",
          "height": 573
        },
        "id": "77qQ_jccDrzt",
        "outputId": "93b4d43a-6432-4a2d-e6cc-646f2e9d104f"
      },
      "execution_count": 30,
      "outputs": [
        {
          "output_type": "display_data",
          "data": {
            "text/plain": [
              "<Figure size 432x288 with 1 Axes>"
            ],
            "image/png": "[encoded data removed]"
          },
          "metadata": {
            "needs_background": "light"
          }
        },
        {
          "output_type": "display_data",
          "data": {
            "text/plain": [
              "<Figure size 432x288 with 1 Axes>"
            ],
            "image/png": "[encoded data removed]"
          },
          "metadata": {
            "needs_background": "light"
          }
        }
      ]
    },
    {
      "cell_type": "code",
      "source": [
        "classifier3 = Sequential()\n",
        "# Adding the input layer and the three hidden layer\n",
        "classifier3.add(Dense(100 ,input_dim = X_train.shape[1]))\n",
        "classifier3.add(Activation('relu'))\n",
        "classifier3.add(Dropout(0.3))\n",
        "classifier3.add(Dense(100))\n",
        "classifier3.add(Activation('relu'))\n",
        "classifier3.add(Dropout(0.3))\n",
        "classifier3.add(Dense(100))\n",
        "classifier3.add(Activation('relu'))\n",
        "classifier3.add(Dropout(0.3))\n",
        "classifier3.add(Dense(100))\n",
        "classifier3.add(Activation('relu'))\n",
        "classifier3.add(Dropout(0.3))\n",
        "classifier3.add(Dense(100))\n",
        "classifier3.add(Activation('relu'))\n",
        "classifier3.add(Dropout(0.3))\n",
        "classifier3.add(Dense(7, activation = 'softmax'))\n",
        "classifier3.compile(optimizer = 'adam', loss = 'sparse_categorical_crossentropy', metrics = ['accuracy'])\n",
        "model3_history=classifier3.fit(X_train, y_train,validation_split=0.33,batch_size = 128,epochs = 50)\n",
        "print(model3_history.history.keys())"
      ],
      "metadata": {
        "colab": {
          "base_uri": "https://localhost:8080/"
        },
        "id": "IpFWnS3tD3im",
        "outputId": "eea48d05-479a-4bfd-b6d1-df012ca4be0f"
      },
      "execution_count": 31,
      "outputs": [
        {
          "output_type": "stream",
          "name": "stdout",
          "text": [
            "Epoch 1/50\n",
            "42/42 [==============================] - 2s 26ms/step - loss: 1.2589 - accuracy: 0.6034 - val_loss: 1.0712 - val_accuracy: 0.6638\n",
            "Epoch 2/50\n",
            "42/42 [==============================] - 1s 17ms/step - loss: 1.0598 - accuracy: 0.6522 - val_loss: 1.0276 - val_accuracy: 0.6683\n",
            "Epoch 3/50\n",
            "42/42 [==============================] - 1s 19ms/step - loss: 1.0187 - accuracy: 0.6621 - val_loss: 0.9870 - val_accuracy: 0.6694\n",
            "Epoch 4/50\n",
            "42/42 [==============================] - 1s 19ms/step - loss: 0.9967 - accuracy: 0.6623 - val_loss: 0.9463 - val_accuracy: 0.6762\n",
            "Epoch 5/50\n",
            "42/42 [==============================] - 1s 16ms/step - loss: 0.9801 - accuracy: 0.6606 - val_loss: 0.9431 - val_accuracy: 0.6698\n",
            "Epoch 6/50\n",
            "42/42 [==============================] - 1s 13ms/step - loss: 0.9789 - accuracy: 0.6637 - val_loss: 0.9682 - val_accuracy: 0.6694\n",
            "Epoch 7/50\n",
            "42/42 [==============================] - 1s 12ms/step - loss: 0.9503 - accuracy: 0.6688 - val_loss: 0.9232 - val_accuracy: 0.6725\n",
            "Epoch 8/50\n",
            "42/42 [==============================] - 1s 12ms/step - loss: 0.9457 - accuracy: 0.6664 - val_loss: 0.9294 - val_accuracy: 0.6755\n",
            "Epoch 9/50\n",
            "42/42 [==============================] - 1s 12ms/step - loss: 0.9347 - accuracy: 0.6619 - val_loss: 0.9342 - val_accuracy: 0.6812\n",
            "Epoch 10/50\n",
            "42/42 [==============================] - 1s 12ms/step - loss: 0.9254 - accuracy: 0.6708 - val_loss: 0.9152 - val_accuracy: 0.6884\n",
            "Epoch 11/50\n",
            "42/42 [==============================] - 1s 14ms/step - loss: 0.9143 - accuracy: 0.6682 - val_loss: 0.9245 - val_accuracy: 0.6842\n",
            "Epoch 12/50\n",
            "42/42 [==============================] - 0s 12ms/step - loss: 0.8932 - accuracy: 0.6705 - val_loss: 0.8814 - val_accuracy: 0.6887\n",
            "Epoch 13/50\n",
            "42/42 [==============================] - 1s 12ms/step - loss: 0.8801 - accuracy: 0.6738 - val_loss: 0.9399 - val_accuracy: 0.6884\n",
            "Epoch 14/50\n",
            "42/42 [==============================] - 0s 11ms/step - loss: 0.8815 - accuracy: 0.6721 - val_loss: 0.8910 - val_accuracy: 0.6865\n",
            "Epoch 15/50\n",
            "42/42 [==============================] - 1s 12ms/step - loss: 0.8906 - accuracy: 0.6764 - val_loss: 0.8983 - val_accuracy: 0.7076\n",
            "Epoch 16/50\n",
            "42/42 [==============================] - 1s 12ms/step - loss: 0.8603 - accuracy: 0.6790 - val_loss: 0.8618 - val_accuracy: 0.6940\n",
            "Epoch 17/50\n",
            "42/42 [==============================] - 1s 14ms/step - loss: 0.8660 - accuracy: 0.6777 - val_loss: 0.8610 - val_accuracy: 0.7061\n",
            "Epoch 18/50\n",
            "42/42 [==============================] - 0s 12ms/step - loss: 0.8560 - accuracy: 0.6865 - val_loss: 0.8730 - val_accuracy: 0.6921\n",
            "Epoch 19/50\n",
            "42/42 [==============================] - 1s 12ms/step - loss: 0.8404 - accuracy: 0.6924 - val_loss: 0.8563 - val_accuracy: 0.7020\n",
            "Epoch 20/50\n",
            "42/42 [==============================] - 1s 12ms/step - loss: 0.8398 - accuracy: 0.6898 - val_loss: 0.8583 - val_accuracy: 0.7039\n",
            "Epoch 21/50\n",
            "42/42 [==============================] - 1s 12ms/step - loss: 0.8163 - accuracy: 0.6947 - val_loss: 0.8655 - val_accuracy: 0.7012\n",
            "Epoch 22/50\n",
            "42/42 [==============================] - 0s 12ms/step - loss: 0.8271 - accuracy: 0.6990 - val_loss: 0.8580 - val_accuracy: 0.7042\n",
            "Epoch 23/50\n",
            "42/42 [==============================] - 1s 14ms/step - loss: 0.8029 - accuracy: 0.7058 - val_loss: 0.8452 - val_accuracy: 0.7122\n",
            "Epoch 24/50\n",
            "42/42 [==============================] - 0s 12ms/step - loss: 0.8041 - accuracy: 0.7014 - val_loss: 0.8214 - val_accuracy: 0.7069\n",
            "Epoch 25/50\n",
            "42/42 [==============================] - 1s 14ms/step - loss: 0.7967 - accuracy: 0.7077 - val_loss: 0.8418 - val_accuracy: 0.7054\n",
            "Epoch 26/50\n",
            "42/42 [==============================] - 1s 12ms/step - loss: 0.7893 - accuracy: 0.7064 - val_loss: 0.8192 - val_accuracy: 0.7069\n",
            "Epoch 27/50\n",
            "42/42 [==============================] - 1s 12ms/step - loss: 0.7840 - accuracy: 0.7111 - val_loss: 0.8388 - val_accuracy: 0.7084\n",
            "Epoch 28/50\n",
            "42/42 [==============================] - 1s 12ms/step - loss: 0.7901 - accuracy: 0.7159 - val_loss: 0.8400 - val_accuracy: 0.7012\n",
            "Epoch 29/50\n",
            "42/42 [==============================] - 1s 13ms/step - loss: 0.7670 - accuracy: 0.7176 - val_loss: 0.8166 - val_accuracy: 0.7080\n",
            "Epoch 30/50\n",
            "42/42 [==============================] - 1s 12ms/step - loss: 0.7769 - accuracy: 0.7174 - val_loss: 0.8420 - val_accuracy: 0.6989\n",
            "Epoch 31/50\n",
            "42/42 [==============================] - 1s 13ms/step - loss: 0.7531 - accuracy: 0.7200 - val_loss: 0.8563 - val_accuracy: 0.7073\n",
            "Epoch 32/50\n",
            "42/42 [==============================] - 1s 12ms/step - loss: 0.7411 - accuracy: 0.7276 - val_loss: 0.8240 - val_accuracy: 0.7175\n",
            "Epoch 33/50\n",
            "42/42 [==============================] - 1s 14ms/step - loss: 0.7481 - accuracy: 0.7245 - val_loss: 0.8048 - val_accuracy: 0.7167\n",
            "Epoch 34/50\n",
            "42/42 [==============================] - 1s 14ms/step - loss: 0.7368 - accuracy: 0.7196 - val_loss: 0.7885 - val_accuracy: 0.7224\n",
            "Epoch 35/50\n",
            "42/42 [==============================] - 1s 14ms/step - loss: 0.7389 - accuracy: 0.7329 - val_loss: 0.7947 - val_accuracy: 0.7175\n",
            "Epoch 36/50\n",
            "42/42 [==============================] - 1s 14ms/step - loss: 0.7430 - accuracy: 0.7282 - val_loss: 0.8094 - val_accuracy: 0.7141\n",
            "Epoch 37/50\n",
            "42/42 [==============================] - 1s 13ms/step - loss: 0.7202 - accuracy: 0.7310 - val_loss: 0.8007 - val_accuracy: 0.7179\n",
            "Epoch 38/50\n",
            "42/42 [==============================] - 1s 18ms/step - loss: 0.7232 - accuracy: 0.7330 - val_loss: 0.8011 - val_accuracy: 0.7194\n",
            "Epoch 39/50\n",
            "42/42 [==============================] - 1s 19ms/step - loss: 0.7249 - accuracy: 0.7321 - val_loss: 0.7955 - val_accuracy: 0.7190\n",
            "Epoch 40/50\n",
            "42/42 [==============================] - 1s 19ms/step - loss: 0.7178 - accuracy: 0.7327 - val_loss: 0.8164 - val_accuracy: 0.7209\n",
            "Epoch 41/50\n",
            "42/42 [==============================] - 1s 21ms/step - loss: 0.7235 - accuracy: 0.7330 - val_loss: 0.7964 - val_accuracy: 0.7258\n",
            "Epoch 42/50\n",
            "42/42 [==============================] - 1s 25ms/step - loss: 0.7037 - accuracy: 0.7353 - val_loss: 0.8064 - val_accuracy: 0.7190\n",
            "Epoch 43/50\n",
            "42/42 [==============================] - 1s 22ms/step - loss: 0.6919 - accuracy: 0.7439 - val_loss: 0.8240 - val_accuracy: 0.7027\n",
            "Epoch 44/50\n",
            "42/42 [==============================] - 1s 22ms/step - loss: 0.6986 - accuracy: 0.7392 - val_loss: 0.7910 - val_accuracy: 0.7239\n",
            "Epoch 45/50\n",
            "42/42 [==============================] - 1s 23ms/step - loss: 0.6736 - accuracy: 0.7485 - val_loss: 0.7878 - val_accuracy: 0.7167\n",
            "Epoch 46/50\n",
            "42/42 [==============================] - 1s 22ms/step - loss: 0.6788 - accuracy: 0.7480 - val_loss: 0.7988 - val_accuracy: 0.7194\n",
            "Epoch 47/50\n",
            "42/42 [==============================] - 1s 17ms/step - loss: 0.6665 - accuracy: 0.7506 - val_loss: 0.7944 - val_accuracy: 0.7266\n",
            "Epoch 48/50\n",
            "42/42 [==============================] - 1s 27ms/step - loss: 0.6668 - accuracy: 0.7500 - val_loss: 0.7986 - val_accuracy: 0.7209\n",
            "Epoch 49/50\n",
            "42/42 [==============================] - 1s 24ms/step - loss: 0.6602 - accuracy: 0.7534 - val_loss: 0.8030 - val_accuracy: 0.7220\n",
            "Epoch 50/50\n",
            "42/42 [==============================] - 1s 32ms/step - loss: 0.6595 - accuracy: 0.7582 - val_loss: 0.8121 - val_accuracy: 0.7126\n",
            "dict_keys(['loss', 'accuracy', 'val_loss', 'val_accuracy'])\n"
          ]
        }
      ]
    },
    {
      "cell_type": "code",
      "source": [
        "# Predicting the Test set results\n",
        "y_pred3 = classifier2.predict(X_test)\n",
        "pred3 = list()\n",
        "for i in range(len(y_pred3)):\n",
        "  pred3.append(np.argmax(y_pred3[i]))\n",
        "#Converting one hot encoded test label to label\n",
        "test3 = list()\n",
        "for i in range(len(y_test)):\n",
        "  test3.append(y_test[i])"
      ],
      "metadata": {
        "id": "EyigSHZ2EDf9"
      },
      "execution_count": 32,
      "outputs": []
    },
    {
      "cell_type": "code",
      "source": [
        "a3 = accuracy_score(pred3,test3)\n",
        "print('Accuracy is:', a3*100)"
      ],
      "metadata": {
        "colab": {
          "base_uri": "https://localhost:8080/"
        },
        "id": "9c0rJzKwEOKd",
        "outputId": "40baad1a-6b27-4269-ee45-6c2d05ee5f53"
      },
      "execution_count": 33,
      "outputs": [
        {
          "output_type": "stream",
          "name": "stdout",
          "text": [
            "Accuracy is: 72.24163754368448\n"
          ]
        }
      ]
    },
    {
      "cell_type": "code",
      "source": [
        "# Making the Confusion Matrix\n",
        "cm3= confusion_matrix(test3, pred3)\n",
        "cm3\n"
      ],
      "metadata": {
        "colab": {
          "base_uri": "https://localhost:8080/"
        },
        "id": "X9h5wjlTER2W",
        "outputId": "7f5e60d6-433c-458e-f6ee-3b373de5e167"
      },
      "execution_count": 34,
      "outputs": [
        {
          "output_type": "execute_result",
          "data": {
            "text/plain": [
              "array([[  22,   23,    5,    0,    6,    9,    0],\n",
              "       [  13,   49,   17,    0,    0,   31,    1],\n",
              "       [   8,   17,   75,    0,   14,   98,    0],\n",
              "       [   0,   13,    5,    0,    1,    5,    0],\n",
              "       [   1,   10,   38,    0,   31,  145,    0],\n",
              "       [   6,    9,   48,    0,    9, 1267,    0],\n",
              "       [   2,    8,    1,    0,    0,   13,    3]])"
            ]
          },
          "metadata": {},
          "execution_count": 34
        }
      ]
    },
    {
      "cell_type": "code",
      "source": [
        "print(classification_report(test3, pred3))"
      ],
      "metadata": {
        "colab": {
          "base_uri": "https://localhost:8080/"
        },
        "id": "iqxLbqP9EZ8u",
        "outputId": "5a8f472b-2bd4-4b14-f5bd-c1fb0d9a7695"
      },
      "execution_count": 35,
      "outputs": [
        {
          "output_type": "stream",
          "name": "stdout",
          "text": [
            "              precision    recall  f1-score   support\n",
            "\n",
            "           0       0.42      0.34      0.38        65\n",
            "           1       0.38      0.44      0.41       111\n",
            "           2       0.40      0.35      0.37       212\n",
            "           3       0.00      0.00      0.00        24\n",
            "           4       0.51      0.14      0.22       225\n",
            "           5       0.81      0.95      0.87      1339\n",
            "           6       0.75      0.11      0.19        27\n",
            "\n",
            "    accuracy                           0.72      2003\n",
            "   macro avg       0.47      0.33      0.35      2003\n",
            "weighted avg       0.68      0.72      0.68      2003\n",
            "\n"
          ]
        },
        {
          "output_type": "stream",
          "name": "stderr",
          "text": [
            "/usr/local/lib/python3.7/dist-packages/sklearn/metrics/_classification.py:1318: UndefinedMetricWarning: Precision and F-score are ill-defined and being set to 0.0 in labels with no predicted samples. Use `zero_division` parameter to control this behavior.\n",
            "  _warn_prf(average, modifier, msg_start, len(result))\n",
            "/usr/local/lib/python3.7/dist-packages/sklearn/metrics/_classification.py:1318: UndefinedMetricWarning: Precision and F-score are ill-defined and being set to 0.0 in labels with no predicted samples. Use `zero_division` parameter to control this behavior.\n",
            "  _warn_prf(average, modifier, msg_start, len(result))\n",
            "/usr/local/lib/python3.7/dist-packages/sklearn/metrics/_classification.py:1318: UndefinedMetricWarning: Precision and F-score are ill-defined and being set to 0.0 in labels with no predicted samples. Use `zero_division` parameter to control this behavior.\n",
            "  _warn_prf(average, modifier, msg_start, len(result))\n"
          ]
        }
      ]
    },
    {
      "cell_type": "code",
      "source": [
        ""
      ],
      "metadata": {
        "id": "rWkh1KYuEfC-"
      },
      "execution_count": null,
      "outputs": []
    }
  ]
}