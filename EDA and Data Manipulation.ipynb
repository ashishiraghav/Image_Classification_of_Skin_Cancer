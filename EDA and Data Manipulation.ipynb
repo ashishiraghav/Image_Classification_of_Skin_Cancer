{
 "cells": [
  {
   "cell_type": "markdown",
   "id": "976ae9fa",
   "metadata": {},
   "source": [
    "# Exploratory Data Analysis\n"
   ]
  },
  {
   "cell_type": "markdown",
   "id": "87ae42cb",
   "metadata": {},
   "source": [
    "# Important Libraries"
   ]
  },
  {
   "cell_type": "markdown",
   "id": "18e3a96b",
   "metadata": {},
   "source": [
    "## 1. Pandas\n"
   ]
  },
  {
   "cell_type": "markdown",
   "id": "a516b770",
   "metadata": {},
   "source": [
    "Pandas is a Python programming language for data manipulation and data analysis. In particular, it offers data structures and operations for manipulating numerical tables and time series."
   ]
  },
  {
   "cell_type": "markdown",
   "id": "b28a2896",
   "metadata": {},
   "source": [
    "## 2. Numpy"
   ]
  },
  {
   "cell_type": "markdown",
   "id": "9496829d",
   "metadata": {},
   "source": [
    "NumPy is a library for the Python programming language, adding support for large, multi-dimensional arrays and matrices,along with a large collection of high-level mathematical functions to operate on these arrays"
   ]
  },
  {
   "cell_type": "markdown",
   "id": "d40997c3",
   "metadata": {},
   "source": [
    "## 3. Matplotlib\n"
   ]
  },
  {
   "cell_type": "markdown",
   "id": "d97ead15",
   "metadata": {},
   "source": [
    "Matplotlib is a Python 2D plotting library which produces publication quality figures in a variety of hardcopy formats and\n",
    "interactive environments across platforms\n"
   ]
  },
  {
   "cell_type": "markdown",
   "id": "b8bcb111",
   "metadata": {},
   "source": [
    "## 4. Seaborn"
   ]
  },
  {
   "cell_type": "markdown",
   "id": "f87bc63c",
   "metadata": {},
   "source": [
    "Seaborn is a Python data visualization library based on matplotlib. It provides a high-level interface for drawing attractive and\n",
    "informative statistical graphics\n"
   ]
  },
  {
   "cell_type": "code",
   "execution_count": 2,
   "id": "7a7d4c4b",
   "metadata": {},
   "outputs": [
    {
     "name": "stderr",
     "output_type": "stream",
     "text": [
      "UsageError: unrecognized arguments: #%matplotlib inline will lead to static images of your plot embedded in the notebook\n"
     ]
    }
   ],
   "source": [
    "import pandas as pd\n",
    "import numpy as np\n",
    "import matplotlib.pyplot as plt\n",
    "import seaborn as sns\n",
    "%matplotlib inline        #%matplotlib inline will lead to static images of your plot embedded in the notebook\n"
   ]
  },
  {
   "cell_type": "markdown",
   "id": "9feee0ef",
   "metadata": {},
   "source": [
    "## Objective"
   ]
  },
  {
   "cell_type": "markdown",
   "id": "e714b47d",
   "metadata": {},
   "source": [
    "Our Objectives are as follows:"
   ]
  },
  {
   "cell_type": "markdown",
   "id": "e6a2ca4b",
   "metadata": {},
   "source": [
    "## Data cleansing\n"
   ]
  },
  {
   "cell_type": "markdown",
   "id": "05ab15ed",
   "metadata": {},
   "source": [
    "Data cleansing or data cleaning is the process of detecting and correcting (or removing) corrupt or inaccurate records from a\n",
    "record set, table, or database and refers to identifying incomplete, incorrect, inaccurate or irrelevant parts of the data and then\n",
    "replacing, modifying, or deleting the dirty or coarse data.\n"
   ]
  },
  {
   "cell_type": "markdown",
   "id": "4edaf422",
   "metadata": {},
   "source": [
    "## Data wrangling\n"
   ]
  },
  {
   "cell_type": "markdown",
   "id": "3a4add4c",
   "metadata": {},
   "source": [
    "Data wrangling, sometimes referred to as data munging, is the process of transforming and mapping data from one \"raw\" data\n",
    "form into another format with the intent of making it more appropriate and valuable for a variety of downstream purposes such\n",
    "as analytics.This may include further munging, data visualization, data aggregation, training a statistical model, as well as\n",
    "many other potential uses."
   ]
  },
  {
   "cell_type": "markdown",
   "id": "ed737d2f",
   "metadata": {},
   "source": [
    "## Metadata"
   ]
  },
  {
   "cell_type": "markdown",
   "id": "04b61dfb",
   "metadata": {},
   "source": [
    "Our Metadata contains 10015 unique image_id but 7470 unique lesion_id. Most of the cancer images are from 'nv' cancer\n",
    "type which is around 67% , 'mel' cancer images are around 11% and other 5 cancer type (bkl,dcc,df,akiec, vasc) are 22% as\n",
    "whole.\n"
   ]
  },
  {
   "cell_type": "code",
   "execution_count": 3,
   "id": "2103ce8a",
   "metadata": {},
   "outputs": [],
   "source": [
    "data=pd.read_csv(\"HAM10000_metadata.csv\")\n",
    "data.sort_values(\"lesion_id\", inplace = True)"
   ]
  },
  {
   "cell_type": "code",
   "execution_count": 4,
   "id": "81c56af2",
   "metadata": {},
   "outputs": [
    {
     "data": {
      "text/html": [
       "<div>\n",
       "<style scoped>\n",
       "    .dataframe tbody tr th:only-of-type {\n",
       "        vertical-align: middle;\n",
       "    }\n",
       "\n",
       "    .dataframe tbody tr th {\n",
       "        vertical-align: top;\n",
       "    }\n",
       "\n",
       "    .dataframe thead th {\n",
       "        text-align: right;\n",
       "    }\n",
       "</style>\n",
       "<table border=\"1\" class=\"dataframe\">\n",
       "  <thead>\n",
       "    <tr style=\"text-align: right;\">\n",
       "      <th></th>\n",
       "      <th>lesion_id</th>\n",
       "      <th>image_id</th>\n",
       "      <th>dx</th>\n",
       "      <th>dx_type</th>\n",
       "      <th>age</th>\n",
       "      <th>sex</th>\n",
       "      <th>localization</th>\n",
       "    </tr>\n",
       "  </thead>\n",
       "  <tbody>\n",
       "    <tr>\n",
       "      <th>9187</th>\n",
       "      <td>HAM_0000000</td>\n",
       "      <td>ISIC_0028498</td>\n",
       "      <td>nv</td>\n",
       "      <td>histo</td>\n",
       "      <td>60.0</td>\n",
       "      <td>male</td>\n",
       "      <td>back</td>\n",
       "    </tr>\n",
       "    <tr>\n",
       "      <th>9188</th>\n",
       "      <td>HAM_0000000</td>\n",
       "      <td>ISIC_0025346</td>\n",
       "      <td>nv</td>\n",
       "      <td>histo</td>\n",
       "      <td>60.0</td>\n",
       "      <td>male</td>\n",
       "      <td>back</td>\n",
       "    </tr>\n",
       "    <tr>\n",
       "      <th>726</th>\n",
       "      <td>HAM_0000001</td>\n",
       "      <td>ISIC_0027859</td>\n",
       "      <td>bkl</td>\n",
       "      <td>histo</td>\n",
       "      <td>70.0</td>\n",
       "      <td>female</td>\n",
       "      <td>face</td>\n",
       "    </tr>\n",
       "    <tr>\n",
       "      <th>1661</th>\n",
       "      <td>HAM_0000002</td>\n",
       "      <td>ISIC_0032622</td>\n",
       "      <td>mel</td>\n",
       "      <td>histo</td>\n",
       "      <td>65.0</td>\n",
       "      <td>female</td>\n",
       "      <td>lower extremity</td>\n",
       "    </tr>\n",
       "    <tr>\n",
       "      <th>1660</th>\n",
       "      <td>HAM_0000002</td>\n",
       "      <td>ISIC_0033848</td>\n",
       "      <td>mel</td>\n",
       "      <td>histo</td>\n",
       "      <td>65.0</td>\n",
       "      <td>female</td>\n",
       "      <td>lower extremity</td>\n",
       "    </tr>\n",
       "  </tbody>\n",
       "</table>\n",
       "</div>"
      ],
      "text/plain": [
       "        lesion_id      image_id   dx dx_type   age     sex     localization\n",
       "9187  HAM_0000000  ISIC_0028498   nv   histo  60.0    male             back\n",
       "9188  HAM_0000000  ISIC_0025346   nv   histo  60.0    male             back\n",
       "726   HAM_0000001  ISIC_0027859  bkl   histo  70.0  female             face\n",
       "1661  HAM_0000002  ISIC_0032622  mel   histo  65.0  female  lower extremity\n",
       "1660  HAM_0000002  ISIC_0033848  mel   histo  65.0  female  lower extremity"
      ]
     },
     "execution_count": 4,
     "metadata": {},
     "output_type": "execute_result"
    }
   ],
   "source": [
    "data.head() # original data has matrix 10015x07"
   ]
  },
  {
   "cell_type": "markdown",
   "id": "19bf326f",
   "metadata": {},
   "source": [
    "By Visualizing data with respect to cancer type dx, which are 7 in numbers. We can clearly see that nv group has (around\n",
    "67%) infected more people in our data."
   ]
  },
  {
   "cell_type": "code",
   "execution_count": 5,
   "id": "b645a8b2",
   "metadata": {},
   "outputs": [
    {
     "data": {
      "text/plain": [
       "<AxesSubplot:xlabel='dx', ylabel='count'>"
      ]
     },
     "execution_count": 5,
     "metadata": {},
     "output_type": "execute_result"
    },
    {
     "data": {
      "image/png": "[encoded data removed]",
      "text/plain": [
       "<Figure size 1008x432 with 1 Axes>"
      ]
     },
     "metadata": {
      "needs_background": "light"
     },
     "output_type": "display_data"
    }
   ],
   "source": [
    "# Looking for Which cancer has infected people more.\n",
    "plt.figure(figsize=(14,6))\n",
    "sns.set_style('whitegrid')\n",
    "sns.countplot(x='dx',data=data)"
   ]
  },
  {
   "cell_type": "markdown",
   "id": "f3e7cbce",
   "metadata": {},
   "source": [
    "## isnull()\n"
   ]
  },
  {
   "cell_type": "markdown",
   "id": "b3b0475d",
   "metadata": {},
   "source": [
    "While making a Data Frame from a csv file, many blank columns are imported as null value into the Data Frame which later\n",
    "creates problems while operating that data frame. Pandas isnull() and notnull() methods are used to check and manage NULL\n",
    "values in a data frame.\n"
   ]
  },
  {
   "cell_type": "code",
   "execution_count": 6,
   "id": "a2b4ddfb",
   "metadata": {},
   "outputs": [
    {
     "data": {
      "text/html": [
       "<div>\n",
       "<style scoped>\n",
       "    .dataframe tbody tr th:only-of-type {\n",
       "        vertical-align: middle;\n",
       "    }\n",
       "\n",
       "    .dataframe tbody tr th {\n",
       "        vertical-align: top;\n",
       "    }\n",
       "\n",
       "    .dataframe thead th {\n",
       "        text-align: right;\n",
       "    }\n",
       "</style>\n",
       "<table border=\"1\" class=\"dataframe\">\n",
       "  <thead>\n",
       "    <tr style=\"text-align: right;\">\n",
       "      <th></th>\n",
       "      <th>lesion_id</th>\n",
       "      <th>image_id</th>\n",
       "      <th>dx</th>\n",
       "      <th>dx_type</th>\n",
       "      <th>age</th>\n",
       "      <th>sex</th>\n",
       "      <th>localization</th>\n",
       "    </tr>\n",
       "  </thead>\n",
       "  <tbody>\n",
       "    <tr>\n",
       "      <th>9187</th>\n",
       "      <td>False</td>\n",
       "      <td>False</td>\n",
       "      <td>False</td>\n",
       "      <td>False</td>\n",
       "      <td>False</td>\n",
       "      <td>False</td>\n",
       "      <td>False</td>\n",
       "    </tr>\n",
       "    <tr>\n",
       "      <th>9188</th>\n",
       "      <td>False</td>\n",
       "      <td>False</td>\n",
       "      <td>False</td>\n",
       "      <td>False</td>\n",
       "      <td>False</td>\n",
       "      <td>False</td>\n",
       "      <td>False</td>\n",
       "    </tr>\n",
       "    <tr>\n",
       "      <th>726</th>\n",
       "      <td>False</td>\n",
       "      <td>False</td>\n",
       "      <td>False</td>\n",
       "      <td>False</td>\n",
       "      <td>False</td>\n",
       "      <td>False</td>\n",
       "      <td>False</td>\n",
       "    </tr>\n",
       "    <tr>\n",
       "      <th>1661</th>\n",
       "      <td>False</td>\n",
       "      <td>False</td>\n",
       "      <td>False</td>\n",
       "      <td>False</td>\n",
       "      <td>False</td>\n",
       "      <td>False</td>\n",
       "      <td>False</td>\n",
       "    </tr>\n",
       "    <tr>\n",
       "      <th>1660</th>\n",
       "      <td>False</td>\n",
       "      <td>False</td>\n",
       "      <td>False</td>\n",
       "      <td>False</td>\n",
       "      <td>False</td>\n",
       "      <td>False</td>\n",
       "      <td>False</td>\n",
       "    </tr>\n",
       "  </tbody>\n",
       "</table>\n",
       "</div>"
      ],
      "text/plain": [
       "      lesion_id  image_id     dx  dx_type    age    sex  localization\n",
       "9187      False     False  False    False  False  False         False\n",
       "9188      False     False  False    False  False  False         False\n",
       "726       False     False  False    False  False  False         False\n",
       "1661      False     False  False    False  False  False         False\n",
       "1660      False     False  False    False  False  False         False"
      ]
     },
     "execution_count": 6,
     "metadata": {},
     "output_type": "execute_result"
    }
   ],
   "source": [
    " data.isnull().head() # looking for null values"
   ]
  },
  {
   "cell_type": "code",
   "execution_count": 7,
   "id": "69ac7804",
   "metadata": {},
   "outputs": [
    {
     "data": {
      "text/plain": [
       "lesion_id        0\n",
       "image_id         0\n",
       "dx               0\n",
       "dx_type          0\n",
       "age             57\n",
       "sex              0\n",
       "localization     0\n",
       "dtype: int64"
      ]
     },
     "execution_count": 7,
     "metadata": {},
     "output_type": "execute_result"
    }
   ],
   "source": [
    " \"\"\"counting null values column-wise using sum() library with isnull().And there are 57 null values in column age\"\"\"\n",
    "data.isnull().sum()"
   ]
  },
  {
   "cell_type": "markdown",
   "id": "6d3322a8",
   "metadata": {},
   "source": [
    "Visualizing the data to see wheather our data contains null values or not by using sns.heatmap(). It is clear that age contains\n",
    "some null values.\n"
   ]
  },
  {
   "cell_type": "code",
   "execution_count": 8,
   "id": "5da24186",
   "metadata": {},
   "outputs": [
    {
     "data": {
      "text/plain": [
       "<AxesSubplot:>"
      ]
     },
     "execution_count": 8,
     "metadata": {},
     "output_type": "execute_result"
    },
    {
     "data": {
      "image/png": "[encoded data removed]",
      "text/plain": [
       "<Figure size 1008x432 with 1 Axes>"
      ]
     },
     "metadata": {},
     "output_type": "display_data"
    }
   ],
   "source": [
    "plt.figure(figsize=(14,6))\n",
    "sns.heatmap(data.isnull(),yticklabels=False, cbar=False, cmap='viridis')\n"
   ]
  },
  {
   "cell_type": "markdown",
   "id": "10182b6a",
   "metadata": {},
   "source": [
    "After removing duplicates by lesion_id, the number of cancer decreases since lesion_id decreases 10015 to 7470.\n"
   ]
  },
  {
   "cell_type": "code",
   "execution_count": 9,
   "id": "13b7309c",
   "metadata": {},
   "outputs": [
    {
     "data": {
      "text/html": [
       "<div>\n",
       "<style scoped>\n",
       "    .dataframe tbody tr th:only-of-type {\n",
       "        vertical-align: middle;\n",
       "    }\n",
       "\n",
       "    .dataframe tbody tr th {\n",
       "        vertical-align: top;\n",
       "    }\n",
       "\n",
       "    .dataframe thead th {\n",
       "        text-align: right;\n",
       "    }\n",
       "</style>\n",
       "<table border=\"1\" class=\"dataframe\">\n",
       "  <thead>\n",
       "    <tr style=\"text-align: right;\">\n",
       "      <th></th>\n",
       "      <th>lesion_id</th>\n",
       "      <th>image_id</th>\n",
       "      <th>dx</th>\n",
       "      <th>dx_type</th>\n",
       "      <th>age</th>\n",
       "      <th>sex</th>\n",
       "      <th>localization</th>\n",
       "    </tr>\n",
       "  </thead>\n",
       "  <tbody>\n",
       "    <tr>\n",
       "      <th>9187</th>\n",
       "      <td>HAM_0000000</td>\n",
       "      <td>ISIC_0028498</td>\n",
       "      <td>nv</td>\n",
       "      <td>histo</td>\n",
       "      <td>60.0</td>\n",
       "      <td>male</td>\n",
       "      <td>back</td>\n",
       "    </tr>\n",
       "    <tr>\n",
       "      <th>726</th>\n",
       "      <td>HAM_0000001</td>\n",
       "      <td>ISIC_0027859</td>\n",
       "      <td>bkl</td>\n",
       "      <td>histo</td>\n",
       "      <td>70.0</td>\n",
       "      <td>female</td>\n",
       "      <td>face</td>\n",
       "    </tr>\n",
       "    <tr>\n",
       "      <th>1661</th>\n",
       "      <td>HAM_0000002</td>\n",
       "      <td>ISIC_0032622</td>\n",
       "      <td>mel</td>\n",
       "      <td>histo</td>\n",
       "      <td>65.0</td>\n",
       "      <td>female</td>\n",
       "      <td>lower extremity</td>\n",
       "    </tr>\n",
       "    <tr>\n",
       "      <th>3374</th>\n",
       "      <td>HAM_0000003</td>\n",
       "      <td>ISIC_0027886</td>\n",
       "      <td>nv</td>\n",
       "      <td>follow_up</td>\n",
       "      <td>55.0</td>\n",
       "      <td>male</td>\n",
       "      <td>trunk</td>\n",
       "    </tr>\n",
       "    <tr>\n",
       "      <th>4918</th>\n",
       "      <td>HAM_0000004</td>\n",
       "      <td>ISIC_0024645</td>\n",
       "      <td>nv</td>\n",
       "      <td>follow_up</td>\n",
       "      <td>40.0</td>\n",
       "      <td>female</td>\n",
       "      <td>back</td>\n",
       "    </tr>\n",
       "  </tbody>\n",
       "</table>\n",
       "</div>"
      ],
      "text/plain": [
       "        lesion_id      image_id   dx    dx_type   age     sex     localization\n",
       "9187  HAM_0000000  ISIC_0028498   nv      histo  60.0    male             back\n",
       "726   HAM_0000001  ISIC_0027859  bkl      histo  70.0  female             face\n",
       "1661  HAM_0000002  ISIC_0032622  mel      histo  65.0  female  lower extremity\n",
       "3374  HAM_0000003  ISIC_0027886   nv  follow_up  55.0    male            trunk\n",
       "4918  HAM_0000004  ISIC_0024645   nv  follow_up  40.0  female             back"
      ]
     },
     "execution_count": 9,
     "metadata": {},
     "output_type": "execute_result"
    }
   ],
   "source": [
    "data.sort_values(\"lesion_id\", inplace = True) # Sorting the data with respect to column lesion_id using sort_values()\n",
    "data.drop_duplicates(subset =\"lesion_id\",keep = ('first'), inplace = True) # droping the duplicates using drop_duplicates()\n",
    "data.head() # data after droping duplicates has now matrix 7470x7"
   ]
  },
  {
   "cell_type": "code",
   "execution_count": 10,
   "id": "e4b8a803",
   "metadata": {},
   "outputs": [
    {
     "data": {
      "text/plain": [
       "<AxesSubplot:xlabel='dx', ylabel='count'>"
      ]
     },
     "execution_count": 10,
     "metadata": {},
     "output_type": "execute_result"
    },
    {
     "data": {
      "image/png": "[encoded data removed]",
      "text/plain": [
       "<Figure size 1008x432 with 1 Axes>"
      ]
     },
     "metadata": {},
     "output_type": "display_data"
    }
   ],
   "source": [
    "plt.figure(figsize=(14,6))\n",
    "sns.set_style('whitegrid')\n",
    "sns.countplot(x='dx',data=data)"
   ]
  },
  {
   "cell_type": "code",
   "execution_count": 11,
   "id": "efeccdd5",
   "metadata": {},
   "outputs": [
    {
     "data": {
      "text/plain": [
       "lesion_id        0\n",
       "image_id         0\n",
       "dx               0\n",
       "dx_type          0\n",
       "age             52\n",
       "sex              0\n",
       "localization     0\n",
       "dtype: int64"
      ]
     },
     "execution_count": 11,
     "metadata": {},
     "output_type": "execute_result"
    }
   ],
   "source": [
    "data.isnull().sum() # After droping duplicates now there are only 52 null values"
   ]
  },
  {
   "cell_type": "markdown",
   "id": "61159089",
   "metadata": {},
   "source": [
    "### groupby()"
   ]
  },
  {
   "cell_type": "markdown",
   "id": "29d39a07",
   "metadata": {},
   "source": [
    "Pandas dataframe.groupby() function is used to split the data into groups based on some criteria. Pandas objects can be\n",
    "split on any of their axes. The abstract definition of grouping is to provide a mapping of labels to group names."
   ]
  },
  {
   "cell_type": "code",
   "execution_count": 12,
   "id": "f96aad9e",
   "metadata": {},
   "outputs": [
    {
     "data": {
      "text/plain": [
       "dx\n",
       "akiec    66.557018\n",
       "bcc      66.896024\n",
       "bkl      64.394150\n",
       "df       52.739726\n",
       "mel      61.296900\n",
       "nv       47.257974\n",
       "vasc     52.500000\n",
       "Name: age, dtype: float64"
      ]
     },
     "execution_count": 12,
     "metadata": {},
     "output_type": "execute_result"
    }
   ],
   "source": [
    "mean_value=data.groupby('dx')['age'].mean() # taking **mean** of cancer column **dx** by grouping with respect to **age**.\n",
    "mean_value\n"
   ]
  },
  {
   "cell_type": "code",
   "execution_count": 13,
   "id": "b0bf27a4",
   "metadata": {},
   "outputs": [
    {
     "data": {
      "text/plain": [
       "dx\n",
       "akiec    67.5\n",
       "bcc      70.0\n",
       "bkl      65.0\n",
       "df       55.0\n",
       "mel      65.0\n",
       "nv       45.0\n",
       "vasc     55.0\n",
       "Name: age, dtype: float64"
      ]
     },
     "execution_count": 13,
     "metadata": {},
     "output_type": "execute_result"
    }
   ],
   "source": [
    "median_value=data.groupby('dx')['age'].median()\n",
    "median_value # taking **median** of cancer column **dx** by grouping with respect to **age**\n"
   ]
  },
  {
   "cell_type": "markdown",
   "id": "a8895413",
   "metadata": {},
   "source": [
    "## Filling Null Values"
   ]
  },
  {
   "cell_type": "markdown",
   "id": "111c9e7d",
   "metadata": {},
   "source": [
    "Here it should be notice that filling of null values is taking place in column age with respest to cancer type dx. Meaning, the\n",
    "median of age of akiec group cancer patient will only fill null values of akiec age group and so other."
   ]
  },
  {
   "cell_type": "code",
   "execution_count": 14,
   "id": "fb2bbecf",
   "metadata": {},
   "outputs": [
    {
     "name": "stderr",
     "output_type": "stream",
     "text": [
      "C:\\Users\\Adarsh Raghav\\AppData\\Local\\Temp\\ipykernel_7556\\1260157281.py:2: FutureWarning: Dropping invalid columns in DataFrameGroupBy.transform is deprecated. In a future version, a TypeError will be raised. Before calling .transform, select only columns which should be valid for the function.\n",
      "  data[\"age\"] = data.groupby(\"dx\").transform(lambda x: x.fillna(x.median()))\n",
      "C:\\Users\\Adarsh Raghav\\AppData\\Local\\Temp\\ipykernel_7556\\1260157281.py:2: FutureWarning: Dropping invalid columns in DataFrameGroupBy.transform is deprecated. In a future version, a TypeError will be raised. Before calling .transform, select only columns which should be valid for the function.\n",
      "  data[\"age\"] = data.groupby(\"dx\").transform(lambda x: x.fillna(x.median()))\n"
     ]
    },
    {
     "data": {
      "text/html": [
       "<div>\n",
       "<style scoped>\n",
       "    .dataframe tbody tr th:only-of-type {\n",
       "        vertical-align: middle;\n",
       "    }\n",
       "\n",
       "    .dataframe tbody tr th {\n",
       "        vertical-align: top;\n",
       "    }\n",
       "\n",
       "    .dataframe thead th {\n",
       "        text-align: right;\n",
       "    }\n",
       "</style>\n",
       "<table border=\"1\" class=\"dataframe\">\n",
       "  <thead>\n",
       "    <tr style=\"text-align: right;\">\n",
       "      <th></th>\n",
       "      <th>lesion_id</th>\n",
       "      <th>image_id</th>\n",
       "      <th>dx</th>\n",
       "      <th>dx_type</th>\n",
       "      <th>age</th>\n",
       "      <th>sex</th>\n",
       "      <th>localization</th>\n",
       "    </tr>\n",
       "  </thead>\n",
       "  <tbody>\n",
       "    <tr>\n",
       "      <th>9187</th>\n",
       "      <td>HAM_0000000</td>\n",
       "      <td>ISIC_0028498</td>\n",
       "      <td>nv</td>\n",
       "      <td>histo</td>\n",
       "      <td>60.0</td>\n",
       "      <td>male</td>\n",
       "      <td>back</td>\n",
       "    </tr>\n",
       "    <tr>\n",
       "      <th>726</th>\n",
       "      <td>HAM_0000001</td>\n",
       "      <td>ISIC_0027859</td>\n",
       "      <td>bkl</td>\n",
       "      <td>histo</td>\n",
       "      <td>70.0</td>\n",
       "      <td>female</td>\n",
       "      <td>face</td>\n",
       "    </tr>\n",
       "    <tr>\n",
       "      <th>1661</th>\n",
       "      <td>HAM_0000002</td>\n",
       "      <td>ISIC_0032622</td>\n",
       "      <td>mel</td>\n",
       "      <td>histo</td>\n",
       "      <td>65.0</td>\n",
       "      <td>female</td>\n",
       "      <td>lower extremity</td>\n",
       "    </tr>\n",
       "    <tr>\n",
       "      <th>3374</th>\n",
       "      <td>HAM_0000003</td>\n",
       "      <td>ISIC_0027886</td>\n",
       "      <td>nv</td>\n",
       "      <td>follow_up</td>\n",
       "      <td>55.0</td>\n",
       "      <td>male</td>\n",
       "      <td>trunk</td>\n",
       "    </tr>\n",
       "    <tr>\n",
       "      <th>4918</th>\n",
       "      <td>HAM_0000004</td>\n",
       "      <td>ISIC_0024645</td>\n",
       "      <td>nv</td>\n",
       "      <td>follow_up</td>\n",
       "      <td>40.0</td>\n",
       "      <td>female</td>\n",
       "      <td>back</td>\n",
       "    </tr>\n",
       "  </tbody>\n",
       "</table>\n",
       "</div>"
      ],
      "text/plain": [
       "        lesion_id      image_id   dx    dx_type   age     sex     localization\n",
       "9187  HAM_0000000  ISIC_0028498   nv      histo  60.0    male             back\n",
       "726   HAM_0000001  ISIC_0027859  bkl      histo  70.0  female             face\n",
       "1661  HAM_0000002  ISIC_0032622  mel      histo  65.0  female  lower extremity\n",
       "3374  HAM_0000003  ISIC_0027886   nv  follow_up  55.0    male            trunk\n",
       "4918  HAM_0000004  ISIC_0024645   nv  follow_up  40.0  female             back"
      ]
     },
     "execution_count": 14,
     "metadata": {},
     "output_type": "execute_result"
    }
   ],
   "source": [
    "# filling the null values by using median_value\n",
    "data[\"age\"] = data.groupby(\"dx\").transform(lambda x: x.fillna(x.median()))\n",
    "data.head()"
   ]
  },
  {
   "cell_type": "code",
   "execution_count": 15,
   "id": "c844f2c2",
   "metadata": {},
   "outputs": [
    {
     "data": {
      "text/plain": [
       "lesion_id       0\n",
       "image_id        0\n",
       "dx              0\n",
       "dx_type         0\n",
       "age             0\n",
       "sex             0\n",
       "localization    0\n",
       "dtype: int64"
      ]
     },
     "execution_count": 15,
     "metadata": {},
     "output_type": "execute_result"
    }
   ],
   "source": [
    "data.isnull().sum() # now we can clearly see that there is no null values remaining."
   ]
  },
  {
   "cell_type": "markdown",
   "id": "33ae179c",
   "metadata": {},
   "source": [
    "Here,by visualizing ditribution plot of age, We can clearly see that the highest number of cancer patient are from the age group\n",
    "(40,60) and highest number of cancer patient are of age 45.\n"
   ]
  },
  {
   "cell_type": "code",
   "execution_count": 16,
   "id": "094795cb",
   "metadata": {},
   "outputs": [
    {
     "name": "stderr",
     "output_type": "stream",
     "text": [
      "C:\\Users\\Adarsh Raghav\\Downloads\\Ashish Raghav\\ANACONDA\\lib\\site-packages\\seaborn\\distributions.py:2619: FutureWarning: `distplot` is a deprecated function and will be removed in a future version. Please adapt your code to use either `displot` (a figure-level function with similar flexibility) or `histplot` (an axes-level function for histograms).\n",
      "  warnings.warn(msg, FutureWarning)\n"
     ]
    },
    {
     "data": {
      "text/plain": [
       "<AxesSubplot:xlabel='age', ylabel='Density'>"
      ]
     },
     "execution_count": 16,
     "metadata": {},
     "output_type": "execute_result"
    },
    {
     "data": {
      "image/png": "[encoded data removed]",
      "text/plain": [
       "<Figure size 1008x432 with 1 Axes>"
      ]
     },
     "metadata": {},
     "output_type": "display_data"
    }
   ],
   "source": [
    "plt.figure(figsize=(14,6))\n",
    "sns.distplot(data['age'].dropna(),kde=True)\n"
   ]
  },
  {
   "cell_type": "markdown",
   "id": "df347068",
   "metadata": {},
   "source": [
    "To see which body part is affected most by these cancers, We can easily see by visualizing the data with respect to\n",
    "**x='localization'**, **lower extremity** is affected most followed by **back* & than **trunk** and the least affected part is **ear** and there\n",
    "is almost no cancer at **acral.**.\n"
   ]
  },
  {
   "cell_type": "code",
   "execution_count": 17,
   "id": "fc8f9226",
   "metadata": {},
   "outputs": [
    {
     "data": {
      "text/plain": [
       "<AxesSubplot:xlabel='localization', ylabel='count'>"
      ]
     },
     "execution_count": 17,
     "metadata": {},
     "output_type": "execute_result"
    },
    {
     "data": {
      "image/png": "[encoded data removed]",
      "text/plain": [
       "<Figure size 1296x432 with 1 Axes>"
      ]
     },
     "metadata": {},
     "output_type": "display_data"
    }
   ],
   "source": [
    "plt.figure(figsize=(18,6))\n",
    "sns.set_style('whitegrid')\n",
    "sns.countplot(x='localization',data=data)"
   ]
  },
  {
   "cell_type": "markdown",
   "id": "bfa62de5",
   "metadata": {},
   "source": [
    "Now, Visualizing the data with respect to **x='localization'** and cancers type **dx**. We can clearly see at **lower extremity nv**\n",
    "cancer has affected most follwed by **bkl & mel**. Similarly at **back** side **nv** has affected most followed by **mel &bkl**. But when\n",
    "we look at **ear** , there we can see this is least affected part of our body and mainly affected by **nv & mel** and there is almost no\n",
    "cancer at **acral**.\n"
   ]
  },
  {
   "cell_type": "code",
   "execution_count": 18,
   "id": "1f2177da",
   "metadata": {},
   "outputs": [
    {
     "data": {
      "text/plain": [
       "<AxesSubplot:xlabel='localization', ylabel='count'>"
      ]
     },
     "execution_count": 18,
     "metadata": {},
     "output_type": "execute_result"
    },
    {
     "data": {
      "image/png": "[encoded data removed]",
      "text/plain": [
       "<Figure size 1296x432 with 1 Axes>"
      ]
     },
     "metadata": {},
     "output_type": "display_data"
    }
   ],
   "source": [
    "plt.figure(figsize=(18,6))\n",
    "sns.set_style('whitegrid')\n",
    "sns.countplot(x='localization',hue='dx',data=data,palette=None)"
   ]
  },
  {
   "cell_type": "markdown",
   "id": "7da61349",
   "metadata": {},
   "source": [
    "Now by ploting boxplot with respect to cancers type **x='dx'** with **age**. we can see **nv** has affected people at early age around\n",
    "(40,55), while **vasc** has large age interval of affecting people of age around (45,70) and **bcc** has affected mostly older age\n",
    "people around (60, 77).\n"
   ]
  },
  {
   "cell_type": "code",
   "execution_count": 19,
   "id": "dbc0c02a",
   "metadata": {},
   "outputs": [
    {
     "data": {
      "text/plain": [
       "<AxesSubplot:xlabel='dx', ylabel='age'>"
      ]
     },
     "execution_count": 19,
     "metadata": {},
     "output_type": "execute_result"
    },
    {
     "data": {
      "image/png": "[encoded data removed]",
      "text/plain": [
       "<Figure size 1296x432 with 1 Axes>"
      ]
     },
     "metadata": {},
     "output_type": "display_data"
    }
   ],
   "source": [
    "plt.figure(figsize=(18,6))\n",
    "sns.set_style('whitegrid')\n",
    "sns.boxplot(x='dx',y='age',data=data,palette=None )"
   ]
  },
  {
   "cell_type": "markdown",
   "id": "ae82e541",
   "metadata": {},
   "source": [
    "similarly, adding age into above boxplot we can see whether affected person is male or female and which cancer has affected\n",
    "at early age or which has affected at older age."
   ]
  },
  {
   "cell_type": "code",
   "execution_count": 20,
   "id": "cfee2888",
   "metadata": {},
   "outputs": [
    {
     "data": {
      "text/plain": [
       "<AxesSubplot:xlabel='dx', ylabel='age'>"
      ]
     },
     "execution_count": 20,
     "metadata": {},
     "output_type": "execute_result"
    },
    {
     "data": {
      "image/png": "[encoded data removed]",
      "text/plain": [
       "<Figure size 1296x432 with 1 Axes>"
      ]
     },
     "metadata": {},
     "output_type": "display_data"
    }
   ],
   "source": [
    "plt.figure(figsize=(18,6))\n",
    "sns.set_style('whitegrid')\n",
    "sns.boxplot(x='dx',y='age',hue='sex',data=data,palette=None )"
   ]
  },
  {
   "cell_type": "markdown",
   "id": "010b7ed1",
   "metadata": {},
   "source": [
    "# Data Manipulation and Data Wrangling"
   ]
  },
  {
   "cell_type": "markdown",
   "id": "3981e761",
   "metadata": {},
   "source": [
    "Data Manipulation is the process of changing data to make it easier to read or more organized"
   ]
  },
  {
   "cell_type": "markdown",
   "id": "d5daf14a",
   "metadata": {},
   "source": [
    "Data Wrangling is process of transforming and mapping data from one raw data into another format with the intent of making\n",
    "it more appropriate and valuable for a variety of downstream purposes such as analytics"
   ]
  },
  {
   "cell_type": "code",
   "execution_count": 23,
   "id": "c79254a8",
   "metadata": {},
   "outputs": [
    {
     "name": "stdout",
     "output_type": "stream",
     "text": [
      "Collecting opencv-python\n",
      "  Downloading opencv_python-4.6.0.66-cp36-abi3-win_amd64.whl (35.6 MB)\n",
      "Requirement already satisfied: numpy>=1.17.3 in c:\\users\\adarsh raghav\\downloads\\ashish raghav\\anaconda\\lib\\site-packages (from opencv-python) (1.21.5)\n",
      "Installing collected packages: opencv-python\n",
      "Successfully installed opencv-python-4.6.0.66\n"
     ]
    }
   ],
   "source": [
    "!pip install opencv-python"
   ]
  },
  {
   "cell_type": "code",
   "execution_count": 24,
   "id": "e283d273",
   "metadata": {},
   "outputs": [],
   "source": [
    "#importing all the important libraies\n",
    "import cv2\n",
    "import numpy as np\n",
    "import pandas as pd\n",
    "import os\n",
    "import glob"
   ]
  },
  {
   "cell_type": "code",
   "execution_count": 25,
   "id": "ea049235",
   "metadata": {},
   "outputs": [
    {
     "data": {
      "text/html": [
       "<div>\n",
       "<style scoped>\n",
       "    .dataframe tbody tr th:only-of-type {\n",
       "        vertical-align: middle;\n",
       "    }\n",
       "\n",
       "    .dataframe tbody tr th {\n",
       "        vertical-align: top;\n",
       "    }\n",
       "\n",
       "    .dataframe thead th {\n",
       "        text-align: right;\n",
       "    }\n",
       "</style>\n",
       "<table border=\"1\" class=\"dataframe\">\n",
       "  <thead>\n",
       "    <tr style=\"text-align: right;\">\n",
       "      <th></th>\n",
       "      <th>lesion_id</th>\n",
       "      <th>image_id</th>\n",
       "      <th>dx</th>\n",
       "      <th>dx_type</th>\n",
       "      <th>age</th>\n",
       "      <th>sex</th>\n",
       "      <th>localization</th>\n",
       "    </tr>\n",
       "  </thead>\n",
       "  <tbody>\n",
       "    <tr>\n",
       "      <th>0</th>\n",
       "      <td>HAM_0000118</td>\n",
       "      <td>ISIC_0027419</td>\n",
       "      <td>bkl</td>\n",
       "      <td>histo</td>\n",
       "      <td>80.0</td>\n",
       "      <td>male</td>\n",
       "      <td>scalp</td>\n",
       "    </tr>\n",
       "    <tr>\n",
       "      <th>1</th>\n",
       "      <td>HAM_0000118</td>\n",
       "      <td>ISIC_0025030</td>\n",
       "      <td>bkl</td>\n",
       "      <td>histo</td>\n",
       "      <td>80.0</td>\n",
       "      <td>male</td>\n",
       "      <td>scalp</td>\n",
       "    </tr>\n",
       "    <tr>\n",
       "      <th>2</th>\n",
       "      <td>HAM_0002730</td>\n",
       "      <td>ISIC_0026769</td>\n",
       "      <td>bkl</td>\n",
       "      <td>histo</td>\n",
       "      <td>80.0</td>\n",
       "      <td>male</td>\n",
       "      <td>scalp</td>\n",
       "    </tr>\n",
       "    <tr>\n",
       "      <th>3</th>\n",
       "      <td>HAM_0002730</td>\n",
       "      <td>ISIC_0025661</td>\n",
       "      <td>bkl</td>\n",
       "      <td>histo</td>\n",
       "      <td>80.0</td>\n",
       "      <td>male</td>\n",
       "      <td>scalp</td>\n",
       "    </tr>\n",
       "    <tr>\n",
       "      <th>4</th>\n",
       "      <td>HAM_0001466</td>\n",
       "      <td>ISIC_0031633</td>\n",
       "      <td>bkl</td>\n",
       "      <td>histo</td>\n",
       "      <td>75.0</td>\n",
       "      <td>male</td>\n",
       "      <td>ear</td>\n",
       "    </tr>\n",
       "  </tbody>\n",
       "</table>\n",
       "</div>"
      ],
      "text/plain": [
       "     lesion_id      image_id   dx dx_type   age   sex localization\n",
       "0  HAM_0000118  ISIC_0027419  bkl   histo  80.0  male        scalp\n",
       "1  HAM_0000118  ISIC_0025030  bkl   histo  80.0  male        scalp\n",
       "2  HAM_0002730  ISIC_0026769  bkl   histo  80.0  male        scalp\n",
       "3  HAM_0002730  ISIC_0025661  bkl   histo  80.0  male        scalp\n",
       "4  HAM_0001466  ISIC_0031633  bkl   histo  75.0  male          ear"
      ]
     },
     "execution_count": 25,
     "metadata": {},
     "output_type": "execute_result"
    }
   ],
   "source": [
    "# importing metadata from the directory\n",
    "df = pd.read_csv(\"HAM10000_metadata.csv\")\n",
    "df.head(5)"
   ]
  },
  {
   "cell_type": "code",
   "execution_count": 26,
   "id": "dbcfa791",
   "metadata": {},
   "outputs": [
    {
     "data": {
      "text/plain": [
       "array(['akiec', 'bcc', 'bkl', 'df', 'mel', 'nv', 'vasc'], dtype='<U5')"
      ]
     },
     "execution_count": 26,
     "metadata": {},
     "output_type": "execute_result"
    }
   ],
   "source": [
    "# to show the categories of lesion\n",
    "np.unique(df['dx'].tolist())"
   ]
  },
  {
   "cell_type": "code",
   "execution_count": 27,
   "id": "2081e8c3",
   "metadata": {},
   "outputs": [],
   "source": [
    "def image_to_feature_vector(image, size=(32, 32)):\n",
    "    # resize the image to a fixed size, then flatten the image into\n",
    "    # a list of raw pixel intensities\n",
    "    return cv2.resize(image, size).flatten()"
   ]
  },
  {
   "cell_type": "code",
   "execution_count": 30,
   "id": "c76fb7bc",
   "metadata": {},
   "outputs": [],
   "source": [
    "img_dir = \"C:\\\\Users\\\\Adarsh Raghav\\\\dataverse_files\\\\HAM10000_images_part_1\"\n",
    "# Enter Directory of all images \n",
    "data_path = os.path.join(img_dir,'*g')\n",
    "files = glob.glob(data_path)\n",
    "data=[]\n",
    "F1=[]\n",
    "for f1 in files:\n",
    "    word_list= f1.split('\\\\')                      # spliting the path of each file with\"\\\"\n",
    "    F1.append(word_list[-1].split('.')[0])        # spliting the image Id (eg.ISIC_0034320.jpg) of each file with \".\"\n",
    "    img = cv2.imread(f1)\n",
    "    images=image_to_feature_vector(img, size=(32, 32)) # resizeing of an image\n",
    "    images1=images.tolist()\n",
    "    data.append(images1)"
   ]
  },
  {
   "cell_type": "code",
   "execution_count": 31,
   "id": "3acbd3e5",
   "metadata": {},
   "outputs": [
    {
     "data": {
      "text/plain": [
       "10015"
      ]
     },
     "execution_count": 31,
     "metadata": {},
     "output_type": "execute_result"
    }
   ],
   "source": [
    "# number of images in the data\n",
    "len(data)\n"
   ]
  },
  {
   "cell_type": "code",
   "execution_count": 32,
   "id": "98f9da09",
   "metadata": {},
   "outputs": [
    {
     "data": {
      "text/plain": [
       "3072"
      ]
     },
     "execution_count": 32,
     "metadata": {},
     "output_type": "execute_result"
    }
   ],
   "source": [
    " # number of pixels in the data\n",
    "len(data[0])"
   ]
  },
  {
   "cell_type": "code",
   "execution_count": 33,
   "id": "556738ae",
   "metadata": {},
   "outputs": [],
   "source": [
    "a=['image_id']\n",
    "str1='Pixel_'\n",
    "for i in range(3072):\n",
    "    a.append(str1 + str(i))"
   ]
  },
  {
   "cell_type": "code",
   "execution_count": 34,
   "id": "8c36151c",
   "metadata": {},
   "outputs": [],
   "source": [
    "# Python3 program to Convert 1D \n",
    "# list to 2D list \n",
    "from itertools import islice\n",
    "def convert(lst, var_lst):\n",
    "    it = iter(lst)\n",
    "    F2=[list(islice(it, i)) for i in var_lst]\n",
    "    return F2\n",
    " \n",
    "# Driver code \n",
    "var_lst = [1]*len(F1)\n",
    "F2=convert(F1, var_lst)\n"
   ]
  },
  {
   "cell_type": "code",
   "execution_count": 35,
   "id": "fc397a52",
   "metadata": {},
   "outputs": [],
   "source": [
    "def merge(lst1, lst2):\n",
    "    return [a + b for (a, b) in zip(lst1, lst2)]\n",
    "F3=merge(F2,data)"
   ]
  },
  {
   "cell_type": "code",
   "execution_count": 36,
   "id": "0dc97537",
   "metadata": {},
   "outputs": [
    {
     "data": {
      "text/html": [
       "<div>\n",
       "<style scoped>\n",
       "    .dataframe tbody tr th:only-of-type {\n",
       "        vertical-align: middle;\n",
       "    }\n",
       "\n",
       "    .dataframe tbody tr th {\n",
       "        vertical-align: top;\n",
       "    }\n",
       "\n",
       "    .dataframe thead th {\n",
       "        text-align: right;\n",
       "    }\n",
       "</style>\n",
       "<table border=\"1\" class=\"dataframe\">\n",
       "  <thead>\n",
       "    <tr style=\"text-align: right;\">\n",
       "      <th></th>\n",
       "      <th>image_id</th>\n",
       "      <th>Pixel_0</th>\n",
       "      <th>Pixel_1</th>\n",
       "      <th>Pixel_2</th>\n",
       "      <th>Pixel_3</th>\n",
       "      <th>Pixel_4</th>\n",
       "      <th>Pixel_5</th>\n",
       "      <th>Pixel_6</th>\n",
       "      <th>Pixel_7</th>\n",
       "      <th>Pixel_8</th>\n",
       "      <th>...</th>\n",
       "      <th>Pixel_3062</th>\n",
       "      <th>Pixel_3063</th>\n",
       "      <th>Pixel_3064</th>\n",
       "      <th>Pixel_3065</th>\n",
       "      <th>Pixel_3066</th>\n",
       "      <th>Pixel_3067</th>\n",
       "      <th>Pixel_3068</th>\n",
       "      <th>Pixel_3069</th>\n",
       "      <th>Pixel_3070</th>\n",
       "      <th>Pixel_3071</th>\n",
       "    </tr>\n",
       "  </thead>\n",
       "  <tbody>\n",
       "    <tr>\n",
       "      <th>0</th>\n",
       "      <td>ISIC_0024306</td>\n",
       "      <td>135</td>\n",
       "      <td>132</td>\n",
       "      <td>231</td>\n",
       "      <td>125</td>\n",
       "      <td>123</td>\n",
       "      <td>233</td>\n",
       "      <td>134</td>\n",
       "      <td>131</td>\n",
       "      <td>236</td>\n",
       "      <td>...</td>\n",
       "      <td>221</td>\n",
       "      <td>136</td>\n",
       "      <td>151</td>\n",
       "      <td>224</td>\n",
       "      <td>130</td>\n",
       "      <td>147</td>\n",
       "      <td>217</td>\n",
       "      <td>132</td>\n",
       "      <td>141</td>\n",
       "      <td>214</td>\n",
       "    </tr>\n",
       "    <tr>\n",
       "      <th>1</th>\n",
       "      <td>ISIC_0024307</td>\n",
       "      <td>134</td>\n",
       "      <td>120</td>\n",
       "      <td>213</td>\n",
       "      <td>130</td>\n",
       "      <td>119</td>\n",
       "      <td>217</td>\n",
       "      <td>134</td>\n",
       "      <td>116</td>\n",
       "      <td>214</td>\n",
       "      <td>...</td>\n",
       "      <td>219</td>\n",
       "      <td>145</td>\n",
       "      <td>142</td>\n",
       "      <td>214</td>\n",
       "      <td>147</td>\n",
       "      <td>142</td>\n",
       "      <td>214</td>\n",
       "      <td>109</td>\n",
       "      <td>110</td>\n",
       "      <td>180</td>\n",
       "    </tr>\n",
       "    <tr>\n",
       "      <th>2</th>\n",
       "      <td>ISIC_0024308</td>\n",
       "      <td>178</td>\n",
       "      <td>172</td>\n",
       "      <td>247</td>\n",
       "      <td>185</td>\n",
       "      <td>176</td>\n",
       "      <td>248</td>\n",
       "      <td>186</td>\n",
       "      <td>176</td>\n",
       "      <td>248</td>\n",
       "      <td>...</td>\n",
       "      <td>215</td>\n",
       "      <td>148</td>\n",
       "      <td>136</td>\n",
       "      <td>209</td>\n",
       "      <td>158</td>\n",
       "      <td>149</td>\n",
       "      <td>218</td>\n",
       "      <td>151</td>\n",
       "      <td>143</td>\n",
       "      <td>214</td>\n",
       "    </tr>\n",
       "    <tr>\n",
       "      <th>3</th>\n",
       "      <td>ISIC_0024309</td>\n",
       "      <td>140</td>\n",
       "      <td>122</td>\n",
       "      <td>212</td>\n",
       "      <td>135</td>\n",
       "      <td>113</td>\n",
       "      <td>205</td>\n",
       "      <td>138</td>\n",
       "      <td>120</td>\n",
       "      <td>211</td>\n",
       "      <td>...</td>\n",
       "      <td>196</td>\n",
       "      <td>124</td>\n",
       "      <td>123</td>\n",
       "      <td>195</td>\n",
       "      <td>120</td>\n",
       "      <td>120</td>\n",
       "      <td>189</td>\n",
       "      <td>122</td>\n",
       "      <td>121</td>\n",
       "      <td>187</td>\n",
       "    </tr>\n",
       "    <tr>\n",
       "      <th>4</th>\n",
       "      <td>ISIC_0024310</td>\n",
       "      <td>37</td>\n",
       "      <td>31</td>\n",
       "      <td>68</td>\n",
       "      <td>35</td>\n",
       "      <td>31</td>\n",
       "      <td>74</td>\n",
       "      <td>134</td>\n",
       "      <td>124</td>\n",
       "      <td>188</td>\n",
       "      <td>...</td>\n",
       "      <td>201</td>\n",
       "      <td>144</td>\n",
       "      <td>126</td>\n",
       "      <td>203</td>\n",
       "      <td>79</td>\n",
       "      <td>88</td>\n",
       "      <td>146</td>\n",
       "      <td>43</td>\n",
       "      <td>33</td>\n",
       "      <td>73</td>\n",
       "    </tr>\n",
       "  </tbody>\n",
       "</table>\n",
       "<p>5 rows × 3073 columns</p>\n",
       "</div>"
      ],
      "text/plain": [
       "       image_id  Pixel_0  Pixel_1  Pixel_2  Pixel_3  Pixel_4  Pixel_5  \\\n",
       "0  ISIC_0024306      135      132      231      125      123      233   \n",
       "1  ISIC_0024307      134      120      213      130      119      217   \n",
       "2  ISIC_0024308      178      172      247      185      176      248   \n",
       "3  ISIC_0024309      140      122      212      135      113      205   \n",
       "4  ISIC_0024310       37       31       68       35       31       74   \n",
       "\n",
       "   Pixel_6  Pixel_7  Pixel_8  ...  Pixel_3062  Pixel_3063  Pixel_3064  \\\n",
       "0      134      131      236  ...         221         136         151   \n",
       "1      134      116      214  ...         219         145         142   \n",
       "2      186      176      248  ...         215         148         136   \n",
       "3      138      120      211  ...         196         124         123   \n",
       "4      134      124      188  ...         201         144         126   \n",
       "\n",
       "   Pixel_3065  Pixel_3066  Pixel_3067  Pixel_3068  Pixel_3069  Pixel_3070  \\\n",
       "0         224         130         147         217         132         141   \n",
       "1         214         147         142         214         109         110   \n",
       "2         209         158         149         218         151         143   \n",
       "3         195         120         120         189         122         121   \n",
       "4         203          79          88         146          43          33   \n",
       "\n",
       "   Pixel_3071  \n",
       "0         214  \n",
       "1         180  \n",
       "2         214  \n",
       "3         187  \n",
       "4          73  \n",
       "\n",
       "[5 rows x 3073 columns]"
      ]
     },
     "execution_count": 36,
     "metadata": {},
     "output_type": "execute_result"
    }
   ],
   "source": [
    "df1=pd.DataFrame(F3,columns=a)\n",
    "df1.head(5)"
   ]
  },
  {
   "cell_type": "code",
   "execution_count": 37,
   "id": "57859034",
   "metadata": {},
   "outputs": [],
   "source": [
    "# labeling the categories of lesion\n",
    "def score_to_numeric(x):\n",
    "    if x=='akiec':\n",
    "        return 0\n",
    "    if x=='bcc':\n",
    "        return 1\n",
    "    if x=='bkl':\n",
    "        return 2\n",
    "    if x=='df':\n",
    "        return 3\n",
    "    if x==\"mel\":\n",
    "        return 4\n",
    "    if x=='nv':\n",
    "        return 5\n",
    "    if x=='vasc':\n",
    "        return 6"
   ]
  },
  {
   "cell_type": "code",
   "execution_count": 38,
   "id": "73ffde7c",
   "metadata": {},
   "outputs": [
    {
     "data": {
      "text/html": [
       "<div>\n",
       "<style scoped>\n",
       "    .dataframe tbody tr th:only-of-type {\n",
       "        vertical-align: middle;\n",
       "    }\n",
       "\n",
       "    .dataframe tbody tr th {\n",
       "        vertical-align: top;\n",
       "    }\n",
       "\n",
       "    .dataframe thead th {\n",
       "        text-align: right;\n",
       "    }\n",
       "</style>\n",
       "<table border=\"1\" class=\"dataframe\">\n",
       "  <thead>\n",
       "    <tr style=\"text-align: right;\">\n",
       "      <th></th>\n",
       "      <th>lesion_id</th>\n",
       "      <th>image_id</th>\n",
       "      <th>dx</th>\n",
       "      <th>dx_type</th>\n",
       "      <th>age</th>\n",
       "      <th>sex</th>\n",
       "      <th>localization</th>\n",
       "      <th>Pixel_0</th>\n",
       "      <th>Pixel_1</th>\n",
       "      <th>Pixel_2</th>\n",
       "      <th>...</th>\n",
       "      <th>Pixel_3062</th>\n",
       "      <th>Pixel_3063</th>\n",
       "      <th>Pixel_3064</th>\n",
       "      <th>Pixel_3065</th>\n",
       "      <th>Pixel_3066</th>\n",
       "      <th>Pixel_3067</th>\n",
       "      <th>Pixel_3068</th>\n",
       "      <th>Pixel_3069</th>\n",
       "      <th>Pixel_3070</th>\n",
       "      <th>Pixel_3071</th>\n",
       "    </tr>\n",
       "  </thead>\n",
       "  <tbody>\n",
       "    <tr>\n",
       "      <th>0</th>\n",
       "      <td>HAM_0000118</td>\n",
       "      <td>ISIC_0027419</td>\n",
       "      <td>bkl</td>\n",
       "      <td>histo</td>\n",
       "      <td>80.0</td>\n",
       "      <td>male</td>\n",
       "      <td>scalp</td>\n",
       "      <td>187</td>\n",
       "      <td>148</td>\n",
       "      <td>190</td>\n",
       "      <td>...</td>\n",
       "      <td>178</td>\n",
       "      <td>154</td>\n",
       "      <td>132</td>\n",
       "      <td>178</td>\n",
       "      <td>167</td>\n",
       "      <td>150</td>\n",
       "      <td>183</td>\n",
       "      <td>177</td>\n",
       "      <td>153</td>\n",
       "      <td>185</td>\n",
       "    </tr>\n",
       "    <tr>\n",
       "      <th>1</th>\n",
       "      <td>HAM_0000118</td>\n",
       "      <td>ISIC_0025030</td>\n",
       "      <td>bkl</td>\n",
       "      <td>histo</td>\n",
       "      <td>80.0</td>\n",
       "      <td>male</td>\n",
       "      <td>scalp</td>\n",
       "      <td>25</td>\n",
       "      <td>14</td>\n",
       "      <td>23</td>\n",
       "      <td>...</td>\n",
       "      <td>91</td>\n",
       "      <td>43</td>\n",
       "      <td>26</td>\n",
       "      <td>42</td>\n",
       "      <td>27</td>\n",
       "      <td>14</td>\n",
       "      <td>24</td>\n",
       "      <td>28</td>\n",
       "      <td>15</td>\n",
       "      <td>25</td>\n",
       "    </tr>\n",
       "    <tr>\n",
       "      <th>2</th>\n",
       "      <td>HAM_0002730</td>\n",
       "      <td>ISIC_0026769</td>\n",
       "      <td>bkl</td>\n",
       "      <td>histo</td>\n",
       "      <td>80.0</td>\n",
       "      <td>male</td>\n",
       "      <td>scalp</td>\n",
       "      <td>146</td>\n",
       "      <td>133</td>\n",
       "      <td>186</td>\n",
       "      <td>...</td>\n",
       "      <td>167</td>\n",
       "      <td>143</td>\n",
       "      <td>128</td>\n",
       "      <td>160</td>\n",
       "      <td>139</td>\n",
       "      <td>117</td>\n",
       "      <td>151</td>\n",
       "      <td>116</td>\n",
       "      <td>105</td>\n",
       "      <td>134</td>\n",
       "    </tr>\n",
       "    <tr>\n",
       "      <th>3</th>\n",
       "      <td>HAM_0002730</td>\n",
       "      <td>ISIC_0025661</td>\n",
       "      <td>bkl</td>\n",
       "      <td>histo</td>\n",
       "      <td>80.0</td>\n",
       "      <td>male</td>\n",
       "      <td>scalp</td>\n",
       "      <td>27</td>\n",
       "      <td>16</td>\n",
       "      <td>31</td>\n",
       "      <td>...</td>\n",
       "      <td>77</td>\n",
       "      <td>22</td>\n",
       "      <td>16</td>\n",
       "      <td>29</td>\n",
       "      <td>16</td>\n",
       "      <td>12</td>\n",
       "      <td>26</td>\n",
       "      <td>16</td>\n",
       "      <td>12</td>\n",
       "      <td>24</td>\n",
       "    </tr>\n",
       "    <tr>\n",
       "      <th>4</th>\n",
       "      <td>HAM_0001466</td>\n",
       "      <td>ISIC_0031633</td>\n",
       "      <td>bkl</td>\n",
       "      <td>histo</td>\n",
       "      <td>75.0</td>\n",
       "      <td>male</td>\n",
       "      <td>ear</td>\n",
       "      <td>134</td>\n",
       "      <td>110</td>\n",
       "      <td>153</td>\n",
       "      <td>...</td>\n",
       "      <td>219</td>\n",
       "      <td>179</td>\n",
       "      <td>161</td>\n",
       "      <td>202</td>\n",
       "      <td>132</td>\n",
       "      <td>122</td>\n",
       "      <td>158</td>\n",
       "      <td>84</td>\n",
       "      <td>69</td>\n",
       "      <td>101</td>\n",
       "    </tr>\n",
       "  </tbody>\n",
       "</table>\n",
       "<p>5 rows × 3079 columns</p>\n",
       "</div>"
      ],
      "text/plain": [
       "     lesion_id      image_id   dx dx_type   age   sex localization  Pixel_0  \\\n",
       "0  HAM_0000118  ISIC_0027419  bkl   histo  80.0  male        scalp      187   \n",
       "1  HAM_0000118  ISIC_0025030  bkl   histo  80.0  male        scalp       25   \n",
       "2  HAM_0002730  ISIC_0026769  bkl   histo  80.0  male        scalp      146   \n",
       "3  HAM_0002730  ISIC_0025661  bkl   histo  80.0  male        scalp       27   \n",
       "4  HAM_0001466  ISIC_0031633  bkl   histo  75.0  male          ear      134   \n",
       "\n",
       "   Pixel_1  Pixel_2  ...  Pixel_3062  Pixel_3063  Pixel_3064  Pixel_3065  \\\n",
       "0      148      190  ...         178         154         132         178   \n",
       "1       14       23  ...          91          43          26          42   \n",
       "2      133      186  ...         167         143         128         160   \n",
       "3       16       31  ...          77          22          16          29   \n",
       "4      110      153  ...         219         179         161         202   \n",
       "\n",
       "   Pixel_3066  Pixel_3067  Pixel_3068  Pixel_3069  Pixel_3070  Pixel_3071  \n",
       "0         167         150         183         177         153         185  \n",
       "1          27          14          24          28          15          25  \n",
       "2         139         117         151         116         105         134  \n",
       "3          16          12          26          16          12          24  \n",
       "4         132         122         158          84          69         101  \n",
       "\n",
       "[5 rows x 3079 columns]"
      ]
     },
     "execution_count": 38,
     "metadata": {},
     "output_type": "execute_result"
    }
   ],
   "source": [
    "#df=df.drop('label',axis=1)\n",
    "# merging the metadata with pixels of the images according to the image_ID\n",
    "df3=pd.merge(df, df1, on='image_id', how='outer')\n",
    "df3.head(5)"
   ]
  },
  {
   "cell_type": "code",
   "execution_count": 39,
   "id": "90a1aa00",
   "metadata": {},
   "outputs": [
    {
     "data": {
      "text/html": [
       "<div>\n",
       "<style scoped>\n",
       "    .dataframe tbody tr th:only-of-type {\n",
       "        vertical-align: middle;\n",
       "    }\n",
       "\n",
       "    .dataframe tbody tr th {\n",
       "        vertical-align: top;\n",
       "    }\n",
       "\n",
       "    .dataframe thead th {\n",
       "        text-align: right;\n",
       "    }\n",
       "</style>\n",
       "<table border=\"1\" class=\"dataframe\">\n",
       "  <thead>\n",
       "    <tr style=\"text-align: right;\">\n",
       "      <th></th>\n",
       "      <th>lesion_id</th>\n",
       "      <th>image_id</th>\n",
       "      <th>dx</th>\n",
       "      <th>dx_type</th>\n",
       "      <th>age</th>\n",
       "      <th>sex</th>\n",
       "      <th>localization</th>\n",
       "      <th>Pixel_0</th>\n",
       "      <th>Pixel_1</th>\n",
       "      <th>Pixel_2</th>\n",
       "      <th>...</th>\n",
       "      <th>Pixel_3063</th>\n",
       "      <th>Pixel_3064</th>\n",
       "      <th>Pixel_3065</th>\n",
       "      <th>Pixel_3066</th>\n",
       "      <th>Pixel_3067</th>\n",
       "      <th>Pixel_3068</th>\n",
       "      <th>Pixel_3069</th>\n",
       "      <th>Pixel_3070</th>\n",
       "      <th>Pixel_3071</th>\n",
       "      <th>label</th>\n",
       "    </tr>\n",
       "  </thead>\n",
       "  <tbody>\n",
       "    <tr>\n",
       "      <th>0</th>\n",
       "      <td>HAM_0000118</td>\n",
       "      <td>ISIC_0027419</td>\n",
       "      <td>bkl</td>\n",
       "      <td>histo</td>\n",
       "      <td>80.0</td>\n",
       "      <td>male</td>\n",
       "      <td>scalp</td>\n",
       "      <td>187</td>\n",
       "      <td>148</td>\n",
       "      <td>190</td>\n",
       "      <td>...</td>\n",
       "      <td>154</td>\n",
       "      <td>132</td>\n",
       "      <td>178</td>\n",
       "      <td>167</td>\n",
       "      <td>150</td>\n",
       "      <td>183</td>\n",
       "      <td>177</td>\n",
       "      <td>153</td>\n",
       "      <td>185</td>\n",
       "      <td>2</td>\n",
       "    </tr>\n",
       "    <tr>\n",
       "      <th>1</th>\n",
       "      <td>HAM_0000118</td>\n",
       "      <td>ISIC_0025030</td>\n",
       "      <td>bkl</td>\n",
       "      <td>histo</td>\n",
       "      <td>80.0</td>\n",
       "      <td>male</td>\n",
       "      <td>scalp</td>\n",
       "      <td>25</td>\n",
       "      <td>14</td>\n",
       "      <td>23</td>\n",
       "      <td>...</td>\n",
       "      <td>43</td>\n",
       "      <td>26</td>\n",
       "      <td>42</td>\n",
       "      <td>27</td>\n",
       "      <td>14</td>\n",
       "      <td>24</td>\n",
       "      <td>28</td>\n",
       "      <td>15</td>\n",
       "      <td>25</td>\n",
       "      <td>2</td>\n",
       "    </tr>\n",
       "    <tr>\n",
       "      <th>2</th>\n",
       "      <td>HAM_0002730</td>\n",
       "      <td>ISIC_0026769</td>\n",
       "      <td>bkl</td>\n",
       "      <td>histo</td>\n",
       "      <td>80.0</td>\n",
       "      <td>male</td>\n",
       "      <td>scalp</td>\n",
       "      <td>146</td>\n",
       "      <td>133</td>\n",
       "      <td>186</td>\n",
       "      <td>...</td>\n",
       "      <td>143</td>\n",
       "      <td>128</td>\n",
       "      <td>160</td>\n",
       "      <td>139</td>\n",
       "      <td>117</td>\n",
       "      <td>151</td>\n",
       "      <td>116</td>\n",
       "      <td>105</td>\n",
       "      <td>134</td>\n",
       "      <td>2</td>\n",
       "    </tr>\n",
       "    <tr>\n",
       "      <th>3</th>\n",
       "      <td>HAM_0002730</td>\n",
       "      <td>ISIC_0025661</td>\n",
       "      <td>bkl</td>\n",
       "      <td>histo</td>\n",
       "      <td>80.0</td>\n",
       "      <td>male</td>\n",
       "      <td>scalp</td>\n",
       "      <td>27</td>\n",
       "      <td>16</td>\n",
       "      <td>31</td>\n",
       "      <td>...</td>\n",
       "      <td>22</td>\n",
       "      <td>16</td>\n",
       "      <td>29</td>\n",
       "      <td>16</td>\n",
       "      <td>12</td>\n",
       "      <td>26</td>\n",
       "      <td>16</td>\n",
       "      <td>12</td>\n",
       "      <td>24</td>\n",
       "      <td>2</td>\n",
       "    </tr>\n",
       "    <tr>\n",
       "      <th>4</th>\n",
       "      <td>HAM_0001466</td>\n",
       "      <td>ISIC_0031633</td>\n",
       "      <td>bkl</td>\n",
       "      <td>histo</td>\n",
       "      <td>75.0</td>\n",
       "      <td>male</td>\n",
       "      <td>ear</td>\n",
       "      <td>134</td>\n",
       "      <td>110</td>\n",
       "      <td>153</td>\n",
       "      <td>...</td>\n",
       "      <td>179</td>\n",
       "      <td>161</td>\n",
       "      <td>202</td>\n",
       "      <td>132</td>\n",
       "      <td>122</td>\n",
       "      <td>158</td>\n",
       "      <td>84</td>\n",
       "      <td>69</td>\n",
       "      <td>101</td>\n",
       "      <td>2</td>\n",
       "    </tr>\n",
       "  </tbody>\n",
       "</table>\n",
       "<p>5 rows × 3080 columns</p>\n",
       "</div>"
      ],
      "text/plain": [
       "     lesion_id      image_id   dx dx_type   age   sex localization  Pixel_0  \\\n",
       "0  HAM_0000118  ISIC_0027419  bkl   histo  80.0  male        scalp      187   \n",
       "1  HAM_0000118  ISIC_0025030  bkl   histo  80.0  male        scalp       25   \n",
       "2  HAM_0002730  ISIC_0026769  bkl   histo  80.0  male        scalp      146   \n",
       "3  HAM_0002730  ISIC_0025661  bkl   histo  80.0  male        scalp       27   \n",
       "4  HAM_0001466  ISIC_0031633  bkl   histo  75.0  male          ear      134   \n",
       "\n",
       "   Pixel_1  Pixel_2  ...  Pixel_3063  Pixel_3064  Pixel_3065  Pixel_3066  \\\n",
       "0      148      190  ...         154         132         178         167   \n",
       "1       14       23  ...          43          26          42          27   \n",
       "2      133      186  ...         143         128         160         139   \n",
       "3       16       31  ...          22          16          29          16   \n",
       "4      110      153  ...         179         161         202         132   \n",
       "\n",
       "   Pixel_3067  Pixel_3068  Pixel_3069  Pixel_3070  Pixel_3071  label  \n",
       "0         150         183         177         153         185      2  \n",
       "1          14          24          28          15          25      2  \n",
       "2         117         151         116         105         134      2  \n",
       "3          12          26          16          12          24      2  \n",
       "4         122         158          84          69         101      2  \n",
       "\n",
       "[5 rows x 3080 columns]"
      ]
     },
     "execution_count": 39,
     "metadata": {},
     "output_type": "execute_result"
    }
   ],
   "source": [
    "df3['label']=df['dx'].apply(score_to_numeric)\n",
    "df3.head(5)\n"
   ]
  },
  {
   "cell_type": "code",
   "execution_count": 40,
   "id": "6e8276bd",
   "metadata": {},
   "outputs": [],
   "source": [
    "# saving the dataframe \n",
    "df3.to_csv('df3_final.csv', header=True, index=False)\n"
   ]
  }
 ],
 "metadata": {
  "kernelspec": {
   "display_name": "Python 3 (ipykernel)",
   "language": "python",
   "name": "python3"
  },
  "language_info": {
   "codemirror_mode": {
    "name": "ipython",
    "version": 3
   },
   "file_extension": ".py",
   "mimetype": "text/x-python",
   "name": "python",
   "nbconvert_exporter": "python",
   "pygments_lexer": "ipython3",
   "version": "3.9.12"
  }
 },
 "nbformat": 4,
 "nbformat_minor": 5
}
