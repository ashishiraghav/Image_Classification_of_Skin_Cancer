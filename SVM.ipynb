{
  "nbformat": 4,
  "nbformat_minor": 0,
  "metadata": {
    "colab": {
      "name": "SVM",
      "provenance": []
    },
    "kernelspec": {
      "name": "python3",
      "display_name": "Python 3"
    },
    "language_info": {
      "name": "python"
    }
  },
  "cells": [
    {
      "cell_type": "markdown",
      "source": [
        "# **Support** **Vector** **Machine** "
      ],
      "metadata": {
        "id": "iyQA6UNgqWlB"
      }
    },
    {
      "cell_type": "code",
      "source": [
        "from google.colab import drive\n",
        "drive.mount('/content/drive')"
      ],
      "metadata": {
        "colab": {
          "base_uri": "https://localhost:8080/"
        },
        "id": "joUILq_Xqkww",
        "outputId": "4a49f615-225d-4bb7-d36e-03850bc0b173"
      },
      "execution_count": 1,
      "outputs": [
        {
          "output_type": "stream",
          "name": "stdout",
          "text": [
            "Mounted at /content/drive\n"
          ]
        }
      ]
    },
    {
      "cell_type": "code",
      "source": [
        "# importing important libraries\n",
        "import numpy as np \n",
        "import pandas as pd\n",
        "import random \n",
        "random.seed(3)"
      ],
      "metadata": {
        "id": "qbMMP-0HsAHL"
      },
      "execution_count": 3,
      "outputs": []
    },
    {
      "cell_type": "code",
      "source": [
        "df3=pd.read_csv(\"/content/drive/MyDrive/df3_final.csv\")    # Importing data from Directory\n",
        "df3.head()"
      ],
      "metadata": {
        "colab": {
          "base_uri": "https://localhost:8080/",
          "height": 300
        },
        "id": "cq3xxB2FsIQI",
        "outputId": "da37dab5-38d8-4a6f-eeb8-d740ef7d6449"
      },
      "execution_count": 16,
      "outputs": [
        {
          "output_type": "execute_result",
          "data": {
            "text/plain": [
              "     lesion_id      image_id   dx dx_type   age   sex localization  Pixel_0  \\\n",
              "0  HAM_0000118  ISIC_0027419  bkl   histo  80.0  male        scalp      187   \n",
              "1  HAM_0000118  ISIC_0025030  bkl   histo  80.0  male        scalp       25   \n",
              "2  HAM_0002730  ISIC_0026769  bkl   histo  80.0  male        scalp      146   \n",
              "3  HAM_0002730  ISIC_0025661  bkl   histo  80.0  male        scalp       27   \n",
              "4  HAM_0001466  ISIC_0031633  bkl   histo  75.0  male          ear      134   \n",
              "\n",
              "   Pixel_1  Pixel_2  ...  Pixel_3063  Pixel_3064  Pixel_3065  Pixel_3066  \\\n",
              "0      148      190  ...         154         132         178         167   \n",
              "1       14       23  ...          43          26          42          27   \n",
              "2      133      186  ...         143         128         160         139   \n",
              "3       16       31  ...          22          16          29          16   \n",
              "4      110      153  ...         179         161         202         132   \n",
              "\n",
              "   Pixel_3067  Pixel_3068  Pixel_3069  Pixel_3070  Pixel_3071  label  \n",
              "0         150         183         177         153         185      2  \n",
              "1          14          24          28          15          25      2  \n",
              "2         117         151         116         105         134      2  \n",
              "3          12          26          16          12          24      2  \n",
              "4         122         158          84          69         101      2  \n",
              "\n",
              "[5 rows x 3080 columns]"
            ],
            "text/html": [
              "\n",
              "  <div id=\"df-aabb6363-414b-4d4e-9c0c-f2a49d113905\">\n",
              "    <div class=\"colab-df-container\">\n",
              "      <div>\n",
              "<style scoped>\n",
              "    .dataframe tbody tr th:only-of-type {\n",
              "        vertical-align: middle;\n",
              "    }\n",
              "\n",
              "    .dataframe tbody tr th {\n",
              "        vertical-align: top;\n",
              "    }\n",
              "\n",
              "    .dataframe thead th {\n",
              "        text-align: right;\n",
              "    }\n",
              "</style>\n",
              "<table border=\"1\" class=\"dataframe\">\n",
              "  <thead>\n",
              "    <tr style=\"text-align: right;\">\n",
              "      <th></th>\n",
              "      <th>lesion_id</th>\n",
              "      <th>image_id</th>\n",
              "      <th>dx</th>\n",
              "      <th>dx_type</th>\n",
              "      <th>age</th>\n",
              "      <th>sex</th>\n",
              "      <th>localization</th>\n",
              "      <th>Pixel_0</th>\n",
              "      <th>Pixel_1</th>\n",
              "      <th>Pixel_2</th>\n",
              "      <th>...</th>\n",
              "      <th>Pixel_3063</th>\n",
              "      <th>Pixel_3064</th>\n",
              "      <th>Pixel_3065</th>\n",
              "      <th>Pixel_3066</th>\n",
              "      <th>Pixel_3067</th>\n",
              "      <th>Pixel_3068</th>\n",
              "      <th>Pixel_3069</th>\n",
              "      <th>Pixel_3070</th>\n",
              "      <th>Pixel_3071</th>\n",
              "      <th>label</th>\n",
              "    </tr>\n",
              "  </thead>\n",
              "  <tbody>\n",
              "    <tr>\n",
              "      <th>0</th>\n",
              "      <td>HAM_0000118</td>\n",
              "      <td>ISIC_0027419</td>\n",
              "      <td>bkl</td>\n",
              "      <td>histo</td>\n",
              "      <td>80.0</td>\n",
              "      <td>male</td>\n",
              "      <td>scalp</td>\n",
              "      <td>187</td>\n",
              "      <td>148</td>\n",
              "      <td>190</td>\n",
              "      <td>...</td>\n",
              "      <td>154</td>\n",
              "      <td>132</td>\n",
              "      <td>178</td>\n",
              "      <td>167</td>\n",
              "      <td>150</td>\n",
              "      <td>183</td>\n",
              "      <td>177</td>\n",
              "      <td>153</td>\n",
              "      <td>185</td>\n",
              "      <td>2</td>\n",
              "    </tr>\n",
              "    <tr>\n",
              "      <th>1</th>\n",
              "      <td>HAM_0000118</td>\n",
              "      <td>ISIC_0025030</td>\n",
              "      <td>bkl</td>\n",
              "      <td>histo</td>\n",
              "      <td>80.0</td>\n",
              "      <td>male</td>\n",
              "      <td>scalp</td>\n",
              "      <td>25</td>\n",
              "      <td>14</td>\n",
              "      <td>23</td>\n",
              "      <td>...</td>\n",
              "      <td>43</td>\n",
              "      <td>26</td>\n",
              "      <td>42</td>\n",
              "      <td>27</td>\n",
              "      <td>14</td>\n",
              "      <td>24</td>\n",
              "      <td>28</td>\n",
              "      <td>15</td>\n",
              "      <td>25</td>\n",
              "      <td>2</td>\n",
              "    </tr>\n",
              "    <tr>\n",
              "      <th>2</th>\n",
              "      <td>HAM_0002730</td>\n",
              "      <td>ISIC_0026769</td>\n",
              "      <td>bkl</td>\n",
              "      <td>histo</td>\n",
              "      <td>80.0</td>\n",
              "      <td>male</td>\n",
              "      <td>scalp</td>\n",
              "      <td>146</td>\n",
              "      <td>133</td>\n",
              "      <td>186</td>\n",
              "      <td>...</td>\n",
              "      <td>143</td>\n",
              "      <td>128</td>\n",
              "      <td>160</td>\n",
              "      <td>139</td>\n",
              "      <td>117</td>\n",
              "      <td>151</td>\n",
              "      <td>116</td>\n",
              "      <td>105</td>\n",
              "      <td>134</td>\n",
              "      <td>2</td>\n",
              "    </tr>\n",
              "    <tr>\n",
              "      <th>3</th>\n",
              "      <td>HAM_0002730</td>\n",
              "      <td>ISIC_0025661</td>\n",
              "      <td>bkl</td>\n",
              "      <td>histo</td>\n",
              "      <td>80.0</td>\n",
              "      <td>male</td>\n",
              "      <td>scalp</td>\n",
              "      <td>27</td>\n",
              "      <td>16</td>\n",
              "      <td>31</td>\n",
              "      <td>...</td>\n",
              "      <td>22</td>\n",
              "      <td>16</td>\n",
              "      <td>29</td>\n",
              "      <td>16</td>\n",
              "      <td>12</td>\n",
              "      <td>26</td>\n",
              "      <td>16</td>\n",
              "      <td>12</td>\n",
              "      <td>24</td>\n",
              "      <td>2</td>\n",
              "    </tr>\n",
              "    <tr>\n",
              "      <th>4</th>\n",
              "      <td>HAM_0001466</td>\n",
              "      <td>ISIC_0031633</td>\n",
              "      <td>bkl</td>\n",
              "      <td>histo</td>\n",
              "      <td>75.0</td>\n",
              "      <td>male</td>\n",
              "      <td>ear</td>\n",
              "      <td>134</td>\n",
              "      <td>110</td>\n",
              "      <td>153</td>\n",
              "      <td>...</td>\n",
              "      <td>179</td>\n",
              "      <td>161</td>\n",
              "      <td>202</td>\n",
              "      <td>132</td>\n",
              "      <td>122</td>\n",
              "      <td>158</td>\n",
              "      <td>84</td>\n",
              "      <td>69</td>\n",
              "      <td>101</td>\n",
              "      <td>2</td>\n",
              "    </tr>\n",
              "  </tbody>\n",
              "</table>\n",
              "<p>5 rows × 3080 columns</p>\n",
              "</div>\n",
              "      <button class=\"colab-df-convert\" onclick=\"convertToInteractive('df-aabb6363-414b-4d4e-9c0c-f2a49d113905')\"\n",
              "              title=\"Convert this dataframe to an interactive table.\"\n",
              "              style=\"display:none;\">\n",
              "        \n",
              "  <svg xmlns=\"http://www.w3.org/2000/svg\" height=\"24px\"viewBox=\"0 0 24 24\"\n",
              "       width=\"24px\">\n",
              "    <path d=\"M0 0h24v24H0V0z\" fill=\"none\"/>\n",
              "    <path d=\"M18.56 5.44l.94 2.06.94-2.06 2.06-.94-2.06-.94-.94-2.06-.94 2.06-2.06.94zm-11 1L8.5 8.5l.94-2.06 2.06-.94-2.06-.94L8.5 2.5l-.94 2.06-2.06.94zm10 10l.94 2.06.94-2.06 2.06-.94-2.06-.94-.94-2.06-.94 2.06-2.06.94z\"/><path d=\"M17.41 7.96l-1.37-1.37c-.4-.4-.92-.59-1.43-.59-.52 0-1.04.2-1.43.59L10.3 9.45l-7.72 7.72c-.78.78-.78 2.05 0 2.83L4 21.41c.39.39.9.59 1.41.59.51 0 1.02-.2 1.41-.59l7.78-7.78 2.81-2.81c.8-.78.8-2.07 0-2.86zM5.41 20L4 18.59l7.72-7.72 1.47 1.35L5.41 20z\"/>\n",
              "  </svg>\n",
              "      </button>\n",
              "      \n",
              "  <style>\n",
              "    .colab-df-container {\n",
              "      display:flex;\n",
              "      flex-wrap:wrap;\n",
              "      gap: 12px;\n",
              "    }\n",
              "\n",
              "    .colab-df-convert {\n",
              "      background-color: #E8F0FE;\n",
              "      border: none;\n",
              "      border-radius: 50%;\n",
              "      cursor: pointer;\n",
              "      display: none;\n",
              "      fill: #1967D2;\n",
              "      height: 32px;\n",
              "      padding: 0 0 0 0;\n",
              "      width: 32px;\n",
              "    }\n",
              "\n",
              "    .colab-df-convert:hover {\n",
              "      background-color: #E2EBFA;\n",
              "      box-shadow: 0px 1px 2px rgba(60, 64, 67, 0.3), 0px 1px 3px 1px rgba(60, 64, 67, 0.15);\n",
              "      fill: #174EA6;\n",
              "    }\n",
              "\n",
              "    [theme=dark] .colab-df-convert {\n",
              "      background-color: #3B4455;\n",
              "      fill: #D2E3FC;\n",
              "    }\n",
              "\n",
              "    [theme=dark] .colab-df-convert:hover {\n",
              "      background-color: #434B5C;\n",
              "      box-shadow: 0px 1px 3px 1px rgba(0, 0, 0, 0.15);\n",
              "      filter: drop-shadow(0px 1px 2px rgba(0, 0, 0, 0.3));\n",
              "      fill: #FFFFFF;\n",
              "    }\n",
              "  </style>\n",
              "\n",
              "      <script>\n",
              "        const buttonEl =\n",
              "          document.querySelector('#df-aabb6363-414b-4d4e-9c0c-f2a49d113905 button.colab-df-convert');\n",
              "        buttonEl.style.display =\n",
              "          google.colab.kernel.accessAllowed ? 'block' : 'none';\n",
              "\n",
              "        async function convertToInteractive(key) {\n",
              "          const element = document.querySelector('#df-aabb6363-414b-4d4e-9c0c-f2a49d113905');\n",
              "          const dataTable =\n",
              "            await google.colab.kernel.invokeFunction('convertToInteractive',\n",
              "                                                     [key], {});\n",
              "          if (!dataTable) return;\n",
              "\n",
              "          const docLinkHtml = 'Like what you see? Visit the ' +\n",
              "            '<a target=\"_blank\" href=https://colab.research.google.com/notebooks/data_table.ipynb>data table notebook</a>'\n",
              "            + ' to learn more about interactive tables.';\n",
              "          element.innerHTML = '';\n",
              "          dataTable['output_type'] = 'display_data';\n",
              "          await google.colab.output.renderOutput(dataTable, element);\n",
              "          const docLink = document.createElement('div');\n",
              "          docLink.innerHTML = docLinkHtml;\n",
              "          element.appendChild(docLink);\n",
              "        }\n",
              "      </script>\n",
              "    </div>\n",
              "  </div>\n",
              "  "
            ]
          },
          "metadata": {},
          "execution_count": 16
        }
      ]
    },
    {
      "cell_type": "code",
      "source": [
        "X = df3.iloc[:,7:3079].values\n",
        "y = df3.iloc[:, 3079].values"
      ],
      "metadata": {
        "id": "RrAq2ckLsMl4"
      },
      "execution_count": 17,
      "outputs": []
    },
    {
      "cell_type": "code",
      "source": [
        "from sklearn.model_selection import train_test_split\n",
        "from sklearn.svm import SVC\n",
        "from sklearn.metrics import classification_report, confusion_matrix,classification_report"
      ],
      "metadata": {
        "id": "M02Y2Ti-suDu"
      },
      "execution_count": 18,
      "outputs": []
    },
    {
      "cell_type": "code",
      "source": [
        "Xtr, Xte, ytr, yte = train_test_split(X, y, test_size=0.20,random_state=30)    #split data into training and testing group"
      ],
      "metadata": {
        "id": "UtH4tx9Ftn7C"
      },
      "execution_count": 19,
      "outputs": []
    },
    {
      "cell_type": "markdown",
      "source": [
        "# **Linear Kernal**"
      ],
      "metadata": {
        "id": "djlFrQm9t_N7"
      }
    },
    {
      "cell_type": "code",
      "source": [
        "classifier_linear = SVC(kernel='linear')      #fit to the training data\n",
        "classifier_linear.fit(Xtr,ytr)"
      ],
      "metadata": {
        "colab": {
          "base_uri": "https://localhost:8080/"
        },
        "id": "MsZ6ol3yuTUV",
        "outputId": "2674bb21-ba06-4f36-e4e6-9a87a5b3d48e"
      },
      "execution_count": 20,
      "outputs": [
        {
          "output_type": "execute_result",
          "data": {
            "text/plain": [
              "SVC(kernel='linear')"
            ]
          },
          "metadata": {},
          "execution_count": 20
        }
      ]
    },
    {
      "cell_type": "code",
      "source": [
        " y_pred = classifier_linear.predict(Xte)"
      ],
      "metadata": {
        "id": "aQohZBh2uet3"
      },
      "execution_count": 21,
      "outputs": []
    },
    {
      "cell_type": "code",
      "source": [
        "print('accuracy: %f' % ( np.mean(y_pred == yte) )) \n",
        "# Accuracy of the model"
      ],
      "metadata": {
        "colab": {
          "base_uri": "https://localhost:8080/"
        },
        "id": "mF3GH5byzSjn",
        "outputId": "c50a1703-0a20-4f70-f559-7f305711d25b"
      },
      "execution_count": 22,
      "outputs": [
        {
          "output_type": "stream",
          "name": "stdout",
          "text": [
            "accuracy: 0.599601\n"
          ]
        }
      ]
    },
    {
      "cell_type": "code",
      "source": [
        "print(confusion_matrix(yte,y_pred))"
      ],
      "metadata": {
        "colab": {
          "base_uri": "https://localhost:8080/"
        },
        "id": "IJk82PhszcEd",
        "outputId": "6ba688fb-4db0-4932-d74c-2f9252c073e0"
      },
      "execution_count": 23,
      "outputs": [
        {
          "output_type": "stream",
          "name": "stdout",
          "text": [
            "[[ 17  12  11   4   1  17   3]\n",
            " [ 18  42  11   1   4  29   6]\n",
            " [ 16  19  73   6  23  74   1]\n",
            " [  3   7   5   5   3   1   0]\n",
            " [ 10  17  41   3  54  95   5]\n",
            " [ 23  21 139  10 143 999   4]\n",
            " [  1   6   0   0   1   8  11]]\n"
          ]
        }
      ]
    },
    {
      "cell_type": "code",
      "source": [
        "print(classification_report(yte,y_pred))\n"
      ],
      "metadata": {
        "colab": {
          "base_uri": "https://localhost:8080/"
        },
        "id": "Z-_Kdq_ZziqP",
        "outputId": "192ea676-c956-47fd-d127-1286c80aba2d"
      },
      "execution_count": 24,
      "outputs": [
        {
          "output_type": "stream",
          "name": "stdout",
          "text": [
            "              precision    recall  f1-score   support\n",
            "\n",
            "           0       0.19      0.26      0.22        65\n",
            "           1       0.34      0.38      0.36       111\n",
            "           2       0.26      0.34      0.30       212\n",
            "           3       0.17      0.21      0.19        24\n",
            "           4       0.24      0.24      0.24       225\n",
            "           5       0.82      0.75      0.78      1339\n",
            "           6       0.37      0.41      0.39        27\n",
            "\n",
            "    accuracy                           0.60      2003\n",
            "   macro avg       0.34      0.37      0.35      2003\n",
            "weighted avg       0.63      0.60      0.61      2003\n",
            "\n"
          ]
        }
      ]
    },
    {
      "cell_type": "markdown",
      "source": [
        "# **Polynomial Kernel**\n"
      ],
      "metadata": {
        "id": "y1bajV0Nzp3s"
      }
    },
    {
      "cell_type": "code",
      "source": [
        "classifier_poly1 =SVC(kernel='poly',degree=2)  #fit to the training data\n",
        "classifier_poly1.fit(Xtr,ytr)"
      ],
      "metadata": {
        "colab": {
          "base_uri": "https://localhost:8080/"
        },
        "id": "mXtqYVszzwPH",
        "outputId": "4775890a-ff8b-4bf2-8696-7a7140bde7cd"
      },
      "execution_count": 25,
      "outputs": [
        {
          "output_type": "execute_result",
          "data": {
            "text/plain": [
              "SVC(degree=2, kernel='poly')"
            ]
          },
          "metadata": {},
          "execution_count": 25
        }
      ]
    },
    {
      "cell_type": "code",
      "source": [
        "y_pred_poly1 = classifier_poly1.predict(Xte)"
      ],
      "metadata": {
        "id": "KMmLqt9lz6a_"
      },
      "execution_count": 26,
      "outputs": []
    },
    {
      "cell_type": "code",
      "source": [
        "print('accuracy: %f' % ( np.mean(y_pred_poly1 == yte) ))\n",
        "print(confusion_matrix(yte,y_pred_poly1))\n",
        "print(classification_report(yte,y_pred_poly1))"
      ],
      "metadata": {
        "colab": {
          "base_uri": "https://localhost:8080/"
        },
        "id": "QQ66xvlh4FLp",
        "outputId": "09898edd-841d-450c-9bc6-45aab2055de9"
      },
      "execution_count": 27,
      "outputs": [
        {
          "output_type": "stream",
          "name": "stdout",
          "text": [
            "accuracy: 0.710934\n",
            "[[  15   14    9    1    2   23    1]\n",
            " [   8   47    9    1    1   41    4]\n",
            " [   7   12   76    0   11  106    0]\n",
            " [   5    9    4    1    0    5    0]\n",
            " [  10    9   26    0   29  148    3]\n",
            " [   7    9   45    2   32 1243    1]\n",
            " [   2    4    0    0    0    8   13]]\n",
            "              precision    recall  f1-score   support\n",
            "\n",
            "           0       0.28      0.23      0.25        65\n",
            "           1       0.45      0.42      0.44       111\n",
            "           2       0.45      0.36      0.40       212\n",
            "           3       0.20      0.04      0.07        24\n",
            "           4       0.39      0.13      0.19       225\n",
            "           5       0.79      0.93      0.85      1339\n",
            "           6       0.59      0.48      0.53        27\n",
            "\n",
            "    accuracy                           0.71      2003\n",
            "   macro avg       0.45      0.37      0.39      2003\n",
            "weighted avg       0.66      0.71      0.67      2003\n",
            "\n"
          ]
        }
      ]
    },
    {
      "cell_type": "markdown",
      "source": [
        "# **Radial basis function kernel**"
      ],
      "metadata": {
        "id": "u-4KzqWg4Q16"
      }
    },
    {
      "cell_type": "code",
      "source": [
        "classifier_rbf =SVC(kernel='rbf')      #fit to the training data\n",
        "classifier_rbf.fit(Xtr,ytr)"
      ],
      "metadata": {
        "colab": {
          "base_uri": "https://localhost:8080/"
        },
        "id": "JxYW2yyy4XpO",
        "outputId": "45165f0a-585a-48eb-c6aa-76eb708599a1"
      },
      "execution_count": 28,
      "outputs": [
        {
          "output_type": "execute_result",
          "data": {
            "text/plain": [
              "SVC()"
            ]
          },
          "metadata": {},
          "execution_count": 28
        }
      ]
    },
    {
      "cell_type": "code",
      "source": [
        " y_pred_rbf = classifier_rbf.predict(Xte)"
      ],
      "metadata": {
        "id": "dGXD1r0A4iwf"
      },
      "execution_count": 29,
      "outputs": []
    },
    {
      "cell_type": "code",
      "source": [
        "print('accuracy: %f' % ( np.mean(y_pred_rbf== yte) ))\n",
        "print(confusion_matrix(yte,y_pred_rbf))\n",
        "print(classification_report(yte,y_pred_rbf))"
      ],
      "metadata": {
        "colab": {
          "base_uri": "https://localhost:8080/"
        },
        "id": "VnRCihRt5E-3",
        "outputId": "a912385e-40ab-4ba4-db87-aae4a31526e8"
      },
      "execution_count": 30,
      "outputs": [
        {
          "output_type": "stream",
          "name": "stdout",
          "text": [
            "accuracy: 0.702946\n",
            "[[   5   11   12    0    1   36    0]\n",
            " [   1   29   10    0    0   71    0]\n",
            " [   1    8   55    0    9  139    0]\n",
            " [   0    6    6    0    0   12    0]\n",
            " [   0    0   25    0   18  182    0]\n",
            " [   2    2   26    0    8 1301    0]\n",
            " [   0    5    3    0    0   19    0]]\n",
            "              precision    recall  f1-score   support\n",
            "\n",
            "           0       0.56      0.08      0.14        65\n",
            "           1       0.48      0.26      0.34       111\n",
            "           2       0.40      0.26      0.32       212\n",
            "           3       0.00      0.00      0.00        24\n",
            "           4       0.50      0.08      0.14       225\n",
            "           5       0.74      0.97      0.84      1339\n",
            "           6       0.00      0.00      0.00        27\n",
            "\n",
            "    accuracy                           0.70      2003\n",
            "   macro avg       0.38      0.24      0.25      2003\n",
            "weighted avg       0.64      0.70      0.63      2003\n",
            "\n"
          ]
        },
        {
          "output_type": "stream",
          "name": "stderr",
          "text": [
            "/usr/local/lib/python3.7/dist-packages/sklearn/metrics/_classification.py:1318: UndefinedMetricWarning: Precision and F-score are ill-defined and being set to 0.0 in labels with no predicted samples. Use `zero_division` parameter to control this behavior.\n",
            "  _warn_prf(average, modifier, msg_start, len(result))\n",
            "/usr/local/lib/python3.7/dist-packages/sklearn/metrics/_classification.py:1318: UndefinedMetricWarning: Precision and F-score are ill-defined and being set to 0.0 in labels with no predicted samples. Use `zero_division` parameter to control this behavior.\n",
            "  _warn_prf(average, modifier, msg_start, len(result))\n",
            "/usr/local/lib/python3.7/dist-packages/sklearn/metrics/_classification.py:1318: UndefinedMetricWarning: Precision and F-score are ill-defined and being set to 0.0 in labels with no predicted samples. Use `zero_division` parameter to control this behavior.\n",
            "  _warn_prf(average, modifier, msg_start, len(result))\n"
          ]
        }
      ]
    },
    {
      "cell_type": "markdown",
      "source": [
        "# **Sigmoid Kernel**\n"
      ],
      "metadata": {
        "id": "HZc54HBd5YWZ"
      }
    },
    {
      "cell_type": "code",
      "source": [
        "classifier_sigmoid = SVC(kernel='sigmoid')    #fit to the training data\n",
        "classifier_sigmoid.fit(Xtr,ytr)"
      ],
      "metadata": {
        "colab": {
          "base_uri": "https://localhost:8080/"
        },
        "id": "S48UlL_I5fWu",
        "outputId": "07eb8a1e-6274-4dd3-f85d-26b016d4b692"
      },
      "execution_count": 31,
      "outputs": [
        {
          "output_type": "execute_result",
          "data": {
            "text/plain": [
              "SVC(kernel='sigmoid')"
            ]
          },
          "metadata": {},
          "execution_count": 31
        }
      ]
    },
    {
      "cell_type": "code",
      "source": [
        "y_pred_sigmoid = classifier_sigmoid.predict(Xte)"
      ],
      "metadata": {
        "id": "apNxRpdj5mdw"
      },
      "execution_count": 32,
      "outputs": []
    },
    {
      "cell_type": "code",
      "source": [
        "print('accuracy: %f' % ( np.mean(y_pred_sigmoid== yte) ))\n",
        "print(confusion_matrix(yte,y_pred_sigmoid))\n",
        "print(classification_report(yte,y_pred_sigmoid))"
      ],
      "metadata": {
        "colab": {
          "base_uri": "https://localhost:8080/"
        },
        "id": "mFaLqNji8EE-",
        "outputId": "bec69e1b-ae8e-4ec4-c66d-7b4d6c681466"
      },
      "execution_count": 33,
      "outputs": [
        {
          "output_type": "stream",
          "name": "stdout",
          "text": [
            "accuracy: 0.668497\n",
            "[[   0    0    0    0    0   65    0]\n",
            " [   0    0    0    0    0  111    0]\n",
            " [   0    0    0    0    0  212    0]\n",
            " [   0    0    0    0    0   24    0]\n",
            " [   0    0    0    0    0  225    0]\n",
            " [   0    0    0    0    0 1339    0]\n",
            " [   0    0    0    0    0   27    0]]\n",
            "              precision    recall  f1-score   support\n",
            "\n",
            "           0       0.00      0.00      0.00        65\n",
            "           1       0.00      0.00      0.00       111\n",
            "           2       0.00      0.00      0.00       212\n",
            "           3       0.00      0.00      0.00        24\n",
            "           4       0.00      0.00      0.00       225\n",
            "           5       0.67      1.00      0.80      1339\n",
            "           6       0.00      0.00      0.00        27\n",
            "\n",
            "    accuracy                           0.67      2003\n",
            "   macro avg       0.10      0.14      0.11      2003\n",
            "weighted avg       0.45      0.67      0.54      2003\n",
            "\n"
          ]
        },
        {
          "output_type": "stream",
          "name": "stderr",
          "text": [
            "/usr/local/lib/python3.7/dist-packages/sklearn/metrics/_classification.py:1318: UndefinedMetricWarning: Precision and F-score are ill-defined and being set to 0.0 in labels with no predicted samples. Use `zero_division` parameter to control this behavior.\n",
            "  _warn_prf(average, modifier, msg_start, len(result))\n",
            "/usr/local/lib/python3.7/dist-packages/sklearn/metrics/_classification.py:1318: UndefinedMetricWarning: Precision and F-score are ill-defined and being set to 0.0 in labels with no predicted samples. Use `zero_division` parameter to control this behavior.\n",
            "  _warn_prf(average, modifier, msg_start, len(result))\n",
            "/usr/local/lib/python3.7/dist-packages/sklearn/metrics/_classification.py:1318: UndefinedMetricWarning: Precision and F-score are ill-defined and being set to 0.0 in labels with no predicted samples. Use `zero_division` parameter to control this behavior.\n",
            "  _warn_prf(average, modifier, msg_start, len(result))\n"
          ]
        }
      ]
    },
    {
      "cell_type": "code",
      "source": [
        ""
      ],
      "metadata": {
        "id": "llzW5f7I8UGR"
      },
      "execution_count": null,
      "outputs": []
    }
  ]
}