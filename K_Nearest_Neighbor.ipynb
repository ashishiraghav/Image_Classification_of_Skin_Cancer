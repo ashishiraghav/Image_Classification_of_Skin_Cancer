{
  "nbformat": 4,
  "nbformat_minor": 0,
  "metadata": {
    "colab": {
      "name": "K-Nearest Neighbor",
      "provenance": []
    },
    "kernelspec": {
      "name": "python3",
      "display_name": "Python 3"
    },
    "language_info": {
      "name": "python"
    }
  },
  "cells": [
    {
      "cell_type": "markdown",
      "source": [
        "# K-Nearest Neighbor"
      ],
      "metadata": {
        "id": "f5U_C2XBzvX5"
      }
    },
    {
      "cell_type": "markdown",
      "source": [
        "**Note**: All analysis now onwards has been done on Google colab for fast processing with aid of Graphic\n",
        "Processing Unit(GPU).\n"
      ],
      "metadata": {
        "id": "-2OVGwDa0Ouu"
      }
    },
    {
      "cell_type": "code",
      "source": [
        "from google.colab import drive\n",
        "drive.mount('/content/drive')"
      ],
      "metadata": {
        "colab": {
          "base_uri": "https://localhost:8080/"
        },
        "id": "K9cag5fn0XOo",
        "outputId": "672b4445-fc06-4f5c-92ed-607c320b2776"
      },
      "execution_count": null,
      "outputs": [
        {
          "output_type": "stream",
          "name": "stdout",
          "text": [
            "Mounted at /content/drive\n"
          ]
        }
      ]
    },
    {
      "cell_type": "code",
      "source": [
        "\n",
        "import pandas as pd\n",
        "import numpy as np\n",
        "import random\n",
        "random.seed(3)\n"
      ],
      "metadata": {
        "id": "DrCugKG306Bf"
      },
      "execution_count": null,
      "outputs": []
    },
    {
      "cell_type": "code",
      "source": [
        "df3=pd.read_csv(\"/content/drive/MyDrive/df3_final.csv\")"
      ],
      "metadata": {
        "id": "vMfU27142AUv"
      },
      "execution_count": null,
      "outputs": []
    },
    {
      "cell_type": "code",
      "source": [
        "df3.head()"
      ],
      "metadata": {
        "colab": {
          "base_uri": "https://localhost:8080/",
          "height": 300
        },
        "id": "dNluifsm4aX1",
        "outputId": "8bde49ec-f6ce-4fcc-e8c1-23e3a56ec97b"
      },
      "execution_count": null,
      "outputs": [
        {
          "output_type": "execute_result",
          "data": {
            "text/plain": [
              "     lesion_id      image_id   dx dx_type   age   sex localization  Pixel_0  \\\n",
              "0  HAM_0000118  ISIC_0027419  bkl   histo  80.0  male        scalp      187   \n",
              "1  HAM_0000118  ISIC_0025030  bkl   histo  80.0  male        scalp       25   \n",
              "2  HAM_0002730  ISIC_0026769  bkl   histo  80.0  male        scalp      146   \n",
              "3  HAM_0002730  ISIC_0025661  bkl   histo  80.0  male        scalp       27   \n",
              "4  HAM_0001466  ISIC_0031633  bkl   histo  75.0  male          ear      134   \n",
              "\n",
              "   Pixel_1  Pixel_2  ...  Pixel_3063  Pixel_3064  Pixel_3065  Pixel_3066  \\\n",
              "0      148      190  ...         154         132         178         167   \n",
              "1       14       23  ...          43          26          42          27   \n",
              "2      133      186  ...         143         128         160         139   \n",
              "3       16       31  ...          22          16          29          16   \n",
              "4      110      153  ...         179         161         202         132   \n",
              "\n",
              "   Pixel_3067  Pixel_3068  Pixel_3069  Pixel_3070  Pixel_3071  label  \n",
              "0         150         183         177         153         185      2  \n",
              "1          14          24          28          15          25      2  \n",
              "2         117         151         116         105         134      2  \n",
              "3          12          26          16          12          24      2  \n",
              "4         122         158          84          69         101      2  \n",
              "\n",
              "[5 rows x 3080 columns]"
            ],
            "text/html": [
              "\n",
              "  <div id=\"df-cec12eed-cb36-4eab-a625-2e2ab39c8cd7\">\n",
              "    <div class=\"colab-df-container\">\n",
              "      <div>\n",
              "<style scoped>\n",
              "    .dataframe tbody tr th:only-of-type {\n",
              "        vertical-align: middle;\n",
              "    }\n",
              "\n",
              "    .dataframe tbody tr th {\n",
              "        vertical-align: top;\n",
              "    }\n",
              "\n",
              "    .dataframe thead th {\n",
              "        text-align: right;\n",
              "    }\n",
              "</style>\n",
              "<table border=\"1\" class=\"dataframe\">\n",
              "  <thead>\n",
              "    <tr style=\"text-align: right;\">\n",
              "      <th></th>\n",
              "      <th>lesion_id</th>\n",
              "      <th>image_id</th>\n",
              "      <th>dx</th>\n",
              "      <th>dx_type</th>\n",
              "      <th>age</th>\n",
              "      <th>sex</th>\n",
              "      <th>localization</th>\n",
              "      <th>Pixel_0</th>\n",
              "      <th>Pixel_1</th>\n",
              "      <th>Pixel_2</th>\n",
              "      <th>...</th>\n",
              "      <th>Pixel_3063</th>\n",
              "      <th>Pixel_3064</th>\n",
              "      <th>Pixel_3065</th>\n",
              "      <th>Pixel_3066</th>\n",
              "      <th>Pixel_3067</th>\n",
              "      <th>Pixel_3068</th>\n",
              "      <th>Pixel_3069</th>\n",
              "      <th>Pixel_3070</th>\n",
              "      <th>Pixel_3071</th>\n",
              "      <th>label</th>\n",
              "    </tr>\n",
              "  </thead>\n",
              "  <tbody>\n",
              "    <tr>\n",
              "      <th>0</th>\n",
              "      <td>HAM_0000118</td>\n",
              "      <td>ISIC_0027419</td>\n",
              "      <td>bkl</td>\n",
              "      <td>histo</td>\n",
              "      <td>80.0</td>\n",
              "      <td>male</td>\n",
              "      <td>scalp</td>\n",
              "      <td>187</td>\n",
              "      <td>148</td>\n",
              "      <td>190</td>\n",
              "      <td>...</td>\n",
              "      <td>154</td>\n",
              "      <td>132</td>\n",
              "      <td>178</td>\n",
              "      <td>167</td>\n",
              "      <td>150</td>\n",
              "      <td>183</td>\n",
              "      <td>177</td>\n",
              "      <td>153</td>\n",
              "      <td>185</td>\n",
              "      <td>2</td>\n",
              "    </tr>\n",
              "    <tr>\n",
              "      <th>1</th>\n",
              "      <td>HAM_0000118</td>\n",
              "      <td>ISIC_0025030</td>\n",
              "      <td>bkl</td>\n",
              "      <td>histo</td>\n",
              "      <td>80.0</td>\n",
              "      <td>male</td>\n",
              "      <td>scalp</td>\n",
              "      <td>25</td>\n",
              "      <td>14</td>\n",
              "      <td>23</td>\n",
              "      <td>...</td>\n",
              "      <td>43</td>\n",
              "      <td>26</td>\n",
              "      <td>42</td>\n",
              "      <td>27</td>\n",
              "      <td>14</td>\n",
              "      <td>24</td>\n",
              "      <td>28</td>\n",
              "      <td>15</td>\n",
              "      <td>25</td>\n",
              "      <td>2</td>\n",
              "    </tr>\n",
              "    <tr>\n",
              "      <th>2</th>\n",
              "      <td>HAM_0002730</td>\n",
              "      <td>ISIC_0026769</td>\n",
              "      <td>bkl</td>\n",
              "      <td>histo</td>\n",
              "      <td>80.0</td>\n",
              "      <td>male</td>\n",
              "      <td>scalp</td>\n",
              "      <td>146</td>\n",
              "      <td>133</td>\n",
              "      <td>186</td>\n",
              "      <td>...</td>\n",
              "      <td>143</td>\n",
              "      <td>128</td>\n",
              "      <td>160</td>\n",
              "      <td>139</td>\n",
              "      <td>117</td>\n",
              "      <td>151</td>\n",
              "      <td>116</td>\n",
              "      <td>105</td>\n",
              "      <td>134</td>\n",
              "      <td>2</td>\n",
              "    </tr>\n",
              "    <tr>\n",
              "      <th>3</th>\n",
              "      <td>HAM_0002730</td>\n",
              "      <td>ISIC_0025661</td>\n",
              "      <td>bkl</td>\n",
              "      <td>histo</td>\n",
              "      <td>80.0</td>\n",
              "      <td>male</td>\n",
              "      <td>scalp</td>\n",
              "      <td>27</td>\n",
              "      <td>16</td>\n",
              "      <td>31</td>\n",
              "      <td>...</td>\n",
              "      <td>22</td>\n",
              "      <td>16</td>\n",
              "      <td>29</td>\n",
              "      <td>16</td>\n",
              "      <td>12</td>\n",
              "      <td>26</td>\n",
              "      <td>16</td>\n",
              "      <td>12</td>\n",
              "      <td>24</td>\n",
              "      <td>2</td>\n",
              "    </tr>\n",
              "    <tr>\n",
              "      <th>4</th>\n",
              "      <td>HAM_0001466</td>\n",
              "      <td>ISIC_0031633</td>\n",
              "      <td>bkl</td>\n",
              "      <td>histo</td>\n",
              "      <td>75.0</td>\n",
              "      <td>male</td>\n",
              "      <td>ear</td>\n",
              "      <td>134</td>\n",
              "      <td>110</td>\n",
              "      <td>153</td>\n",
              "      <td>...</td>\n",
              "      <td>179</td>\n",
              "      <td>161</td>\n",
              "      <td>202</td>\n",
              "      <td>132</td>\n",
              "      <td>122</td>\n",
              "      <td>158</td>\n",
              "      <td>84</td>\n",
              "      <td>69</td>\n",
              "      <td>101</td>\n",
              "      <td>2</td>\n",
              "    </tr>\n",
              "  </tbody>\n",
              "</table>\n",
              "<p>5 rows × 3080 columns</p>\n",
              "</div>\n",
              "      <button class=\"colab-df-convert\" onclick=\"convertToInteractive('df-cec12eed-cb36-4eab-a625-2e2ab39c8cd7')\"\n",
              "              title=\"Convert this dataframe to an interactive table.\"\n",
              "              style=\"display:none;\">\n",
              "        \n",
              "  <svg xmlns=\"http://www.w3.org/2000/svg\" height=\"24px\"viewBox=\"0 0 24 24\"\n",
              "       width=\"24px\">\n",
              "    <path d=\"M0 0h24v24H0V0z\" fill=\"none\"/>\n",
              "    <path d=\"M18.56 5.44l.94 2.06.94-2.06 2.06-.94-2.06-.94-.94-2.06-.94 2.06-2.06.94zm-11 1L8.5 8.5l.94-2.06 2.06-.94-2.06-.94L8.5 2.5l-.94 2.06-2.06.94zm10 10l.94 2.06.94-2.06 2.06-.94-2.06-.94-.94-2.06-.94 2.06-2.06.94z\"/><path d=\"M17.41 7.96l-1.37-1.37c-.4-.4-.92-.59-1.43-.59-.52 0-1.04.2-1.43.59L10.3 9.45l-7.72 7.72c-.78.78-.78 2.05 0 2.83L4 21.41c.39.39.9.59 1.41.59.51 0 1.02-.2 1.41-.59l7.78-7.78 2.81-2.81c.8-.78.8-2.07 0-2.86zM5.41 20L4 18.59l7.72-7.72 1.47 1.35L5.41 20z\"/>\n",
              "  </svg>\n",
              "      </button>\n",
              "      \n",
              "  <style>\n",
              "    .colab-df-container {\n",
              "      display:flex;\n",
              "      flex-wrap:wrap;\n",
              "      gap: 12px;\n",
              "    }\n",
              "\n",
              "    .colab-df-convert {\n",
              "      background-color: #E8F0FE;\n",
              "      border: none;\n",
              "      border-radius: 50%;\n",
              "      cursor: pointer;\n",
              "      display: none;\n",
              "      fill: #1967D2;\n",
              "      height: 32px;\n",
              "      padding: 0 0 0 0;\n",
              "      width: 32px;\n",
              "    }\n",
              "\n",
              "    .colab-df-convert:hover {\n",
              "      background-color: #E2EBFA;\n",
              "      box-shadow: 0px 1px 2px rgba(60, 64, 67, 0.3), 0px 1px 3px 1px rgba(60, 64, 67, 0.15);\n",
              "      fill: #174EA6;\n",
              "    }\n",
              "\n",
              "    [theme=dark] .colab-df-convert {\n",
              "      background-color: #3B4455;\n",
              "      fill: #D2E3FC;\n",
              "    }\n",
              "\n",
              "    [theme=dark] .colab-df-convert:hover {\n",
              "      background-color: #434B5C;\n",
              "      box-shadow: 0px 1px 3px 1px rgba(0, 0, 0, 0.15);\n",
              "      filter: drop-shadow(0px 1px 2px rgba(0, 0, 0, 0.3));\n",
              "      fill: #FFFFFF;\n",
              "    }\n",
              "  </style>\n",
              "\n",
              "      <script>\n",
              "        const buttonEl =\n",
              "          document.querySelector('#df-cec12eed-cb36-4eab-a625-2e2ab39c8cd7 button.colab-df-convert');\n",
              "        buttonEl.style.display =\n",
              "          google.colab.kernel.accessAllowed ? 'block' : 'none';\n",
              "\n",
              "        async function convertToInteractive(key) {\n",
              "          const element = document.querySelector('#df-cec12eed-cb36-4eab-a625-2e2ab39c8cd7');\n",
              "          const dataTable =\n",
              "            await google.colab.kernel.invokeFunction('convertToInteractive',\n",
              "                                                     [key], {});\n",
              "          if (!dataTable) return;\n",
              "\n",
              "          const docLinkHtml = 'Like what you see? Visit the ' +\n",
              "            '<a target=\"_blank\" href=https://colab.research.google.com/notebooks/data_table.ipynb>data table notebook</a>'\n",
              "            + ' to learn more about interactive tables.';\n",
              "          element.innerHTML = '';\n",
              "          dataTable['output_type'] = 'display_data';\n",
              "          await google.colab.output.renderOutput(dataTable, element);\n",
              "          const docLink = document.createElement('div');\n",
              "          docLink.innerHTML = docLinkHtml;\n",
              "          element.appendChild(docLink);\n",
              "        }\n",
              "      </script>\n",
              "    </div>\n",
              "  </div>\n",
              "  "
            ]
          },
          "metadata": {},
          "execution_count": 5
        }
      ]
    },
    {
      "cell_type": "code",
      "source": [
        "X = df3.iloc[:,7:3079].values\n",
        "y = df3.iloc[:, 3079].values\n"
      ],
      "metadata": {
        "id": "lljQ9xjq4ftt"
      },
      "execution_count": null,
      "outputs": []
    },
    {
      "cell_type": "code",
      "source": [
        "from sklearn.model_selection import train_test_split"
      ],
      "metadata": {
        "id": "yL9ORe344pWl"
      },
      "execution_count": null,
      "outputs": []
    },
    {
      "cell_type": "code",
      "source": [
        "Xtr, Xte, ytr, yte = train_test_split(X, y, test_size=0.20,random_state=30)\n"
      ],
      "metadata": {
        "id": "zuf5V1Al4xq8"
      },
      "execution_count": null,
      "outputs": []
    },
    {
      "cell_type": "code",
      "source": [
        "Xtr"
      ],
      "metadata": {
        "colab": {
          "base_uri": "https://localhost:8080/"
        },
        "id": "QZWwhQl4446l",
        "outputId": "ec54d86d-f399-49d2-cfdb-43a5e16bb6f3"
      },
      "execution_count": null,
      "outputs": [
        {
          "output_type": "execute_result",
          "data": {
            "text/plain": [
              "array([[123, 109, 167, ..., 124, 123, 184],\n",
              "       [149, 109, 164, ..., 172, 145, 175],\n",
              "       [134, 140, 169, ..., 130, 132, 162],\n",
              "       ...,\n",
              "       [146, 136, 172, ..., 152, 144, 180],\n",
              "       [134, 133, 201, ..., 141, 148, 194],\n",
              "       [183, 172, 246, ..., 179, 177, 244]])"
            ]
          },
          "metadata": {},
          "execution_count": 10
        }
      ]
    },
    {
      "cell_type": "code",
      "source": [
        "Xte"
      ],
      "metadata": {
        "colab": {
          "base_uri": "https://localhost:8080/"
        },
        "id": "ZYaxJyvd5WhN",
        "outputId": "2a0b5be2-4bc1-4367-8f18-961b7e2633f5"
      },
      "execution_count": null,
      "outputs": [
        {
          "output_type": "execute_result",
          "data": {
            "text/plain": [
              "array([[158, 163, 192, ..., 159, 162, 185],\n",
              "       [171, 149, 236, ..., 163, 154, 222],\n",
              "       [ 16,  16,  26, ...,  66,  58,  80],\n",
              "       ...,\n",
              "       [176, 155, 241, ..., 167, 156, 227],\n",
              "       [203, 182, 231, ..., 198, 185, 230],\n",
              "       [ 35,  32,  50, ..., 112, 120, 137]])"
            ]
          },
          "metadata": {},
          "execution_count": 11
        }
      ]
    },
    {
      "cell_type": "code",
      "source": [
        "ytr"
      ],
      "metadata": {
        "colab": {
          "base_uri": "https://localhost:8080/"
        },
        "id": "wL9eaRJa5Yc1",
        "outputId": "5dce4e31-a43e-4d24-ecfd-da3600214b0d"
      },
      "execution_count": null,
      "outputs": [
        {
          "output_type": "execute_result",
          "data": {
            "text/plain": [
              "array([4, 2, 5, ..., 2, 5, 5])"
            ]
          },
          "metadata": {},
          "execution_count": 12
        }
      ]
    },
    {
      "cell_type": "code",
      "source": [
        "yte"
      ],
      "metadata": {
        "colab": {
          "base_uri": "https://localhost:8080/"
        },
        "id": "bi18LyT75bre",
        "outputId": "e190a2cd-61aa-4cdc-c718-c63ef1bae2d1"
      },
      "execution_count": null,
      "outputs": [
        {
          "output_type": "execute_result",
          "data": {
            "text/plain": [
              "array([5, 5, 2, ..., 5, 5, 3])"
            ]
          },
          "metadata": {},
          "execution_count": 13
        }
      ]
    },
    {
      "cell_type": "code",
      "source": [
        "Xtr_rows = Xtr.reshape(Xtr.shape[0], 32 * 32 * 3)\n",
        "Xte_rows = Xte.reshape(Xte.shape[0], 32 * 32 * 3)\n"
      ],
      "metadata": {
        "id": "ZLX4Q7N95dLn"
      },
      "execution_count": null,
      "outputs": []
    },
    {
      "cell_type": "code",
      "source": [
        " Xtr_rows"
      ],
      "metadata": {
        "colab": {
          "base_uri": "https://localhost:8080/"
        },
        "id": "JlUH4Jqc5uVG",
        "outputId": "cafd7e65-2761-4118-e548-6e3ff3bf9e1a"
      },
      "execution_count": null,
      "outputs": [
        {
          "output_type": "execute_result",
          "data": {
            "text/plain": [
              "array([[123, 109, 167, ..., 124, 123, 184],\n",
              "       [149, 109, 164, ..., 172, 145, 175],\n",
              "       [134, 140, 169, ..., 130, 132, 162],\n",
              "       ...,\n",
              "       [146, 136, 172, ..., 152, 144, 180],\n",
              "       [134, 133, 201, ..., 141, 148, 194],\n",
              "       [183, 172, 246, ..., 179, 177, 244]])"
            ]
          },
          "metadata": {},
          "execution_count": 15
        }
      ]
    },
    {
      "cell_type": "code",
      "source": [
        "class NearestNeighbor(object):\n",
        "  def __init__(self):\n",
        "    pass\n",
        "  def train(self, X, y):\n",
        "    \"\"\" X is N x D where each row is an example. Y is 1-dimension of size N \"\"\"\n",
        "     # the nearest neighbor classifier simply remembers all the training data\n",
        "    self.Xtr = X\n",
        "    self.ytr = y\n",
        "  def predict(self, X):\n",
        "    \"\"\" X is N x D where each row is an example we wish to predict label for \"\"\"\n",
        "    num_test = X.shape[0]\n",
        "    # lets make sure that the output type matches the input type\n",
        "    Ypred = np.zeros(num_test, dtype = self.ytr.dtype)\n",
        "    # loop over all test rows\n",
        "    for i in range(num_test):\n",
        "      # find the nearest training image to the i'th test image\n",
        "      # using the L1 distance (sum of absolute value differences)\n",
        "      distances = np.sum(np.abs(self.Xtr - X[i,:]), axis = 1)\n",
        "      min_index = np.argmin(distances) # get the index with smallest distance\n",
        "      Ypred[i] = self.ytr[min_index] # predict the label of the nearest example\n",
        "    return Ypred\n"
      ],
      "metadata": {
        "id": "_5OHFsy_5yol"
      },
      "execution_count": null,
      "outputs": []
    },
    {
      "cell_type": "code",
      "source": [
        "nn = NearestNeighbor() # create a Nearest Neighbor classifier class\n",
        "nn.train(Xtr_rows, ytr) # train the classifier on the training images and labels\n",
        "Yte_predict = nn.predict(Xte_rows) # predict labels on the test images\n",
        "# and now print the classification accuracy, which is the average number\n",
        "# of examples that are correctly predicted (i.e. label matches)\n",
        "print('accuracy: %f' % ( np.mean(Yte_predict == yte) ))\n"
      ],
      "metadata": {
        "colab": {
          "base_uri": "https://localhost:8080/"
        },
        "id": "przhtinL7Ge2",
        "outputId": "496ffc33-7190-4e02-db07-ee6e3bf8ac18"
      },
      "execution_count": null,
      "outputs": [
        {
          "output_type": "stream",
          "name": "stdout",
          "text": [
            "accuracy: 0.693959\n"
          ]
        }
      ]
    },
    {
      "cell_type": "code",
      "source": [
        "Accuracy=np.mean(Yte_predict == yte)\n",
        "Accuracy"
      ],
      "metadata": {
        "colab": {
          "base_uri": "https://localhost:8080/"
        },
        "id": "u2KIN-ie7Q2F",
        "outputId": "54dd60fb-11af-4688-9a65-2dfcda7cd302"
      },
      "execution_count": null,
      "outputs": [
        {
          "output_type": "execute_result",
          "data": {
            "text/plain": [
              "0.6939590614078882"
            ]
          },
          "metadata": {},
          "execution_count": 18
        }
      ]
    },
    {
      "cell_type": "code",
      "source": [
        "# Python script for confusion matrix creation. \n",
        "from sklearn.metrics import confusion_matrix\n",
        "from sklearn.metrics import accuracy_score\n",
        "from sklearn.metrics import classification_report\n",
        " \n",
        "results = confusion_matrix(yte, Yte_predict)\n",
        "print ('Confusion Matrix :')\n",
        "print(results)\n",
        "print ('Accuracy Score :',accuracy_score(yte, Yte_predict))\n",
        "print ('Report : ',classification_report(yte, Yte_predict))\n"
      ],
      "metadata": {
        "colab": {
          "base_uri": "https://localhost:8080/"
        },
        "id": "Nvr-lyCZ8jNd",
        "outputId": "9e7cb49d-26a8-4b35-c7fd-1ea08cff5b66"
      },
      "execution_count": null,
      "outputs": [
        {
          "output_type": "stream",
          "name": "stdout",
          "text": [
            "Confusion Matrix :\n",
            "[[   9    8   20    2    1   20    5]\n",
            " [   5   36   16    2    3   41    8]\n",
            " [   6    9   74    4   12  100    7]\n",
            " [   0    2    5    2    0   13    2]\n",
            " [   2   12   27    1   51  130    2]\n",
            " [   1   17   47    2   46 1211   15]\n",
            " [   0    1    3    0    0   16    7]]\n",
            "Accuracy Score : 0.6939590614078882\n",
            "Report :                precision    recall  f1-score   support\n",
            "\n",
            "           0       0.39      0.14      0.20        65\n",
            "           1       0.42      0.32      0.37       111\n",
            "           2       0.39      0.35      0.37       212\n",
            "           3       0.15      0.08      0.11        24\n",
            "           4       0.45      0.23      0.30       225\n",
            "           5       0.79      0.90      0.84      1339\n",
            "           6       0.15      0.26      0.19        27\n",
            "\n",
            "    accuracy                           0.69      2003\n",
            "   macro avg       0.39      0.33      0.34      2003\n",
            "weighted avg       0.66      0.69      0.67      2003\n",
            "\n"
          ]
        }
      ]
    },
    {
      "cell_type": "code",
      "source": [
        "class NearestNeighbor1(object):\n",
        "  def __init__(self):\n",
        "    pass\n",
        "  def train(self, X, y):\n",
        "    \"\"\" X is N x D where each row is an example. Y is 1-dimension of size N \"\"\"\n",
        "    # the nearest neighbor classifier simply remembers all the training data\n",
        "    self.Xtr = X\n",
        "    self.ytr = y\n",
        "  def predict(self, X):\n",
        "    \"\"\" X is N x D where each row is an example we wish to predict label for \"\"\"\n",
        "    num_test = X.shape[0]\n",
        "    # lets make sure that the output type matches the input type\n",
        "    Ypred = np.zeros(num_test, dtype = self.ytr.dtype)\n",
        "    # loop over all test rows\n",
        "    for i in range(num_test):\n",
        "      # find the nearest training image to the i'th test image\n",
        "      # using the L2 distance (sqaured sum of absolute value differences)\n",
        "      distances = np.sqrt(np.sum(np.square(self.Xtr - X[i,:]), axis =1))\n",
        "      min_index = np.argmin(distances) # get the index with smallest distance\n",
        "      Ypred[i] = self.ytr[min_index] # predict the label of the nearest example\n",
        "    return Ypred\n"
      ],
      "metadata": {
        "id": "PVg4H_5v9LD0"
      },
      "execution_count": null,
      "outputs": []
    },
    {
      "cell_type": "code",
      "source": [
        "nn1 = NearestNeighbor1() # create a Nearest Neighbor classifier class\n",
        "nn1.train(Xtr_rows, ytr) # train the classifier on the training imagesand labels\n",
        "Yte_predict1 = nn1.predict(Xte_rows) # predict labels on the test images\n",
        "# and now print the classification accuracy, which is the average number\n",
        "# of examples that are correctly predicted (i.e. label matches)\n",
        "print('accuracy: %f' % ( np.mean(Yte_predict1 == yte) ))"
      ],
      "metadata": {
        "colab": {
          "base_uri": "https://localhost:8080/"
        },
        "id": "fUQquOAT-01T",
        "outputId": "764e462d-f6b1-4c61-c6e0-e697b4b77d00"
      },
      "execution_count": null,
      "outputs": [
        {
          "output_type": "stream",
          "name": "stdout",
          "text": [
            "accuracy: 0.686970\n"
          ]
        }
      ]
    },
    {
      "cell_type": "code",
      "source": [
        "Accuracy1=np.mean(Yte_predict1 == yte)\n",
        "Accuracy1\n"
      ],
      "metadata": {
        "colab": {
          "base_uri": "https://localhost:8080/"
        },
        "id": "ceK11WwJ_DsN",
        "outputId": "9f46b8a4-a1a9-4274-8aca-5171883ec2ff"
      },
      "execution_count": null,
      "outputs": [
        {
          "output_type": "execute_result",
          "data": {
            "text/plain": [
              "0.6869695456814778"
            ]
          },
          "metadata": {},
          "execution_count": 22
        }
      ]
    },
    {
      "cell_type": "code",
      "source": [
        "results1 = confusion_matrix(yte, Yte_predict1)\n",
        "print ('Confusion Matrix :')\n",
        "print(results1)\n",
        "print ('Accuracy Score :',accuracy_score(yte, Yte_predict1))\n",
        "print ('Report : ',classification_report(yte, Yte_predict1))"
      ],
      "metadata": {
        "colab": {
          "base_uri": "https://localhost:8080/"
        },
        "id": "9KhRwYoGAGt0",
        "outputId": "81a2a34f-4411-40ff-83fd-29fc36f15649"
      },
      "execution_count": null,
      "outputs": [
        {
          "output_type": "stream",
          "name": "stdout",
          "text": [
            "Confusion Matrix :\n",
            "[[   8   12   20    1    0   18    6]\n",
            " [   4   32   18    4    2   44    7]\n",
            " [   6    9   85    7   11   91    3]\n",
            " [   2    5    5    2    0   10    0]\n",
            " [   3    8   34    2   51  125    2]\n",
            " [   1   24   72    3   35 1192   12]\n",
            " [   0    3    2    0    0   16    6]]\n",
            "Accuracy Score : 0.6869695456814778\n",
            "Report :                precision    recall  f1-score   support\n",
            "\n",
            "           0       0.33      0.12      0.18        65\n",
            "           1       0.34      0.29      0.31       111\n",
            "           2       0.36      0.40      0.38       212\n",
            "           3       0.11      0.08      0.09        24\n",
            "           4       0.52      0.23      0.31       225\n",
            "           5       0.80      0.89      0.84      1339\n",
            "           6       0.17      0.22      0.19        27\n",
            "\n",
            "    accuracy                           0.69      2003\n",
            "   macro avg       0.37      0.32      0.33      2003\n",
            "weighted avg       0.66      0.69      0.66      2003\n",
            "\n"
          ]
        }
      ]
    },
    {
      "cell_type": "code",
      "source": [
        ""
      ],
      "metadata": {
        "id": "6wIA2Co2APOU"
      },
      "execution_count": null,
      "outputs": []
    }
  ]
}